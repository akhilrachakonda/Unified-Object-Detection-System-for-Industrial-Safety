{
 "cells": [
  {
   "cell_type": "code",
   "execution_count": 1,
   "id": "77ba1898-0d88-4f9b-905f-ab4436b23b8f",
   "metadata": {},
   "outputs": [
    {
     "name": "stdout",
     "output_type": "stream",
     "text": [
      "Requirement already satisfied: ultralytics in /opt/anaconda3/lib/python3.12/site-packages (8.3.136)\n",
      "Requirement already satisfied: numpy>=1.23.0 in /opt/anaconda3/lib/python3.12/site-packages (from ultralytics) (1.26.4)\n",
      "Requirement already satisfied: matplotlib>=3.3.0 in /opt/anaconda3/lib/python3.12/site-packages (from ultralytics) (3.8.4)\n",
      "Requirement already satisfied: opencv-python>=4.6.0 in /opt/anaconda3/lib/python3.12/site-packages (from ultralytics) (4.11.0.86)\n",
      "Requirement already satisfied: pillow>=7.1.2 in /opt/anaconda3/lib/python3.12/site-packages (from ultralytics) (10.3.0)\n",
      "Requirement already satisfied: pyyaml>=5.3.1 in /opt/anaconda3/lib/python3.12/site-packages (from ultralytics) (6.0.1)\n",
      "Requirement already satisfied: requests>=2.23.0 in /opt/anaconda3/lib/python3.12/site-packages (from ultralytics) (2.32.2)\n",
      "Requirement already satisfied: scipy>=1.4.1 in /opt/anaconda3/lib/python3.12/site-packages (from ultralytics) (1.13.1)\n",
      "Requirement already satisfied: torch>=1.8.0 in /opt/anaconda3/lib/python3.12/site-packages (from ultralytics) (2.6.0)\n",
      "Requirement already satisfied: torchvision>=0.9.0 in /opt/anaconda3/lib/python3.12/site-packages (from ultralytics) (0.21.0)\n",
      "Requirement already satisfied: tqdm>=4.64.0 in /opt/anaconda3/lib/python3.12/site-packages (from ultralytics) (4.66.4)\n",
      "Requirement already satisfied: psutil in /opt/anaconda3/lib/python3.12/site-packages (from ultralytics) (5.9.0)\n",
      "Requirement already satisfied: py-cpuinfo in /opt/anaconda3/lib/python3.12/site-packages (from ultralytics) (9.0.0)\n",
      "Requirement already satisfied: pandas>=1.1.4 in /opt/anaconda3/lib/python3.12/site-packages (from ultralytics) (2.2.2)\n",
      "Requirement already satisfied: ultralytics-thop>=2.0.0 in /opt/anaconda3/lib/python3.12/site-packages (from ultralytics) (2.0.14)\n",
      "Requirement already satisfied: contourpy>=1.0.1 in /opt/anaconda3/lib/python3.12/site-packages (from matplotlib>=3.3.0->ultralytics) (1.2.0)\n",
      "Requirement already satisfied: cycler>=0.10 in /opt/anaconda3/lib/python3.12/site-packages (from matplotlib>=3.3.0->ultralytics) (0.11.0)\n",
      "Requirement already satisfied: fonttools>=4.22.0 in /opt/anaconda3/lib/python3.12/site-packages (from matplotlib>=3.3.0->ultralytics) (4.51.0)\n",
      "Requirement already satisfied: kiwisolver>=1.3.1 in /opt/anaconda3/lib/python3.12/site-packages (from matplotlib>=3.3.0->ultralytics) (1.4.4)\n",
      "Requirement already satisfied: packaging>=20.0 in /opt/anaconda3/lib/python3.12/site-packages (from matplotlib>=3.3.0->ultralytics) (23.2)\n",
      "Requirement already satisfied: pyparsing>=2.3.1 in /opt/anaconda3/lib/python3.12/site-packages (from matplotlib>=3.3.0->ultralytics) (3.0.9)\n",
      "Requirement already satisfied: python-dateutil>=2.7 in /opt/anaconda3/lib/python3.12/site-packages (from matplotlib>=3.3.0->ultralytics) (2.9.0.post0)\n",
      "Requirement already satisfied: pytz>=2020.1 in /opt/anaconda3/lib/python3.12/site-packages (from pandas>=1.1.4->ultralytics) (2024.1)\n",
      "Requirement already satisfied: tzdata>=2022.7 in /opt/anaconda3/lib/python3.12/site-packages (from pandas>=1.1.4->ultralytics) (2023.3)\n",
      "Requirement already satisfied: charset-normalizer<4,>=2 in /opt/anaconda3/lib/python3.12/site-packages (from requests>=2.23.0->ultralytics) (2.0.4)\n",
      "Requirement already satisfied: idna<4,>=2.5 in /opt/anaconda3/lib/python3.12/site-packages (from requests>=2.23.0->ultralytics) (3.7)\n",
      "Requirement already satisfied: urllib3<3,>=1.21.1 in /opt/anaconda3/lib/python3.12/site-packages (from requests>=2.23.0->ultralytics) (2.2.2)\n",
      "Requirement already satisfied: certifi>=2017.4.17 in /opt/anaconda3/lib/python3.12/site-packages (from requests>=2.23.0->ultralytics) (2025.1.31)\n",
      "Requirement already satisfied: filelock in /opt/anaconda3/lib/python3.12/site-packages (from torch>=1.8.0->ultralytics) (3.13.1)\n",
      "Requirement already satisfied: typing-extensions>=4.10.0 in /opt/anaconda3/lib/python3.12/site-packages (from torch>=1.8.0->ultralytics) (4.12.2)\n",
      "Requirement already satisfied: networkx in /opt/anaconda3/lib/python3.12/site-packages (from torch>=1.8.0->ultralytics) (3.2.1)\n",
      "Requirement already satisfied: jinja2 in /opt/anaconda3/lib/python3.12/site-packages (from torch>=1.8.0->ultralytics) (3.1.4)\n",
      "Requirement already satisfied: fsspec in /opt/anaconda3/lib/python3.12/site-packages (from torch>=1.8.0->ultralytics) (2024.3.1)\n",
      "Requirement already satisfied: setuptools in /opt/anaconda3/lib/python3.12/site-packages (from torch>=1.8.0->ultralytics) (69.5.1)\n",
      "Requirement already satisfied: sympy==1.13.1 in /opt/anaconda3/lib/python3.12/site-packages (from torch>=1.8.0->ultralytics) (1.13.1)\n",
      "Requirement already satisfied: mpmath<1.4,>=1.1.0 in /opt/anaconda3/lib/python3.12/site-packages (from sympy==1.13.1->torch>=1.8.0->ultralytics) (1.3.0)\n",
      "Requirement already satisfied: six>=1.5 in /opt/anaconda3/lib/python3.12/site-packages (from python-dateutil>=2.7->matplotlib>=3.3.0->ultralytics) (1.16.0)\n",
      "Requirement already satisfied: MarkupSafe>=2.0 in /opt/anaconda3/lib/python3.12/site-packages (from jinja2->torch>=1.8.0->ultralytics) (2.1.3)\n"
     ]
    }
   ],
   "source": [
    "!pip install ultralytics\n"
   ]
  },
  {
   "cell_type": "code",
   "execution_count": 3,
   "id": "9ee50fbf-f27d-44cb-af03-edc286d79545",
   "metadata": {},
   "outputs": [
    {
     "name": "stdout",
     "output_type": "stream",
     "text": [
      "Downloading https://github.com/ultralytics/assets/releases/download/v8.3.0/yolov8n.pt to 'yolov8n.pt'...\n"
     ]
    },
    {
     "name": "stderr",
     "output_type": "stream",
     "text": [
      "100%|██████████████████████████████████████| 6.25M/6.25M [00:00<00:00, 7.51MB/s]\n"
     ]
    },
    {
     "name": "stdout",
     "output_type": "stream",
     "text": [
      "New https://pypi.org/project/ultralytics/8.3.142 available 😃 Update with 'pip install -U ultralytics'\n",
      "Ultralytics 8.3.136 🚀 Python-3.12.4 torch-2.6.0 CPU (Apple M2)\n",
      "\u001b[34m\u001b[1mengine/trainer: \u001b[0magnostic_nms=False, amp=True, augment=True, auto_augment=randaugment, batch=16, bgr=0.0, box=7.5, cache=True, cfg=None, classes=None, close_mosaic=10, cls=0.5, conf=None, copy_paste=0.0, copy_paste_mode=flip, cos_lr=True, cutmix=0.0, data=augmented.yml, degrees=0.0, deterministic=True, device=cpu, dfl=1.5, dnn=False, dropout=0.1, dynamic=False, embed=None, epochs=100, erasing=0.4, exist_ok=False, fliplr=0.5, flipud=0.0, format=torchscript, fraction=1.0, freeze=None, half=False, hsv_h=0.015, hsv_s=0.7, hsv_v=0.4, imgsz=640, int8=False, iou=0.7, keras=False, kobj=1.0, line_width=None, lr0=0.001, lrf=0.01, mask_ratio=4, max_det=300, mixup=0.2, mode=train, model=yolov8n.pt, momentum=0.937, mosaic=1.0, multi_scale=False, name=unified_yolov8_augmented_v1n, nbs=64, nms=False, opset=None, optimize=False, optimizer=SGD, overlap_mask=True, patience=15, perspective=0.0, plots=True, pose=12.0, pretrained=True, profile=False, project=None, rect=False, resume=False, retina_masks=False, save=True, save_conf=False, save_crop=False, save_dir=runs/detect/unified_yolov8_augmented_v1n, save_frames=False, save_json=False, save_period=10, save_txt=False, scale=0.5, seed=0, shear=0.0, show=False, show_boxes=True, show_conf=True, show_labels=True, simplify=True, single_cls=False, source=None, split=val, stream_buffer=False, task=detect, time=None, tracker=botsort.yaml, translate=0.1, val=True, verbose=True, vid_stride=1, visualize=False, warmup_bias_lr=0.1, warmup_epochs=3, warmup_momentum=0.8, weight_decay=0.0005, workers=8, workspace=None\n",
      "Overriding model.yaml nc=80 with nc=4\n",
      "\n",
      "                   from  n    params  module                                       arguments                     \n",
      "  0                  -1  1       464  ultralytics.nn.modules.conv.Conv             [3, 16, 3, 2]                 \n",
      "  1                  -1  1      4672  ultralytics.nn.modules.conv.Conv             [16, 32, 3, 2]                \n",
      "  2                  -1  1      7360  ultralytics.nn.modules.block.C2f             [32, 32, 1, True]             \n",
      "  3                  -1  1     18560  ultralytics.nn.modules.conv.Conv             [32, 64, 3, 2]                \n",
      "  4                  -1  2     49664  ultralytics.nn.modules.block.C2f             [64, 64, 2, True]             \n",
      "  5                  -1  1     73984  ultralytics.nn.modules.conv.Conv             [64, 128, 3, 2]               \n",
      "  6                  -1  2    197632  ultralytics.nn.modules.block.C2f             [128, 128, 2, True]           \n",
      "  7                  -1  1    295424  ultralytics.nn.modules.conv.Conv             [128, 256, 3, 2]              \n",
      "  8                  -1  1    460288  ultralytics.nn.modules.block.C2f             [256, 256, 1, True]           \n",
      "  9                  -1  1    164608  ultralytics.nn.modules.block.SPPF            [256, 256, 5]                 \n",
      " 10                  -1  1         0  torch.nn.modules.upsampling.Upsample         [None, 2, 'nearest']          \n",
      " 11             [-1, 6]  1         0  ultralytics.nn.modules.conv.Concat           [1]                           \n",
      " 12                  -1  1    148224  ultralytics.nn.modules.block.C2f             [384, 128, 1]                 \n",
      " 13                  -1  1         0  torch.nn.modules.upsampling.Upsample         [None, 2, 'nearest']          \n",
      " 14             [-1, 4]  1         0  ultralytics.nn.modules.conv.Concat           [1]                           \n",
      " 15                  -1  1     37248  ultralytics.nn.modules.block.C2f             [192, 64, 1]                  \n",
      " 16                  -1  1     36992  ultralytics.nn.modules.conv.Conv             [64, 64, 3, 2]                \n",
      " 17            [-1, 12]  1         0  ultralytics.nn.modules.conv.Concat           [1]                           \n",
      " 18                  -1  1    123648  ultralytics.nn.modules.block.C2f             [192, 128, 1]                 \n",
      " 19                  -1  1    147712  ultralytics.nn.modules.conv.Conv             [128, 128, 3, 2]              \n",
      " 20             [-1, 9]  1         0  ultralytics.nn.modules.conv.Concat           [1]                           \n",
      " 21                  -1  1    493056  ultralytics.nn.modules.block.C2f             [384, 256, 1]                 \n",
      " 22        [15, 18, 21]  1    752092  ultralytics.nn.modules.head.Detect           [4, [64, 128, 256]]           \n",
      "Model summary: 129 layers, 3,011,628 parameters, 3,011,612 gradients, 8.2 GFLOPs\n",
      "\n",
      "Transferred 319/355 items from pretrained weights\n",
      "Freezing layer 'model.22.dfl.conv.weight'\n",
      "\u001b[34m\u001b[1mtrain: \u001b[0mFast image access ✅ (ping: 0.1±0.0 ms, read: 188.3±61.0 MB/s, size: 43.6 KB)\n"
     ]
    },
    {
     "name": "stderr",
     "output_type": "stream",
     "text": [
      "\u001b[34m\u001b[1mtrain: \u001b[0mScanning /Users/dongarisrikashyap/Downloads/YOLO PRO/Project Aug n/augmen\u001b[0m"
     ]
    },
    {
     "name": "stdout",
     "output_type": "stream",
     "text": [
      "\u001b[34m\u001b[1mtrain: \u001b[0mNew cache created: /Users/dongarisrikashyap/Downloads/YOLO PRO/Project Aug n/augmented/train/labels.cache\n"
     ]
    },
    {
     "name": "stderr",
     "output_type": "stream",
     "text": [
      "\n"
     ]
    },
    {
     "name": "stdout",
     "output_type": "stream",
     "text": [
      "WARNING ⚠️ cache='ram' may produce non-deterministic training results. Consider cache='disk' as a deterministic alternative if your disk space allows.\n"
     ]
    },
    {
     "name": "stderr",
     "output_type": "stream",
     "text": [
      "\u001b[34m\u001b[1mtrain: \u001b[0mCaching images (0.4GB RAM): 100%|██████████| 538/538 [00:01<00:00, 400.44\u001b[0m\n"
     ]
    },
    {
     "name": "stdout",
     "output_type": "stream",
     "text": [
      "\u001b[34m\u001b[1malbumentations: \u001b[0mBlur(p=0.01, blur_limit=(3, 7)), MedianBlur(p=0.01, blur_limit=(3, 7)), ToGray(p=0.01, method='weighted_average', num_output_channels=3), CLAHE(p=0.01, clip_limit=(1.0, 4.0), tile_grid_size=(8, 8))\n",
      "\u001b[34m\u001b[1mval: \u001b[0mFast image access ✅ (ping: 0.1±0.1 ms, read: 357.2±170.9 MB/s, size: 109.3 KB)\n"
     ]
    },
    {
     "name": "stderr",
     "output_type": "stream",
     "text": [
      "\u001b[34m\u001b[1mval: \u001b[0mScanning /Users/dongarisrikashyap/Downloads/YOLO PRO/Project Aug n/augmente\u001b[0m"
     ]
    },
    {
     "name": "stdout",
     "output_type": "stream",
     "text": [
      "\u001b[34m\u001b[1mval: \u001b[0mNew cache created: /Users/dongarisrikashyap/Downloads/YOLO PRO/Project Aug n/augmented/valid/labels.cache\n"
     ]
    },
    {
     "name": "stderr",
     "output_type": "stream",
     "text": [
      "\n"
     ]
    },
    {
     "name": "stdout",
     "output_type": "stream",
     "text": [
      "WARNING ⚠️ cache='ram' may produce non-deterministic training results. Consider cache='disk' as a deterministic alternative if your disk space allows.\n"
     ]
    },
    {
     "name": "stderr",
     "output_type": "stream",
     "text": [
      "\u001b[34m\u001b[1mval: \u001b[0mCaching images (0.1GB RAM): 100%|██████████| 132/132 [00:00<00:00, 395.65it\u001b[0m\n"
     ]
    },
    {
     "name": "stdout",
     "output_type": "stream",
     "text": [
      "Plotting labels to runs/detect/unified_yolov8_augmented_v1n/labels.jpg... \n",
      "\u001b[34m\u001b[1moptimizer:\u001b[0m SGD(lr=0.001, momentum=0.937) with parameter groups 57 weight(decay=0.0), 64 weight(decay=0.0005), 63 bias(decay=0.0)\n",
      "Image sizes 640 train, 640 val\n",
      "Using 0 dataloader workers\n",
      "Logging results to \u001b[1mruns/detect/unified_yolov8_augmented_v1n\u001b[0m\n",
      "Starting training for 100 epochs...\n",
      "\n",
      "      Epoch    GPU_mem   box_loss   cls_loss   dfl_loss  Instances       Size\n"
     ]
    },
    {
     "name": "stderr",
     "output_type": "stream",
     "text": [
      "      1/100         0G      1.605      3.767      1.599         45        640: 1\n",
      "                 Class     Images  Instances      Box(P          R      mAP50  m"
     ]
    },
    {
     "name": "stdout",
     "output_type": "stream",
     "text": [
      "                   all        132        328     0.0019      0.374    0.00453    0.00179\n",
      "\n",
      "      Epoch    GPU_mem   box_loss   cls_loss   dfl_loss  Instances       Size\n"
     ]
    },
    {
     "name": "stderr",
     "output_type": "stream",
     "text": [
      "\n",
      "      2/100         0G      1.514      3.575      1.518         50        640: 1\n",
      "                 Class     Images  Instances      Box(P          R      mAP50  m"
     ]
    },
    {
     "name": "stdout",
     "output_type": "stream",
     "text": [
      "                   all        132        328    0.00424      0.547     0.0357     0.0209\n",
      "\n",
      "      Epoch    GPU_mem   box_loss   cls_loss   dfl_loss  Instances       Size\n"
     ]
    },
    {
     "name": "stderr",
     "output_type": "stream",
     "text": [
      "\n",
      "      3/100         0G      1.417      3.126      1.448         51        640: 1\n",
      "                 Class     Images  Instances      Box(P          R      mAP50  m"
     ]
    },
    {
     "name": "stdout",
     "output_type": "stream",
     "text": [
      "                   all        132        328      0.671      0.156      0.238      0.134\n",
      "\n",
      "      Epoch    GPU_mem   box_loss   cls_loss   dfl_loss  Instances       Size\n"
     ]
    },
    {
     "name": "stderr",
     "output_type": "stream",
     "text": [
      "\n",
      "      4/100         0G      1.391      2.691      1.414         64        640: 1\n",
      "                 Class     Images  Instances      Box(P          R      mAP50  m"
     ]
    },
    {
     "name": "stdout",
     "output_type": "stream",
     "text": [
      "                   all        132        328      0.672      0.385      0.417      0.234\n",
      "\n",
      "      Epoch    GPU_mem   box_loss   cls_loss   dfl_loss  Instances       Size\n"
     ]
    },
    {
     "name": "stderr",
     "output_type": "stream",
     "text": [
      "\n",
      "      5/100         0G      1.352       2.33      1.385         44        640: 1\n",
      "                 Class     Images  Instances      Box(P          R      mAP50  m"
     ]
    },
    {
     "name": "stdout",
     "output_type": "stream",
     "text": [
      "                   all        132        328      0.782      0.525      0.556      0.326\n",
      "\n",
      "      Epoch    GPU_mem   box_loss   cls_loss   dfl_loss  Instances       Size\n"
     ]
    },
    {
     "name": "stderr",
     "output_type": "stream",
     "text": [
      "\n",
      "      6/100         0G      1.359      2.082      1.393         62        640: 1\n",
      "                 Class     Images  Instances      Box(P          R      mAP50  m"
     ]
    },
    {
     "name": "stdout",
     "output_type": "stream",
     "text": [
      "                   all        132        328       0.68      0.583      0.614      0.359\n",
      "\n",
      "      Epoch    GPU_mem   box_loss   cls_loss   dfl_loss  Instances       Size\n"
     ]
    },
    {
     "name": "stderr",
     "output_type": "stream",
     "text": [
      "\n",
      "      7/100         0G      1.302       1.87      1.348         50        640: 1\n",
      "                 Class     Images  Instances      Box(P          R      mAP50  m"
     ]
    },
    {
     "name": "stdout",
     "output_type": "stream",
     "text": [
      "                   all        132        328      0.716      0.611      0.645      0.373\n",
      "\n",
      "      Epoch    GPU_mem   box_loss   cls_loss   dfl_loss  Instances       Size\n"
     ]
    },
    {
     "name": "stderr",
     "output_type": "stream",
     "text": [
      "\n",
      "      8/100         0G       1.33      1.772      1.359         51        640: 1\n",
      "                 Class     Images  Instances      Box(P          R      mAP50  m"
     ]
    },
    {
     "name": "stdout",
     "output_type": "stream",
     "text": [
      "                   all        132        328      0.691      0.711      0.702      0.416\n",
      "\n",
      "      Epoch    GPU_mem   box_loss   cls_loss   dfl_loss  Instances       Size\n"
     ]
    },
    {
     "name": "stderr",
     "output_type": "stream",
     "text": [
      "\n",
      "      9/100         0G      1.243      1.608      1.294         47        640: 1\n",
      "                 Class     Images  Instances      Box(P          R      mAP50  m"
     ]
    },
    {
     "name": "stdout",
     "output_type": "stream",
     "text": [
      "                   all        132        328      0.743      0.676      0.706        0.4\n",
      "\n",
      "      Epoch    GPU_mem   box_loss   cls_loss   dfl_loss  Instances       Size\n"
     ]
    },
    {
     "name": "stderr",
     "output_type": "stream",
     "text": [
      "\n",
      "     10/100         0G      1.237      1.619      1.295         45        640: 1\n",
      "                 Class     Images  Instances      Box(P          R      mAP50  m"
     ]
    },
    {
     "name": "stdout",
     "output_type": "stream",
     "text": [
      "                   all        132        328      0.826      0.713      0.763      0.429\n",
      "\n",
      "      Epoch    GPU_mem   box_loss   cls_loss   dfl_loss  Instances       Size\n"
     ]
    },
    {
     "name": "stderr",
     "output_type": "stream",
     "text": [
      "\n",
      "     11/100         0G      1.204      1.502      1.265         41        640: 1\n",
      "                 Class     Images  Instances      Box(P          R      mAP50  m"
     ]
    },
    {
     "name": "stdout",
     "output_type": "stream",
     "text": [
      "                   all        132        328      0.807      0.735      0.773      0.448\n",
      "\n",
      "      Epoch    GPU_mem   box_loss   cls_loss   dfl_loss  Instances       Size\n"
     ]
    },
    {
     "name": "stderr",
     "output_type": "stream",
     "text": [
      "\n",
      "     12/100         0G      1.203      1.459      1.248         39        640: 1\n",
      "                 Class     Images  Instances      Box(P          R      mAP50  m"
     ]
    },
    {
     "name": "stdout",
     "output_type": "stream",
     "text": [
      "                   all        132        328      0.773      0.748      0.786      0.455\n",
      "\n",
      "      Epoch    GPU_mem   box_loss   cls_loss   dfl_loss  Instances       Size\n"
     ]
    },
    {
     "name": "stderr",
     "output_type": "stream",
     "text": [
      "\n",
      "     13/100         0G      1.186      1.469      1.247         29        640: 1\n",
      "                 Class     Images  Instances      Box(P          R      mAP50  m"
     ]
    },
    {
     "name": "stdout",
     "output_type": "stream",
     "text": [
      "                   all        132        328      0.772      0.776      0.779       0.45\n",
      "\n",
      "      Epoch    GPU_mem   box_loss   cls_loss   dfl_loss  Instances       Size\n"
     ]
    },
    {
     "name": "stderr",
     "output_type": "stream",
     "text": [
      "\n",
      "     14/100         0G      1.146      1.352      1.222         54        640: 1\n",
      "                 Class     Images  Instances      Box(P          R      mAP50  m"
     ]
    },
    {
     "name": "stdout",
     "output_type": "stream",
     "text": [
      "                   all        132        328      0.822      0.725      0.768       0.45\n",
      "\n",
      "      Epoch    GPU_mem   box_loss   cls_loss   dfl_loss  Instances       Size\n"
     ]
    },
    {
     "name": "stderr",
     "output_type": "stream",
     "text": [
      "\n",
      "     15/100         0G      1.128       1.34      1.217         40        640: 1\n",
      "                 Class     Images  Instances      Box(P          R      mAP50  m"
     ]
    },
    {
     "name": "stdout",
     "output_type": "stream",
     "text": [
      "                   all        132        328      0.763      0.758      0.776      0.455\n",
      "\n",
      "      Epoch    GPU_mem   box_loss   cls_loss   dfl_loss  Instances       Size\n"
     ]
    },
    {
     "name": "stderr",
     "output_type": "stream",
     "text": [
      "\n",
      "     16/100         0G      1.138      1.344      1.212         37        640: 1\n",
      "                 Class     Images  Instances      Box(P          R      mAP50  m"
     ]
    },
    {
     "name": "stdout",
     "output_type": "stream",
     "text": [
      "                   all        132        328      0.789      0.732      0.786      0.468\n",
      "\n",
      "      Epoch    GPU_mem   box_loss   cls_loss   dfl_loss  Instances       Size\n"
     ]
    },
    {
     "name": "stderr",
     "output_type": "stream",
     "text": [
      "\n",
      "     17/100         0G      1.158      1.315       1.21         52        640: 1\n",
      "                 Class     Images  Instances      Box(P          R      mAP50  m"
     ]
    },
    {
     "name": "stdout",
     "output_type": "stream",
     "text": [
      "                   all        132        328      0.806      0.727        0.8      0.482\n"
     ]
    },
    {
     "name": "stderr",
     "output_type": "stream",
     "text": [
      "\n"
     ]
    },
    {
     "name": "stdout",
     "output_type": "stream",
     "text": [
      "\n",
      "      Epoch    GPU_mem   box_loss   cls_loss   dfl_loss  Instances       Size\n"
     ]
    },
    {
     "name": "stderr",
     "output_type": "stream",
     "text": [
      "     18/100         0G      1.101       1.29       1.18         51        640: 1\n",
      "                 Class     Images  Instances      Box(P          R      mAP50  m"
     ]
    },
    {
     "name": "stdout",
     "output_type": "stream",
     "text": [
      "                   all        132        328      0.785      0.753      0.801      0.474\n",
      "\n",
      "      Epoch    GPU_mem   box_loss   cls_loss   dfl_loss  Instances       Size\n"
     ]
    },
    {
     "name": "stderr",
     "output_type": "stream",
     "text": [
      "\n",
      "     19/100         0G      1.102       1.26      1.179         32        640: 1\n",
      "                 Class     Images  Instances      Box(P          R      mAP50  m"
     ]
    },
    {
     "name": "stdout",
     "output_type": "stream",
     "text": [
      "                   all        132        328      0.775      0.766      0.786      0.462\n",
      "\n",
      "      Epoch    GPU_mem   box_loss   cls_loss   dfl_loss  Instances       Size\n"
     ]
    },
    {
     "name": "stderr",
     "output_type": "stream",
     "text": [
      "\n",
      "     20/100         0G      1.099      1.223      1.177         56        640: 1\n",
      "                 Class     Images  Instances      Box(P          R      mAP50  m"
     ]
    },
    {
     "name": "stdout",
     "output_type": "stream",
     "text": [
      "                   all        132        328      0.839      0.766      0.815       0.49\n",
      "\n",
      "      Epoch    GPU_mem   box_loss   cls_loss   dfl_loss  Instances       Size\n"
     ]
    },
    {
     "name": "stderr",
     "output_type": "stream",
     "text": [
      "\n",
      "     21/100         0G      1.071      1.248      1.182         29        640: 1\n",
      "                 Class     Images  Instances      Box(P          R      mAP50  m"
     ]
    },
    {
     "name": "stdout",
     "output_type": "stream",
     "text": [
      "                   all        132        328      0.815      0.748      0.807      0.499\n",
      "\n",
      "      Epoch    GPU_mem   box_loss   cls_loss   dfl_loss  Instances       Size\n"
     ]
    },
    {
     "name": "stderr",
     "output_type": "stream",
     "text": [
      "\n",
      "     22/100         0G      1.048      1.189      1.153         61        640: 1\n",
      "                 Class     Images  Instances      Box(P          R      mAP50  m"
     ]
    },
    {
     "name": "stdout",
     "output_type": "stream",
     "text": [
      "                   all        132        328      0.837      0.765      0.818      0.498\n",
      "\n",
      "      Epoch    GPU_mem   box_loss   cls_loss   dfl_loss  Instances       Size\n"
     ]
    },
    {
     "name": "stderr",
     "output_type": "stream",
     "text": [
      "\n",
      "     23/100         0G      1.038      1.178      1.145         53        640: 1\n",
      "                 Class     Images  Instances      Box(P          R      mAP50  m"
     ]
    },
    {
     "name": "stdout",
     "output_type": "stream",
     "text": [
      "                   all        132        328      0.879      0.724      0.819      0.501\n",
      "\n",
      "      Epoch    GPU_mem   box_loss   cls_loss   dfl_loss  Instances       Size\n"
     ]
    },
    {
     "name": "stderr",
     "output_type": "stream",
     "text": [
      "\n",
      "     24/100         0G      1.034      1.183      1.149         46        640: 1\n",
      "                 Class     Images  Instances      Box(P          R      mAP50  m"
     ]
    },
    {
     "name": "stdout",
     "output_type": "stream",
     "text": [
      "                   all        132        328      0.841      0.777      0.837      0.511\n",
      "\n",
      "      Epoch    GPU_mem   box_loss   cls_loss   dfl_loss  Instances       Size\n"
     ]
    },
    {
     "name": "stderr",
     "output_type": "stream",
     "text": [
      "\n",
      "     25/100         0G      1.024      1.129      1.134         39        640: 1\n",
      "                 Class     Images  Instances      Box(P          R      mAP50  m"
     ]
    },
    {
     "name": "stdout",
     "output_type": "stream",
     "text": [
      "                   all        132        328      0.816      0.813      0.829      0.504\n",
      "\n",
      "      Epoch    GPU_mem   box_loss   cls_loss   dfl_loss  Instances       Size\n"
     ]
    },
    {
     "name": "stderr",
     "output_type": "stream",
     "text": [
      "\n",
      "     26/100         0G      1.021      1.101       1.12         54        640: 1\n",
      "                 Class     Images  Instances      Box(P          R      mAP50  m"
     ]
    },
    {
     "name": "stdout",
     "output_type": "stream",
     "text": [
      "                   all        132        328      0.807      0.788      0.813      0.486\n",
      "\n",
      "      Epoch    GPU_mem   box_loss   cls_loss   dfl_loss  Instances       Size\n"
     ]
    },
    {
     "name": "stderr",
     "output_type": "stream",
     "text": [
      "\n",
      "     27/100         0G     0.9962      1.081      1.123         62        640: 1\n",
      "                 Class     Images  Instances      Box(P          R      mAP50  m"
     ]
    },
    {
     "name": "stdout",
     "output_type": "stream",
     "text": [
      "                   all        132        328      0.847      0.753      0.821      0.491\n",
      "\n",
      "      Epoch    GPU_mem   box_loss   cls_loss   dfl_loss  Instances       Size\n"
     ]
    },
    {
     "name": "stderr",
     "output_type": "stream",
     "text": [
      "\n",
      "     28/100         0G      1.021      1.127      1.137         39        640: 1\n",
      "                 Class     Images  Instances      Box(P          R      mAP50  m"
     ]
    },
    {
     "name": "stdout",
     "output_type": "stream",
     "text": [
      "                   all        132        328       0.83      0.778      0.825      0.493\n",
      "\n",
      "      Epoch    GPU_mem   box_loss   cls_loss   dfl_loss  Instances       Size\n"
     ]
    },
    {
     "name": "stderr",
     "output_type": "stream",
     "text": [
      "\n",
      "     29/100         0G      0.976      1.094      1.107         54        640: 1\n",
      "                 Class     Images  Instances      Box(P          R      mAP50  m"
     ]
    },
    {
     "name": "stdout",
     "output_type": "stream",
     "text": [
      "                   all        132        328      0.848      0.774      0.831      0.508\n",
      "\n",
      "      Epoch    GPU_mem   box_loss   cls_loss   dfl_loss  Instances       Size\n"
     ]
    },
    {
     "name": "stderr",
     "output_type": "stream",
     "text": [
      "\n",
      "     30/100         0G     0.9838      1.088      1.123         45        640: 1\n",
      "                 Class     Images  Instances      Box(P          R      mAP50  m"
     ]
    },
    {
     "name": "stdout",
     "output_type": "stream",
     "text": [
      "                   all        132        328      0.839      0.776      0.834      0.509\n",
      "\n",
      "      Epoch    GPU_mem   box_loss   cls_loss   dfl_loss  Instances       Size\n"
     ]
    },
    {
     "name": "stderr",
     "output_type": "stream",
     "text": [
      "\n",
      "     31/100         0G       0.96      1.059      1.097         40        640: 1\n",
      "                 Class     Images  Instances      Box(P          R      mAP50  m"
     ]
    },
    {
     "name": "stdout",
     "output_type": "stream",
     "text": [
      "                   all        132        328      0.836      0.774      0.815        0.5\n",
      "\n",
      "      Epoch    GPU_mem   box_loss   cls_loss   dfl_loss  Instances       Size\n"
     ]
    },
    {
     "name": "stderr",
     "output_type": "stream",
     "text": [
      "\n",
      "     32/100         0G     0.9904      1.075      1.119         42        640: 1\n",
      "                 Class     Images  Instances      Box(P          R      mAP50  m"
     ]
    },
    {
     "name": "stdout",
     "output_type": "stream",
     "text": [
      "                   all        132        328      0.863       0.78      0.841      0.517\n",
      "\n",
      "      Epoch    GPU_mem   box_loss   cls_loss   dfl_loss  Instances       Size\n"
     ]
    },
    {
     "name": "stderr",
     "output_type": "stream",
     "text": [
      "\n",
      "     33/100         0G     0.9616      1.074      1.096         36        640: 1\n",
      "                 Class     Images  Instances      Box(P          R      mAP50  m"
     ]
    },
    {
     "name": "stdout",
     "output_type": "stream",
     "text": [
      "                   all        132        328      0.883      0.809      0.863      0.522\n",
      "\n",
      "      Epoch    GPU_mem   box_loss   cls_loss   dfl_loss  Instances       Size\n"
     ]
    },
    {
     "name": "stderr",
     "output_type": "stream",
     "text": [
      "\n",
      "     34/100         0G     0.9549      1.054      1.106         29        640: 1\n",
      "                 Class     Images  Instances      Box(P          R      mAP50  m"
     ]
    },
    {
     "name": "stdout",
     "output_type": "stream",
     "text": [
      "                   all        132        328      0.898      0.771      0.851      0.516\n",
      "\n",
      "      Epoch    GPU_mem   box_loss   cls_loss   dfl_loss  Instances       Size\n"
     ]
    },
    {
     "name": "stderr",
     "output_type": "stream",
     "text": [
      "\n",
      "     35/100         0G     0.9641      1.035      1.101         48        640: 1\n",
      "                 Class     Images  Instances      Box(P          R      mAP50  m"
     ]
    },
    {
     "name": "stdout",
     "output_type": "stream",
     "text": [
      "                   all        132        328      0.843      0.838      0.859      0.526\n",
      "\n",
      "      Epoch    GPU_mem   box_loss   cls_loss   dfl_loss  Instances       Size\n"
     ]
    },
    {
     "name": "stderr",
     "output_type": "stream",
     "text": [
      "\n",
      "     36/100         0G     0.9666      1.033        1.1         35        640: 1\n",
      "                 Class     Images  Instances      Box(P          R      mAP50  m"
     ]
    },
    {
     "name": "stdout",
     "output_type": "stream",
     "text": [
      "                   all        132        328      0.899      0.752      0.846      0.515\n",
      "\n",
      "      Epoch    GPU_mem   box_loss   cls_loss   dfl_loss  Instances       Size\n"
     ]
    },
    {
     "name": "stderr",
     "output_type": "stream",
     "text": [
      "\n",
      "     37/100         0G     0.9514       1.03      1.097         71        640: 1\n",
      "                 Class     Images  Instances      Box(P          R      mAP50  m"
     ]
    },
    {
     "name": "stdout",
     "output_type": "stream",
     "text": [
      "                   all        132        328      0.852      0.854       0.86      0.523\n",
      "\n",
      "      Epoch    GPU_mem   box_loss   cls_loss   dfl_loss  Instances       Size\n"
     ]
    },
    {
     "name": "stderr",
     "output_type": "stream",
     "text": [
      "\n",
      "     38/100         0G     0.9519      1.008      1.093         47        640: 1\n",
      "                 Class     Images  Instances      Box(P          R      mAP50  m"
     ]
    },
    {
     "name": "stdout",
     "output_type": "stream",
     "text": [
      "                   all        132        328      0.887      0.789      0.855      0.524\n",
      "\n",
      "      Epoch    GPU_mem   box_loss   cls_loss   dfl_loss  Instances       Size\n"
     ]
    },
    {
     "name": "stderr",
     "output_type": "stream",
     "text": [
      "\n",
      "     39/100         0G     0.9247     0.9952       1.08         47        640: 1\n",
      "                 Class     Images  Instances      Box(P          R      mAP50  m"
     ]
    },
    {
     "name": "stdout",
     "output_type": "stream",
     "text": [
      "                   all        132        328       0.87      0.803      0.855      0.527\n",
      "\n",
      "      Epoch    GPU_mem   box_loss   cls_loss   dfl_loss  Instances       Size\n"
     ]
    },
    {
     "name": "stderr",
     "output_type": "stream",
     "text": [
      "\n",
      "     40/100         0G     0.9433      1.031      1.101         43        640: 1\n",
      "                 Class     Images  Instances      Box(P          R      mAP50  m"
     ]
    },
    {
     "name": "stdout",
     "output_type": "stream",
     "text": [
      "                   all        132        328      0.913       0.79      0.858      0.524\n",
      "\n",
      "      Epoch    GPU_mem   box_loss   cls_loss   dfl_loss  Instances       Size\n"
     ]
    },
    {
     "name": "stderr",
     "output_type": "stream",
     "text": [
      "\n",
      "     41/100         0G     0.9187     0.9876      1.086         49        640: 1\n",
      "                 Class     Images  Instances      Box(P          R      mAP50  m"
     ]
    },
    {
     "name": "stdout",
     "output_type": "stream",
     "text": [
      "                   all        132        328       0.88      0.792      0.857      0.529\n",
      "\n",
      "      Epoch    GPU_mem   box_loss   cls_loss   dfl_loss  Instances       Size\n"
     ]
    },
    {
     "name": "stderr",
     "output_type": "stream",
     "text": [
      "\n",
      "     42/100         0G     0.9346     0.9903      1.094         43        640: 1\n",
      "                 Class     Images  Instances      Box(P          R      mAP50  m"
     ]
    },
    {
     "name": "stdout",
     "output_type": "stream",
     "text": [
      "                   all        132        328      0.855      0.805      0.856      0.521\n"
     ]
    },
    {
     "name": "stderr",
     "output_type": "stream",
     "text": [
      "\n"
     ]
    },
    {
     "name": "stdout",
     "output_type": "stream",
     "text": [
      "\n",
      "      Epoch    GPU_mem   box_loss   cls_loss   dfl_loss  Instances       Size\n"
     ]
    },
    {
     "name": "stderr",
     "output_type": "stream",
     "text": [
      "     43/100         0G     0.9171     0.9737      1.079         50        640: 1\n",
      "                 Class     Images  Instances      Box(P          R      mAP50  m"
     ]
    },
    {
     "name": "stdout",
     "output_type": "stream",
     "text": [
      "                   all        132        328      0.859      0.815      0.863      0.536\n",
      "\n",
      "      Epoch    GPU_mem   box_loss   cls_loss   dfl_loss  Instances       Size\n"
     ]
    },
    {
     "name": "stderr",
     "output_type": "stream",
     "text": [
      "\n",
      "     44/100         0G     0.9175      1.006      1.082         54        640: 1\n",
      "                 Class     Images  Instances      Box(P          R      mAP50  m"
     ]
    },
    {
     "name": "stdout",
     "output_type": "stream",
     "text": [
      "                   all        132        328      0.881      0.781      0.845      0.528\n",
      "\n",
      "      Epoch    GPU_mem   box_loss   cls_loss   dfl_loss  Instances       Size\n"
     ]
    },
    {
     "name": "stderr",
     "output_type": "stream",
     "text": [
      "\n",
      "     45/100         0G     0.9093     0.9715      1.074         67        640: 1\n",
      "                 Class     Images  Instances      Box(P          R      mAP50  m"
     ]
    },
    {
     "name": "stdout",
     "output_type": "stream",
     "text": [
      "                   all        132        328      0.872      0.791      0.849      0.536\n",
      "\n",
      "      Epoch    GPU_mem   box_loss   cls_loss   dfl_loss  Instances       Size\n"
     ]
    },
    {
     "name": "stderr",
     "output_type": "stream",
     "text": [
      "\n",
      "     46/100         0G     0.9232      0.999      1.095         24        640: 1\n",
      "                 Class     Images  Instances      Box(P          R      mAP50  m"
     ]
    },
    {
     "name": "stdout",
     "output_type": "stream",
     "text": [
      "                   all        132        328      0.902      0.791      0.857      0.529\n",
      "\n",
      "      Epoch    GPU_mem   box_loss   cls_loss   dfl_loss  Instances       Size\n"
     ]
    },
    {
     "name": "stderr",
     "output_type": "stream",
     "text": [
      "\n",
      "     47/100         0G     0.9255     0.9754      1.079         60        640: 1\n",
      "                 Class     Images  Instances      Box(P          R      mAP50  m"
     ]
    },
    {
     "name": "stdout",
     "output_type": "stream",
     "text": [
      "                   all        132        328      0.852      0.835      0.852      0.521\n",
      "\n",
      "      Epoch    GPU_mem   box_loss   cls_loss   dfl_loss  Instances       Size\n"
     ]
    },
    {
     "name": "stderr",
     "output_type": "stream",
     "text": [
      "\n",
      "     48/100         0G     0.8861     0.9235       1.05         63        640: 1\n",
      "                 Class     Images  Instances      Box(P          R      mAP50  m"
     ]
    },
    {
     "name": "stdout",
     "output_type": "stream",
     "text": [
      "                   all        132        328       0.87      0.791      0.849      0.522\n",
      "\n",
      "      Epoch    GPU_mem   box_loss   cls_loss   dfl_loss  Instances       Size\n"
     ]
    },
    {
     "name": "stderr",
     "output_type": "stream",
     "text": [
      "\n",
      "     49/100         0G     0.9116      0.948      1.076         55        640: 1\n",
      "                 Class     Images  Instances      Box(P          R      mAP50  m"
     ]
    },
    {
     "name": "stdout",
     "output_type": "stream",
     "text": [
      "                   all        132        328       0.88      0.771      0.842       0.52\n",
      "\n",
      "      Epoch    GPU_mem   box_loss   cls_loss   dfl_loss  Instances       Size\n"
     ]
    },
    {
     "name": "stderr",
     "output_type": "stream",
     "text": [
      "\n",
      "     50/100         0G     0.8757     0.9379      1.055         59        640: 1\n",
      "                 Class     Images  Instances      Box(P          R      mAP50  m"
     ]
    },
    {
     "name": "stdout",
     "output_type": "stream",
     "text": [
      "                   all        132        328      0.929      0.742       0.84       0.51\n",
      "\n",
      "      Epoch    GPU_mem   box_loss   cls_loss   dfl_loss  Instances       Size\n"
     ]
    },
    {
     "name": "stderr",
     "output_type": "stream",
     "text": [
      "\n",
      "     51/100         0G     0.8836     0.9301      1.063         59        640: 1\n",
      "                 Class     Images  Instances      Box(P          R      mAP50  m"
     ]
    },
    {
     "name": "stdout",
     "output_type": "stream",
     "text": [
      "                   all        132        328      0.878      0.771      0.839      0.515\n",
      "\n",
      "      Epoch    GPU_mem   box_loss   cls_loss   dfl_loss  Instances       Size\n"
     ]
    },
    {
     "name": "stderr",
     "output_type": "stream",
     "text": [
      "\n",
      "     52/100         0G     0.8968     0.9463      1.064         72        640: 1\n",
      "                 Class     Images  Instances      Box(P          R      mAP50  m"
     ]
    },
    {
     "name": "stdout",
     "output_type": "stream",
     "text": [
      "                   all        132        328      0.891      0.758      0.841      0.506\n",
      "\n",
      "      Epoch    GPU_mem   box_loss   cls_loss   dfl_loss  Instances       Size\n"
     ]
    },
    {
     "name": "stderr",
     "output_type": "stream",
     "text": [
      "\n",
      "     53/100         0G     0.8811     0.9366       1.07         39        640: 1\n",
      "                 Class     Images  Instances      Box(P          R      mAP50  m"
     ]
    },
    {
     "name": "stdout",
     "output_type": "stream",
     "text": [
      "                   all        132        328      0.849      0.791      0.847      0.516\n",
      "\n",
      "      Epoch    GPU_mem   box_loss   cls_loss   dfl_loss  Instances       Size\n"
     ]
    },
    {
     "name": "stderr",
     "output_type": "stream",
     "text": [
      "\n",
      "     54/100         0G     0.8727     0.9373      1.052         56        640: 1\n",
      "                 Class     Images  Instances      Box(P          R      mAP50  m"
     ]
    },
    {
     "name": "stdout",
     "output_type": "stream",
     "text": [
      "                   all        132        328      0.906      0.773      0.847      0.508\n",
      "\n",
      "      Epoch    GPU_mem   box_loss   cls_loss   dfl_loss  Instances       Size\n"
     ]
    },
    {
     "name": "stderr",
     "output_type": "stream",
     "text": [
      "\n",
      "     55/100         0G     0.8787     0.9427      1.058         62        640: 1\n",
      "                 Class     Images  Instances      Box(P          R      mAP50  m"
     ]
    },
    {
     "name": "stdout",
     "output_type": "stream",
     "text": [
      "                   all        132        328      0.904      0.769      0.834      0.505\n",
      "\n",
      "      Epoch    GPU_mem   box_loss   cls_loss   dfl_loss  Instances       Size\n"
     ]
    },
    {
     "name": "stderr",
     "output_type": "stream",
     "text": [
      "\n",
      "     56/100         0G     0.8767     0.9559      1.075         33        640: 1\n",
      "                 Class     Images  Instances      Box(P          R      mAP50  m"
     ]
    },
    {
     "name": "stdout",
     "output_type": "stream",
     "text": [
      "                   all        132        328      0.901      0.779      0.848      0.504\n",
      "\n",
      "      Epoch    GPU_mem   box_loss   cls_loss   dfl_loss  Instances       Size\n"
     ]
    },
    {
     "name": "stderr",
     "output_type": "stream",
     "text": [
      "\n",
      "     57/100         0G     0.8728     0.9225      1.055         37        640: 1\n",
      "                 Class     Images  Instances      Box(P          R      mAP50  m"
     ]
    },
    {
     "name": "stdout",
     "output_type": "stream",
     "text": [
      "                   all        132        328      0.903      0.765      0.846      0.509\n",
      "\n",
      "      Epoch    GPU_mem   box_loss   cls_loss   dfl_loss  Instances       Size\n"
     ]
    },
    {
     "name": "stderr",
     "output_type": "stream",
     "text": [
      "\n",
      "     58/100         0G      0.882     0.9121      1.054         48        640: 1\n",
      "                 Class     Images  Instances      Box(P          R      mAP50  m"
     ]
    },
    {
     "name": "stdout",
     "output_type": "stream",
     "text": [
      "                   all        132        328      0.903        0.8      0.864      0.518\n",
      "\u001b[34m\u001b[1mEarlyStopping: \u001b[0mTraining stopped early as no improvement observed in last 15 epochs. Best results observed at epoch 43, best model saved as best.pt.\n",
      "To update EarlyStopping(patience=15) pass a new patience value, i.e. `patience=300` or use `patience=0` to disable EarlyStopping.\n",
      "\n",
      "58 epochs completed in 5.970 hours.\n",
      "Optimizer stripped from runs/detect/unified_yolov8_augmented_v1n/weights/last.pt, 6.2MB\n",
      "Optimizer stripped from runs/detect/unified_yolov8_augmented_v1n/weights/best.pt, 6.2MB\n",
      "\n",
      "Validating runs/detect/unified_yolov8_augmented_v1n/weights/best.pt...\n",
      "Ultralytics 8.3.136 🚀 Python-3.12.4 torch-2.6.0 CPU (Apple M2)\n"
     ]
    },
    {
     "name": "stderr",
     "output_type": "stream",
     "text": [
      "\n"
     ]
    },
    {
     "name": "stdout",
     "output_type": "stream",
     "text": [
      "Model summary (fused): 72 layers, 3,006,428 parameters, 0 gradients, 8.1 GFLOPs\n"
     ]
    },
    {
     "name": "stderr",
     "output_type": "stream",
     "text": [
      "                 Class     Images  Instances      Box(P          R      mAP50  m\n"
     ]
    },
    {
     "name": "stdout",
     "output_type": "stream",
     "text": [
      "                   all        132        328      0.857      0.836       0.86      0.528\n",
      "           Safety_vest         32         32       0.61      0.906      0.796      0.528\n",
      "                Helmet         60         64          1      0.896      0.974      0.649\n",
      "                Mobile         52        168      0.901      0.917      0.953      0.635\n",
      "            Cigarettes         60         64      0.918      0.625      0.718      0.299\n",
      "Speed: 0.9ms preprocess, 249.4ms inference, 0.0ms loss, 4.5ms postprocess per image\n",
      "Results saved to \u001b[1mruns/detect/unified_yolov8_augmented_v1n\u001b[0m\n"
     ]
    },
    {
     "data": {
      "text/plain": [
       "ultralytics.utils.metrics.DetMetrics object with attributes:\n",
       "\n",
       "ap_class_index: array([0, 1, 2, 3])\n",
       "box: ultralytics.utils.metrics.Metric object\n",
       "confusion_matrix: <ultralytics.utils.metrics.ConfusionMatrix object at 0x313d0e480>\n",
       "curves: ['Precision-Recall(B)', 'F1-Confidence(B)', 'Precision-Confidence(B)', 'Recall-Confidence(B)']\n",
       "curves_results: [[array([          0,    0.001001,    0.002002,    0.003003,    0.004004,    0.005005,    0.006006,    0.007007,    0.008008,    0.009009,     0.01001,    0.011011,    0.012012,    0.013013,    0.014014,    0.015015,    0.016016,    0.017017,    0.018018,    0.019019,     0.02002,    0.021021,    0.022022,    0.023023,\n",
       "          0.024024,    0.025025,    0.026026,    0.027027,    0.028028,    0.029029,     0.03003,    0.031031,    0.032032,    0.033033,    0.034034,    0.035035,    0.036036,    0.037037,    0.038038,    0.039039,     0.04004,    0.041041,    0.042042,    0.043043,    0.044044,    0.045045,    0.046046,    0.047047,\n",
       "          0.048048,    0.049049,     0.05005,    0.051051,    0.052052,    0.053053,    0.054054,    0.055055,    0.056056,    0.057057,    0.058058,    0.059059,     0.06006,    0.061061,    0.062062,    0.063063,    0.064064,    0.065065,    0.066066,    0.067067,    0.068068,    0.069069,     0.07007,    0.071071,\n",
       "          0.072072,    0.073073,    0.074074,    0.075075,    0.076076,    0.077077,    0.078078,    0.079079,     0.08008,    0.081081,    0.082082,    0.083083,    0.084084,    0.085085,    0.086086,    0.087087,    0.088088,    0.089089,     0.09009,    0.091091,    0.092092,    0.093093,    0.094094,    0.095095,\n",
       "          0.096096,    0.097097,    0.098098,    0.099099,      0.1001,      0.1011,      0.1021,      0.1031,      0.1041,     0.10511,     0.10611,     0.10711,     0.10811,     0.10911,     0.11011,     0.11111,     0.11211,     0.11311,     0.11411,     0.11512,     0.11612,     0.11712,     0.11812,     0.11912,\n",
       "           0.12012,     0.12112,     0.12212,     0.12312,     0.12412,     0.12513,     0.12613,     0.12713,     0.12813,     0.12913,     0.13013,     0.13113,     0.13213,     0.13313,     0.13413,     0.13514,     0.13614,     0.13714,     0.13814,     0.13914,     0.14014,     0.14114,     0.14214,     0.14314,\n",
       "           0.14414,     0.14515,     0.14615,     0.14715,     0.14815,     0.14915,     0.15015,     0.15115,     0.15215,     0.15315,     0.15415,     0.15516,     0.15616,     0.15716,     0.15816,     0.15916,     0.16016,     0.16116,     0.16216,     0.16316,     0.16416,     0.16517,     0.16617,     0.16717,\n",
       "           0.16817,     0.16917,     0.17017,     0.17117,     0.17217,     0.17317,     0.17417,     0.17518,     0.17618,     0.17718,     0.17818,     0.17918,     0.18018,     0.18118,     0.18218,     0.18318,     0.18418,     0.18519,     0.18619,     0.18719,     0.18819,     0.18919,     0.19019,     0.19119,\n",
       "           0.19219,     0.19319,     0.19419,      0.1952,      0.1962,      0.1972,      0.1982,      0.1992,      0.2002,      0.2012,      0.2022,      0.2032,      0.2042,     0.20521,     0.20621,     0.20721,     0.20821,     0.20921,     0.21021,     0.21121,     0.21221,     0.21321,     0.21421,     0.21522,\n",
       "           0.21622,     0.21722,     0.21822,     0.21922,     0.22022,     0.22122,     0.22222,     0.22322,     0.22422,     0.22523,     0.22623,     0.22723,     0.22823,     0.22923,     0.23023,     0.23123,     0.23223,     0.23323,     0.23423,     0.23524,     0.23624,     0.23724,     0.23824,     0.23924,\n",
       "           0.24024,     0.24124,     0.24224,     0.24324,     0.24424,     0.24525,     0.24625,     0.24725,     0.24825,     0.24925,     0.25025,     0.25125,     0.25225,     0.25325,     0.25425,     0.25526,     0.25626,     0.25726,     0.25826,     0.25926,     0.26026,     0.26126,     0.26226,     0.26326,\n",
       "           0.26426,     0.26527,     0.26627,     0.26727,     0.26827,     0.26927,     0.27027,     0.27127,     0.27227,     0.27327,     0.27427,     0.27528,     0.27628,     0.27728,     0.27828,     0.27928,     0.28028,     0.28128,     0.28228,     0.28328,     0.28428,     0.28529,     0.28629,     0.28729,\n",
       "           0.28829,     0.28929,     0.29029,     0.29129,     0.29229,     0.29329,     0.29429,      0.2953,      0.2963,      0.2973,      0.2983,      0.2993,      0.3003,      0.3013,      0.3023,      0.3033,      0.3043,     0.30531,     0.30631,     0.30731,     0.30831,     0.30931,     0.31031,     0.31131,\n",
       "           0.31231,     0.31331,     0.31431,     0.31532,     0.31632,     0.31732,     0.31832,     0.31932,     0.32032,     0.32132,     0.32232,     0.32332,     0.32432,     0.32533,     0.32633,     0.32733,     0.32833,     0.32933,     0.33033,     0.33133,     0.33233,     0.33333,     0.33433,     0.33534,\n",
       "           0.33634,     0.33734,     0.33834,     0.33934,     0.34034,     0.34134,     0.34234,     0.34334,     0.34434,     0.34535,     0.34635,     0.34735,     0.34835,     0.34935,     0.35035,     0.35135,     0.35235,     0.35335,     0.35435,     0.35536,     0.35636,     0.35736,     0.35836,     0.35936,\n",
       "           0.36036,     0.36136,     0.36236,     0.36336,     0.36436,     0.36537,     0.36637,     0.36737,     0.36837,     0.36937,     0.37037,     0.37137,     0.37237,     0.37337,     0.37437,     0.37538,     0.37638,     0.37738,     0.37838,     0.37938,     0.38038,     0.38138,     0.38238,     0.38338,\n",
       "           0.38438,     0.38539,     0.38639,     0.38739,     0.38839,     0.38939,     0.39039,     0.39139,     0.39239,     0.39339,     0.39439,      0.3954,      0.3964,      0.3974,      0.3984,      0.3994,      0.4004,      0.4014,      0.4024,      0.4034,      0.4044,     0.40541,     0.40641,     0.40741,\n",
       "           0.40841,     0.40941,     0.41041,     0.41141,     0.41241,     0.41341,     0.41441,     0.41542,     0.41642,     0.41742,     0.41842,     0.41942,     0.42042,     0.42142,     0.42242,     0.42342,     0.42442,     0.42543,     0.42643,     0.42743,     0.42843,     0.42943,     0.43043,     0.43143,\n",
       "           0.43243,     0.43343,     0.43443,     0.43544,     0.43644,     0.43744,     0.43844,     0.43944,     0.44044,     0.44144,     0.44244,     0.44344,     0.44444,     0.44545,     0.44645,     0.44745,     0.44845,     0.44945,     0.45045,     0.45145,     0.45245,     0.45345,     0.45445,     0.45546,\n",
       "           0.45646,     0.45746,     0.45846,     0.45946,     0.46046,     0.46146,     0.46246,     0.46346,     0.46446,     0.46547,     0.46647,     0.46747,     0.46847,     0.46947,     0.47047,     0.47147,     0.47247,     0.47347,     0.47447,     0.47548,     0.47648,     0.47748,     0.47848,     0.47948,\n",
       "           0.48048,     0.48148,     0.48248,     0.48348,     0.48448,     0.48549,     0.48649,     0.48749,     0.48849,     0.48949,     0.49049,     0.49149,     0.49249,     0.49349,     0.49449,      0.4955,      0.4965,      0.4975,      0.4985,      0.4995,      0.5005,      0.5015,      0.5025,      0.5035,\n",
       "            0.5045,     0.50551,     0.50651,     0.50751,     0.50851,     0.50951,     0.51051,     0.51151,     0.51251,     0.51351,     0.51451,     0.51552,     0.51652,     0.51752,     0.51852,     0.51952,     0.52052,     0.52152,     0.52252,     0.52352,     0.52452,     0.52553,     0.52653,     0.52753,\n",
       "           0.52853,     0.52953,     0.53053,     0.53153,     0.53253,     0.53353,     0.53453,     0.53554,     0.53654,     0.53754,     0.53854,     0.53954,     0.54054,     0.54154,     0.54254,     0.54354,     0.54454,     0.54555,     0.54655,     0.54755,     0.54855,     0.54955,     0.55055,     0.55155,\n",
       "           0.55255,     0.55355,     0.55455,     0.55556,     0.55656,     0.55756,     0.55856,     0.55956,     0.56056,     0.56156,     0.56256,     0.56356,     0.56456,     0.56557,     0.56657,     0.56757,     0.56857,     0.56957,     0.57057,     0.57157,     0.57257,     0.57357,     0.57457,     0.57558,\n",
       "           0.57658,     0.57758,     0.57858,     0.57958,     0.58058,     0.58158,     0.58258,     0.58358,     0.58458,     0.58559,     0.58659,     0.58759,     0.58859,     0.58959,     0.59059,     0.59159,     0.59259,     0.59359,     0.59459,      0.5956,      0.5966,      0.5976,      0.5986,      0.5996,\n",
       "            0.6006,      0.6016,      0.6026,      0.6036,      0.6046,     0.60561,     0.60661,     0.60761,     0.60861,     0.60961,     0.61061,     0.61161,     0.61261,     0.61361,     0.61461,     0.61562,     0.61662,     0.61762,     0.61862,     0.61962,     0.62062,     0.62162,     0.62262,     0.62362,\n",
       "           0.62462,     0.62563,     0.62663,     0.62763,     0.62863,     0.62963,     0.63063,     0.63163,     0.63263,     0.63363,     0.63463,     0.63564,     0.63664,     0.63764,     0.63864,     0.63964,     0.64064,     0.64164,     0.64264,     0.64364,     0.64464,     0.64565,     0.64665,     0.64765,\n",
       "           0.64865,     0.64965,     0.65065,     0.65165,     0.65265,     0.65365,     0.65465,     0.65566,     0.65666,     0.65766,     0.65866,     0.65966,     0.66066,     0.66166,     0.66266,     0.66366,     0.66466,     0.66567,     0.66667,     0.66767,     0.66867,     0.66967,     0.67067,     0.67167,\n",
       "           0.67267,     0.67367,     0.67467,     0.67568,     0.67668,     0.67768,     0.67868,     0.67968,     0.68068,     0.68168,     0.68268,     0.68368,     0.68468,     0.68569,     0.68669,     0.68769,     0.68869,     0.68969,     0.69069,     0.69169,     0.69269,     0.69369,     0.69469,      0.6957,\n",
       "            0.6967,      0.6977,      0.6987,      0.6997,      0.7007,      0.7017,      0.7027,      0.7037,      0.7047,     0.70571,     0.70671,     0.70771,     0.70871,     0.70971,     0.71071,     0.71171,     0.71271,     0.71371,     0.71471,     0.71572,     0.71672,     0.71772,     0.71872,     0.71972,\n",
       "           0.72072,     0.72172,     0.72272,     0.72372,     0.72472,     0.72573,     0.72673,     0.72773,     0.72873,     0.72973,     0.73073,     0.73173,     0.73273,     0.73373,     0.73473,     0.73574,     0.73674,     0.73774,     0.73874,     0.73974,     0.74074,     0.74174,     0.74274,     0.74374,\n",
       "           0.74474,     0.74575,     0.74675,     0.74775,     0.74875,     0.74975,     0.75075,     0.75175,     0.75275,     0.75375,     0.75475,     0.75576,     0.75676,     0.75776,     0.75876,     0.75976,     0.76076,     0.76176,     0.76276,     0.76376,     0.76476,     0.76577,     0.76677,     0.76777,\n",
       "           0.76877,     0.76977,     0.77077,     0.77177,     0.77277,     0.77377,     0.77477,     0.77578,     0.77678,     0.77778,     0.77878,     0.77978,     0.78078,     0.78178,     0.78278,     0.78378,     0.78478,     0.78579,     0.78679,     0.78779,     0.78879,     0.78979,     0.79079,     0.79179,\n",
       "           0.79279,     0.79379,     0.79479,      0.7958,      0.7968,      0.7978,      0.7988,      0.7998,      0.8008,      0.8018,      0.8028,      0.8038,      0.8048,     0.80581,     0.80681,     0.80781,     0.80881,     0.80981,     0.81081,     0.81181,     0.81281,     0.81381,     0.81481,     0.81582,\n",
       "           0.81682,     0.81782,     0.81882,     0.81982,     0.82082,     0.82182,     0.82282,     0.82382,     0.82482,     0.82583,     0.82683,     0.82783,     0.82883,     0.82983,     0.83083,     0.83183,     0.83283,     0.83383,     0.83483,     0.83584,     0.83684,     0.83784,     0.83884,     0.83984,\n",
       "           0.84084,     0.84184,     0.84284,     0.84384,     0.84484,     0.84585,     0.84685,     0.84785,     0.84885,     0.84985,     0.85085,     0.85185,     0.85285,     0.85385,     0.85485,     0.85586,     0.85686,     0.85786,     0.85886,     0.85986,     0.86086,     0.86186,     0.86286,     0.86386,\n",
       "           0.86486,     0.86587,     0.86687,     0.86787,     0.86887,     0.86987,     0.87087,     0.87187,     0.87287,     0.87387,     0.87487,     0.87588,     0.87688,     0.87788,     0.87888,     0.87988,     0.88088,     0.88188,     0.88288,     0.88388,     0.88488,     0.88589,     0.88689,     0.88789,\n",
       "           0.88889,     0.88989,     0.89089,     0.89189,     0.89289,     0.89389,     0.89489,      0.8959,      0.8969,      0.8979,      0.8989,      0.8999,      0.9009,      0.9019,      0.9029,      0.9039,      0.9049,     0.90591,     0.90691,     0.90791,     0.90891,     0.90991,     0.91091,     0.91191,\n",
       "           0.91291,     0.91391,     0.91491,     0.91592,     0.91692,     0.91792,     0.91892,     0.91992,     0.92092,     0.92192,     0.92292,     0.92392,     0.92492,     0.92593,     0.92693,     0.92793,     0.92893,     0.92993,     0.93093,     0.93193,     0.93293,     0.93393,     0.93493,     0.93594,\n",
       "           0.93694,     0.93794,     0.93894,     0.93994,     0.94094,     0.94194,     0.94294,     0.94394,     0.94494,     0.94595,     0.94695,     0.94795,     0.94895,     0.94995,     0.95095,     0.95195,     0.95295,     0.95395,     0.95495,     0.95596,     0.95696,     0.95796,     0.95896,     0.95996,\n",
       "           0.96096,     0.96196,     0.96296,     0.96396,     0.96496,     0.96597,     0.96697,     0.96797,     0.96897,     0.96997,     0.97097,     0.97197,     0.97297,     0.97397,     0.97497,     0.97598,     0.97698,     0.97798,     0.97898,     0.97998,     0.98098,     0.98198,     0.98298,     0.98398,\n",
       "           0.98498,     0.98599,     0.98699,     0.98799,     0.98899,     0.98999,     0.99099,     0.99199,     0.99299,     0.99399,     0.99499,       0.996,       0.997,       0.998,       0.999,           1]), array([[          1,           1,           1, ...,     0.53333,     0.53333,           0],\n",
       "       [          1,           1,           1, ...,     0.42384,     0.42384,           0],\n",
       "       [          1,           1,           1, ...,     0.18084,     0.18084,           0],\n",
       "       [          1,           1,           1, ...,   0.0006342,   0.0003171,           0]]), 'Recall', 'Precision'], [array([          0,    0.001001,    0.002002,    0.003003,    0.004004,    0.005005,    0.006006,    0.007007,    0.008008,    0.009009,     0.01001,    0.011011,    0.012012,    0.013013,    0.014014,    0.015015,    0.016016,    0.017017,    0.018018,    0.019019,     0.02002,    0.021021,    0.022022,    0.023023,\n",
       "          0.024024,    0.025025,    0.026026,    0.027027,    0.028028,    0.029029,     0.03003,    0.031031,    0.032032,    0.033033,    0.034034,    0.035035,    0.036036,    0.037037,    0.038038,    0.039039,     0.04004,    0.041041,    0.042042,    0.043043,    0.044044,    0.045045,    0.046046,    0.047047,\n",
       "          0.048048,    0.049049,     0.05005,    0.051051,    0.052052,    0.053053,    0.054054,    0.055055,    0.056056,    0.057057,    0.058058,    0.059059,     0.06006,    0.061061,    0.062062,    0.063063,    0.064064,    0.065065,    0.066066,    0.067067,    0.068068,    0.069069,     0.07007,    0.071071,\n",
       "          0.072072,    0.073073,    0.074074,    0.075075,    0.076076,    0.077077,    0.078078,    0.079079,     0.08008,    0.081081,    0.082082,    0.083083,    0.084084,    0.085085,    0.086086,    0.087087,    0.088088,    0.089089,     0.09009,    0.091091,    0.092092,    0.093093,    0.094094,    0.095095,\n",
       "          0.096096,    0.097097,    0.098098,    0.099099,      0.1001,      0.1011,      0.1021,      0.1031,      0.1041,     0.10511,     0.10611,     0.10711,     0.10811,     0.10911,     0.11011,     0.11111,     0.11211,     0.11311,     0.11411,     0.11512,     0.11612,     0.11712,     0.11812,     0.11912,\n",
       "           0.12012,     0.12112,     0.12212,     0.12312,     0.12412,     0.12513,     0.12613,     0.12713,     0.12813,     0.12913,     0.13013,     0.13113,     0.13213,     0.13313,     0.13413,     0.13514,     0.13614,     0.13714,     0.13814,     0.13914,     0.14014,     0.14114,     0.14214,     0.14314,\n",
       "           0.14414,     0.14515,     0.14615,     0.14715,     0.14815,     0.14915,     0.15015,     0.15115,     0.15215,     0.15315,     0.15415,     0.15516,     0.15616,     0.15716,     0.15816,     0.15916,     0.16016,     0.16116,     0.16216,     0.16316,     0.16416,     0.16517,     0.16617,     0.16717,\n",
       "           0.16817,     0.16917,     0.17017,     0.17117,     0.17217,     0.17317,     0.17417,     0.17518,     0.17618,     0.17718,     0.17818,     0.17918,     0.18018,     0.18118,     0.18218,     0.18318,     0.18418,     0.18519,     0.18619,     0.18719,     0.18819,     0.18919,     0.19019,     0.19119,\n",
       "           0.19219,     0.19319,     0.19419,      0.1952,      0.1962,      0.1972,      0.1982,      0.1992,      0.2002,      0.2012,      0.2022,      0.2032,      0.2042,     0.20521,     0.20621,     0.20721,     0.20821,     0.20921,     0.21021,     0.21121,     0.21221,     0.21321,     0.21421,     0.21522,\n",
       "           0.21622,     0.21722,     0.21822,     0.21922,     0.22022,     0.22122,     0.22222,     0.22322,     0.22422,     0.22523,     0.22623,     0.22723,     0.22823,     0.22923,     0.23023,     0.23123,     0.23223,     0.23323,     0.23423,     0.23524,     0.23624,     0.23724,     0.23824,     0.23924,\n",
       "           0.24024,     0.24124,     0.24224,     0.24324,     0.24424,     0.24525,     0.24625,     0.24725,     0.24825,     0.24925,     0.25025,     0.25125,     0.25225,     0.25325,     0.25425,     0.25526,     0.25626,     0.25726,     0.25826,     0.25926,     0.26026,     0.26126,     0.26226,     0.26326,\n",
       "           0.26426,     0.26527,     0.26627,     0.26727,     0.26827,     0.26927,     0.27027,     0.27127,     0.27227,     0.27327,     0.27427,     0.27528,     0.27628,     0.27728,     0.27828,     0.27928,     0.28028,     0.28128,     0.28228,     0.28328,     0.28428,     0.28529,     0.28629,     0.28729,\n",
       "           0.28829,     0.28929,     0.29029,     0.29129,     0.29229,     0.29329,     0.29429,      0.2953,      0.2963,      0.2973,      0.2983,      0.2993,      0.3003,      0.3013,      0.3023,      0.3033,      0.3043,     0.30531,     0.30631,     0.30731,     0.30831,     0.30931,     0.31031,     0.31131,\n",
       "           0.31231,     0.31331,     0.31431,     0.31532,     0.31632,     0.31732,     0.31832,     0.31932,     0.32032,     0.32132,     0.32232,     0.32332,     0.32432,     0.32533,     0.32633,     0.32733,     0.32833,     0.32933,     0.33033,     0.33133,     0.33233,     0.33333,     0.33433,     0.33534,\n",
       "           0.33634,     0.33734,     0.33834,     0.33934,     0.34034,     0.34134,     0.34234,     0.34334,     0.34434,     0.34535,     0.34635,     0.34735,     0.34835,     0.34935,     0.35035,     0.35135,     0.35235,     0.35335,     0.35435,     0.35536,     0.35636,     0.35736,     0.35836,     0.35936,\n",
       "           0.36036,     0.36136,     0.36236,     0.36336,     0.36436,     0.36537,     0.36637,     0.36737,     0.36837,     0.36937,     0.37037,     0.37137,     0.37237,     0.37337,     0.37437,     0.37538,     0.37638,     0.37738,     0.37838,     0.37938,     0.38038,     0.38138,     0.38238,     0.38338,\n",
       "           0.38438,     0.38539,     0.38639,     0.38739,     0.38839,     0.38939,     0.39039,     0.39139,     0.39239,     0.39339,     0.39439,      0.3954,      0.3964,      0.3974,      0.3984,      0.3994,      0.4004,      0.4014,      0.4024,      0.4034,      0.4044,     0.40541,     0.40641,     0.40741,\n",
       "           0.40841,     0.40941,     0.41041,     0.41141,     0.41241,     0.41341,     0.41441,     0.41542,     0.41642,     0.41742,     0.41842,     0.41942,     0.42042,     0.42142,     0.42242,     0.42342,     0.42442,     0.42543,     0.42643,     0.42743,     0.42843,     0.42943,     0.43043,     0.43143,\n",
       "           0.43243,     0.43343,     0.43443,     0.43544,     0.43644,     0.43744,     0.43844,     0.43944,     0.44044,     0.44144,     0.44244,     0.44344,     0.44444,     0.44545,     0.44645,     0.44745,     0.44845,     0.44945,     0.45045,     0.45145,     0.45245,     0.45345,     0.45445,     0.45546,\n",
       "           0.45646,     0.45746,     0.45846,     0.45946,     0.46046,     0.46146,     0.46246,     0.46346,     0.46446,     0.46547,     0.46647,     0.46747,     0.46847,     0.46947,     0.47047,     0.47147,     0.47247,     0.47347,     0.47447,     0.47548,     0.47648,     0.47748,     0.47848,     0.47948,\n",
       "           0.48048,     0.48148,     0.48248,     0.48348,     0.48448,     0.48549,     0.48649,     0.48749,     0.48849,     0.48949,     0.49049,     0.49149,     0.49249,     0.49349,     0.49449,      0.4955,      0.4965,      0.4975,      0.4985,      0.4995,      0.5005,      0.5015,      0.5025,      0.5035,\n",
       "            0.5045,     0.50551,     0.50651,     0.50751,     0.50851,     0.50951,     0.51051,     0.51151,     0.51251,     0.51351,     0.51451,     0.51552,     0.51652,     0.51752,     0.51852,     0.51952,     0.52052,     0.52152,     0.52252,     0.52352,     0.52452,     0.52553,     0.52653,     0.52753,\n",
       "           0.52853,     0.52953,     0.53053,     0.53153,     0.53253,     0.53353,     0.53453,     0.53554,     0.53654,     0.53754,     0.53854,     0.53954,     0.54054,     0.54154,     0.54254,     0.54354,     0.54454,     0.54555,     0.54655,     0.54755,     0.54855,     0.54955,     0.55055,     0.55155,\n",
       "           0.55255,     0.55355,     0.55455,     0.55556,     0.55656,     0.55756,     0.55856,     0.55956,     0.56056,     0.56156,     0.56256,     0.56356,     0.56456,     0.56557,     0.56657,     0.56757,     0.56857,     0.56957,     0.57057,     0.57157,     0.57257,     0.57357,     0.57457,     0.57558,\n",
       "           0.57658,     0.57758,     0.57858,     0.57958,     0.58058,     0.58158,     0.58258,     0.58358,     0.58458,     0.58559,     0.58659,     0.58759,     0.58859,     0.58959,     0.59059,     0.59159,     0.59259,     0.59359,     0.59459,      0.5956,      0.5966,      0.5976,      0.5986,      0.5996,\n",
       "            0.6006,      0.6016,      0.6026,      0.6036,      0.6046,     0.60561,     0.60661,     0.60761,     0.60861,     0.60961,     0.61061,     0.61161,     0.61261,     0.61361,     0.61461,     0.61562,     0.61662,     0.61762,     0.61862,     0.61962,     0.62062,     0.62162,     0.62262,     0.62362,\n",
       "           0.62462,     0.62563,     0.62663,     0.62763,     0.62863,     0.62963,     0.63063,     0.63163,     0.63263,     0.63363,     0.63463,     0.63564,     0.63664,     0.63764,     0.63864,     0.63964,     0.64064,     0.64164,     0.64264,     0.64364,     0.64464,     0.64565,     0.64665,     0.64765,\n",
       "           0.64865,     0.64965,     0.65065,     0.65165,     0.65265,     0.65365,     0.65465,     0.65566,     0.65666,     0.65766,     0.65866,     0.65966,     0.66066,     0.66166,     0.66266,     0.66366,     0.66466,     0.66567,     0.66667,     0.66767,     0.66867,     0.66967,     0.67067,     0.67167,\n",
       "           0.67267,     0.67367,     0.67467,     0.67568,     0.67668,     0.67768,     0.67868,     0.67968,     0.68068,     0.68168,     0.68268,     0.68368,     0.68468,     0.68569,     0.68669,     0.68769,     0.68869,     0.68969,     0.69069,     0.69169,     0.69269,     0.69369,     0.69469,      0.6957,\n",
       "            0.6967,      0.6977,      0.6987,      0.6997,      0.7007,      0.7017,      0.7027,      0.7037,      0.7047,     0.70571,     0.70671,     0.70771,     0.70871,     0.70971,     0.71071,     0.71171,     0.71271,     0.71371,     0.71471,     0.71572,     0.71672,     0.71772,     0.71872,     0.71972,\n",
       "           0.72072,     0.72172,     0.72272,     0.72372,     0.72472,     0.72573,     0.72673,     0.72773,     0.72873,     0.72973,     0.73073,     0.73173,     0.73273,     0.73373,     0.73473,     0.73574,     0.73674,     0.73774,     0.73874,     0.73974,     0.74074,     0.74174,     0.74274,     0.74374,\n",
       "           0.74474,     0.74575,     0.74675,     0.74775,     0.74875,     0.74975,     0.75075,     0.75175,     0.75275,     0.75375,     0.75475,     0.75576,     0.75676,     0.75776,     0.75876,     0.75976,     0.76076,     0.76176,     0.76276,     0.76376,     0.76476,     0.76577,     0.76677,     0.76777,\n",
       "           0.76877,     0.76977,     0.77077,     0.77177,     0.77277,     0.77377,     0.77477,     0.77578,     0.77678,     0.77778,     0.77878,     0.77978,     0.78078,     0.78178,     0.78278,     0.78378,     0.78478,     0.78579,     0.78679,     0.78779,     0.78879,     0.78979,     0.79079,     0.79179,\n",
       "           0.79279,     0.79379,     0.79479,      0.7958,      0.7968,      0.7978,      0.7988,      0.7998,      0.8008,      0.8018,      0.8028,      0.8038,      0.8048,     0.80581,     0.80681,     0.80781,     0.80881,     0.80981,     0.81081,     0.81181,     0.81281,     0.81381,     0.81481,     0.81582,\n",
       "           0.81682,     0.81782,     0.81882,     0.81982,     0.82082,     0.82182,     0.82282,     0.82382,     0.82482,     0.82583,     0.82683,     0.82783,     0.82883,     0.82983,     0.83083,     0.83183,     0.83283,     0.83383,     0.83483,     0.83584,     0.83684,     0.83784,     0.83884,     0.83984,\n",
       "           0.84084,     0.84184,     0.84284,     0.84384,     0.84484,     0.84585,     0.84685,     0.84785,     0.84885,     0.84985,     0.85085,     0.85185,     0.85285,     0.85385,     0.85485,     0.85586,     0.85686,     0.85786,     0.85886,     0.85986,     0.86086,     0.86186,     0.86286,     0.86386,\n",
       "           0.86486,     0.86587,     0.86687,     0.86787,     0.86887,     0.86987,     0.87087,     0.87187,     0.87287,     0.87387,     0.87487,     0.87588,     0.87688,     0.87788,     0.87888,     0.87988,     0.88088,     0.88188,     0.88288,     0.88388,     0.88488,     0.88589,     0.88689,     0.88789,\n",
       "           0.88889,     0.88989,     0.89089,     0.89189,     0.89289,     0.89389,     0.89489,      0.8959,      0.8969,      0.8979,      0.8989,      0.8999,      0.9009,      0.9019,      0.9029,      0.9039,      0.9049,     0.90591,     0.90691,     0.90791,     0.90891,     0.90991,     0.91091,     0.91191,\n",
       "           0.91291,     0.91391,     0.91491,     0.91592,     0.91692,     0.91792,     0.91892,     0.91992,     0.92092,     0.92192,     0.92292,     0.92392,     0.92492,     0.92593,     0.92693,     0.92793,     0.92893,     0.92993,     0.93093,     0.93193,     0.93293,     0.93393,     0.93493,     0.93594,\n",
       "           0.93694,     0.93794,     0.93894,     0.93994,     0.94094,     0.94194,     0.94294,     0.94394,     0.94494,     0.94595,     0.94695,     0.94795,     0.94895,     0.94995,     0.95095,     0.95195,     0.95295,     0.95395,     0.95495,     0.95596,     0.95696,     0.95796,     0.95896,     0.95996,\n",
       "           0.96096,     0.96196,     0.96296,     0.96396,     0.96496,     0.96597,     0.96697,     0.96797,     0.96897,     0.96997,     0.97097,     0.97197,     0.97297,     0.97397,     0.97497,     0.97598,     0.97698,     0.97798,     0.97898,     0.97998,     0.98098,     0.98198,     0.98298,     0.98398,\n",
       "           0.98498,     0.98599,     0.98699,     0.98799,     0.98899,     0.98999,     0.99099,     0.99199,     0.99299,     0.99399,     0.99499,       0.996,       0.997,       0.998,       0.999,           1]), array([[  0.0055149,   0.0055149,   0.0055149, ...,           0,           0,           0],\n",
       "       [    0.01241,     0.01241,     0.01241, ...,           0,           0,           0],\n",
       "       [   0.028762,    0.028762,    0.028762, ...,           0,           0,           0],\n",
       "       [   0.019599,    0.019599,    0.019599, ...,           0,           0,           0]]), 'Confidence', 'F1'], [array([          0,    0.001001,    0.002002,    0.003003,    0.004004,    0.005005,    0.006006,    0.007007,    0.008008,    0.009009,     0.01001,    0.011011,    0.012012,    0.013013,    0.014014,    0.015015,    0.016016,    0.017017,    0.018018,    0.019019,     0.02002,    0.021021,    0.022022,    0.023023,\n",
       "          0.024024,    0.025025,    0.026026,    0.027027,    0.028028,    0.029029,     0.03003,    0.031031,    0.032032,    0.033033,    0.034034,    0.035035,    0.036036,    0.037037,    0.038038,    0.039039,     0.04004,    0.041041,    0.042042,    0.043043,    0.044044,    0.045045,    0.046046,    0.047047,\n",
       "          0.048048,    0.049049,     0.05005,    0.051051,    0.052052,    0.053053,    0.054054,    0.055055,    0.056056,    0.057057,    0.058058,    0.059059,     0.06006,    0.061061,    0.062062,    0.063063,    0.064064,    0.065065,    0.066066,    0.067067,    0.068068,    0.069069,     0.07007,    0.071071,\n",
       "          0.072072,    0.073073,    0.074074,    0.075075,    0.076076,    0.077077,    0.078078,    0.079079,     0.08008,    0.081081,    0.082082,    0.083083,    0.084084,    0.085085,    0.086086,    0.087087,    0.088088,    0.089089,     0.09009,    0.091091,    0.092092,    0.093093,    0.094094,    0.095095,\n",
       "          0.096096,    0.097097,    0.098098,    0.099099,      0.1001,      0.1011,      0.1021,      0.1031,      0.1041,     0.10511,     0.10611,     0.10711,     0.10811,     0.10911,     0.11011,     0.11111,     0.11211,     0.11311,     0.11411,     0.11512,     0.11612,     0.11712,     0.11812,     0.11912,\n",
       "           0.12012,     0.12112,     0.12212,     0.12312,     0.12412,     0.12513,     0.12613,     0.12713,     0.12813,     0.12913,     0.13013,     0.13113,     0.13213,     0.13313,     0.13413,     0.13514,     0.13614,     0.13714,     0.13814,     0.13914,     0.14014,     0.14114,     0.14214,     0.14314,\n",
       "           0.14414,     0.14515,     0.14615,     0.14715,     0.14815,     0.14915,     0.15015,     0.15115,     0.15215,     0.15315,     0.15415,     0.15516,     0.15616,     0.15716,     0.15816,     0.15916,     0.16016,     0.16116,     0.16216,     0.16316,     0.16416,     0.16517,     0.16617,     0.16717,\n",
       "           0.16817,     0.16917,     0.17017,     0.17117,     0.17217,     0.17317,     0.17417,     0.17518,     0.17618,     0.17718,     0.17818,     0.17918,     0.18018,     0.18118,     0.18218,     0.18318,     0.18418,     0.18519,     0.18619,     0.18719,     0.18819,     0.18919,     0.19019,     0.19119,\n",
       "           0.19219,     0.19319,     0.19419,      0.1952,      0.1962,      0.1972,      0.1982,      0.1992,      0.2002,      0.2012,      0.2022,      0.2032,      0.2042,     0.20521,     0.20621,     0.20721,     0.20821,     0.20921,     0.21021,     0.21121,     0.21221,     0.21321,     0.21421,     0.21522,\n",
       "           0.21622,     0.21722,     0.21822,     0.21922,     0.22022,     0.22122,     0.22222,     0.22322,     0.22422,     0.22523,     0.22623,     0.22723,     0.22823,     0.22923,     0.23023,     0.23123,     0.23223,     0.23323,     0.23423,     0.23524,     0.23624,     0.23724,     0.23824,     0.23924,\n",
       "           0.24024,     0.24124,     0.24224,     0.24324,     0.24424,     0.24525,     0.24625,     0.24725,     0.24825,     0.24925,     0.25025,     0.25125,     0.25225,     0.25325,     0.25425,     0.25526,     0.25626,     0.25726,     0.25826,     0.25926,     0.26026,     0.26126,     0.26226,     0.26326,\n",
       "           0.26426,     0.26527,     0.26627,     0.26727,     0.26827,     0.26927,     0.27027,     0.27127,     0.27227,     0.27327,     0.27427,     0.27528,     0.27628,     0.27728,     0.27828,     0.27928,     0.28028,     0.28128,     0.28228,     0.28328,     0.28428,     0.28529,     0.28629,     0.28729,\n",
       "           0.28829,     0.28929,     0.29029,     0.29129,     0.29229,     0.29329,     0.29429,      0.2953,      0.2963,      0.2973,      0.2983,      0.2993,      0.3003,      0.3013,      0.3023,      0.3033,      0.3043,     0.30531,     0.30631,     0.30731,     0.30831,     0.30931,     0.31031,     0.31131,\n",
       "           0.31231,     0.31331,     0.31431,     0.31532,     0.31632,     0.31732,     0.31832,     0.31932,     0.32032,     0.32132,     0.32232,     0.32332,     0.32432,     0.32533,     0.32633,     0.32733,     0.32833,     0.32933,     0.33033,     0.33133,     0.33233,     0.33333,     0.33433,     0.33534,\n",
       "           0.33634,     0.33734,     0.33834,     0.33934,     0.34034,     0.34134,     0.34234,     0.34334,     0.34434,     0.34535,     0.34635,     0.34735,     0.34835,     0.34935,     0.35035,     0.35135,     0.35235,     0.35335,     0.35435,     0.35536,     0.35636,     0.35736,     0.35836,     0.35936,\n",
       "           0.36036,     0.36136,     0.36236,     0.36336,     0.36436,     0.36537,     0.36637,     0.36737,     0.36837,     0.36937,     0.37037,     0.37137,     0.37237,     0.37337,     0.37437,     0.37538,     0.37638,     0.37738,     0.37838,     0.37938,     0.38038,     0.38138,     0.38238,     0.38338,\n",
       "           0.38438,     0.38539,     0.38639,     0.38739,     0.38839,     0.38939,     0.39039,     0.39139,     0.39239,     0.39339,     0.39439,      0.3954,      0.3964,      0.3974,      0.3984,      0.3994,      0.4004,      0.4014,      0.4024,      0.4034,      0.4044,     0.40541,     0.40641,     0.40741,\n",
       "           0.40841,     0.40941,     0.41041,     0.41141,     0.41241,     0.41341,     0.41441,     0.41542,     0.41642,     0.41742,     0.41842,     0.41942,     0.42042,     0.42142,     0.42242,     0.42342,     0.42442,     0.42543,     0.42643,     0.42743,     0.42843,     0.42943,     0.43043,     0.43143,\n",
       "           0.43243,     0.43343,     0.43443,     0.43544,     0.43644,     0.43744,     0.43844,     0.43944,     0.44044,     0.44144,     0.44244,     0.44344,     0.44444,     0.44545,     0.44645,     0.44745,     0.44845,     0.44945,     0.45045,     0.45145,     0.45245,     0.45345,     0.45445,     0.45546,\n",
       "           0.45646,     0.45746,     0.45846,     0.45946,     0.46046,     0.46146,     0.46246,     0.46346,     0.46446,     0.46547,     0.46647,     0.46747,     0.46847,     0.46947,     0.47047,     0.47147,     0.47247,     0.47347,     0.47447,     0.47548,     0.47648,     0.47748,     0.47848,     0.47948,\n",
       "           0.48048,     0.48148,     0.48248,     0.48348,     0.48448,     0.48549,     0.48649,     0.48749,     0.48849,     0.48949,     0.49049,     0.49149,     0.49249,     0.49349,     0.49449,      0.4955,      0.4965,      0.4975,      0.4985,      0.4995,      0.5005,      0.5015,      0.5025,      0.5035,\n",
       "            0.5045,     0.50551,     0.50651,     0.50751,     0.50851,     0.50951,     0.51051,     0.51151,     0.51251,     0.51351,     0.51451,     0.51552,     0.51652,     0.51752,     0.51852,     0.51952,     0.52052,     0.52152,     0.52252,     0.52352,     0.52452,     0.52553,     0.52653,     0.52753,\n",
       "           0.52853,     0.52953,     0.53053,     0.53153,     0.53253,     0.53353,     0.53453,     0.53554,     0.53654,     0.53754,     0.53854,     0.53954,     0.54054,     0.54154,     0.54254,     0.54354,     0.54454,     0.54555,     0.54655,     0.54755,     0.54855,     0.54955,     0.55055,     0.55155,\n",
       "           0.55255,     0.55355,     0.55455,     0.55556,     0.55656,     0.55756,     0.55856,     0.55956,     0.56056,     0.56156,     0.56256,     0.56356,     0.56456,     0.56557,     0.56657,     0.56757,     0.56857,     0.56957,     0.57057,     0.57157,     0.57257,     0.57357,     0.57457,     0.57558,\n",
       "           0.57658,     0.57758,     0.57858,     0.57958,     0.58058,     0.58158,     0.58258,     0.58358,     0.58458,     0.58559,     0.58659,     0.58759,     0.58859,     0.58959,     0.59059,     0.59159,     0.59259,     0.59359,     0.59459,      0.5956,      0.5966,      0.5976,      0.5986,      0.5996,\n",
       "            0.6006,      0.6016,      0.6026,      0.6036,      0.6046,     0.60561,     0.60661,     0.60761,     0.60861,     0.60961,     0.61061,     0.61161,     0.61261,     0.61361,     0.61461,     0.61562,     0.61662,     0.61762,     0.61862,     0.61962,     0.62062,     0.62162,     0.62262,     0.62362,\n",
       "           0.62462,     0.62563,     0.62663,     0.62763,     0.62863,     0.62963,     0.63063,     0.63163,     0.63263,     0.63363,     0.63463,     0.63564,     0.63664,     0.63764,     0.63864,     0.63964,     0.64064,     0.64164,     0.64264,     0.64364,     0.64464,     0.64565,     0.64665,     0.64765,\n",
       "           0.64865,     0.64965,     0.65065,     0.65165,     0.65265,     0.65365,     0.65465,     0.65566,     0.65666,     0.65766,     0.65866,     0.65966,     0.66066,     0.66166,     0.66266,     0.66366,     0.66466,     0.66567,     0.66667,     0.66767,     0.66867,     0.66967,     0.67067,     0.67167,\n",
       "           0.67267,     0.67367,     0.67467,     0.67568,     0.67668,     0.67768,     0.67868,     0.67968,     0.68068,     0.68168,     0.68268,     0.68368,     0.68468,     0.68569,     0.68669,     0.68769,     0.68869,     0.68969,     0.69069,     0.69169,     0.69269,     0.69369,     0.69469,      0.6957,\n",
       "            0.6967,      0.6977,      0.6987,      0.6997,      0.7007,      0.7017,      0.7027,      0.7037,      0.7047,     0.70571,     0.70671,     0.70771,     0.70871,     0.70971,     0.71071,     0.71171,     0.71271,     0.71371,     0.71471,     0.71572,     0.71672,     0.71772,     0.71872,     0.71972,\n",
       "           0.72072,     0.72172,     0.72272,     0.72372,     0.72472,     0.72573,     0.72673,     0.72773,     0.72873,     0.72973,     0.73073,     0.73173,     0.73273,     0.73373,     0.73473,     0.73574,     0.73674,     0.73774,     0.73874,     0.73974,     0.74074,     0.74174,     0.74274,     0.74374,\n",
       "           0.74474,     0.74575,     0.74675,     0.74775,     0.74875,     0.74975,     0.75075,     0.75175,     0.75275,     0.75375,     0.75475,     0.75576,     0.75676,     0.75776,     0.75876,     0.75976,     0.76076,     0.76176,     0.76276,     0.76376,     0.76476,     0.76577,     0.76677,     0.76777,\n",
       "           0.76877,     0.76977,     0.77077,     0.77177,     0.77277,     0.77377,     0.77477,     0.77578,     0.77678,     0.77778,     0.77878,     0.77978,     0.78078,     0.78178,     0.78278,     0.78378,     0.78478,     0.78579,     0.78679,     0.78779,     0.78879,     0.78979,     0.79079,     0.79179,\n",
       "           0.79279,     0.79379,     0.79479,      0.7958,      0.7968,      0.7978,      0.7988,      0.7998,      0.8008,      0.8018,      0.8028,      0.8038,      0.8048,     0.80581,     0.80681,     0.80781,     0.80881,     0.80981,     0.81081,     0.81181,     0.81281,     0.81381,     0.81481,     0.81582,\n",
       "           0.81682,     0.81782,     0.81882,     0.81982,     0.82082,     0.82182,     0.82282,     0.82382,     0.82482,     0.82583,     0.82683,     0.82783,     0.82883,     0.82983,     0.83083,     0.83183,     0.83283,     0.83383,     0.83483,     0.83584,     0.83684,     0.83784,     0.83884,     0.83984,\n",
       "           0.84084,     0.84184,     0.84284,     0.84384,     0.84484,     0.84585,     0.84685,     0.84785,     0.84885,     0.84985,     0.85085,     0.85185,     0.85285,     0.85385,     0.85485,     0.85586,     0.85686,     0.85786,     0.85886,     0.85986,     0.86086,     0.86186,     0.86286,     0.86386,\n",
       "           0.86486,     0.86587,     0.86687,     0.86787,     0.86887,     0.86987,     0.87087,     0.87187,     0.87287,     0.87387,     0.87487,     0.87588,     0.87688,     0.87788,     0.87888,     0.87988,     0.88088,     0.88188,     0.88288,     0.88388,     0.88488,     0.88589,     0.88689,     0.88789,\n",
       "           0.88889,     0.88989,     0.89089,     0.89189,     0.89289,     0.89389,     0.89489,      0.8959,      0.8969,      0.8979,      0.8989,      0.8999,      0.9009,      0.9019,      0.9029,      0.9039,      0.9049,     0.90591,     0.90691,     0.90791,     0.90891,     0.90991,     0.91091,     0.91191,\n",
       "           0.91291,     0.91391,     0.91491,     0.91592,     0.91692,     0.91792,     0.91892,     0.91992,     0.92092,     0.92192,     0.92292,     0.92392,     0.92492,     0.92593,     0.92693,     0.92793,     0.92893,     0.92993,     0.93093,     0.93193,     0.93293,     0.93393,     0.93493,     0.93594,\n",
       "           0.93694,     0.93794,     0.93894,     0.93994,     0.94094,     0.94194,     0.94294,     0.94394,     0.94494,     0.94595,     0.94695,     0.94795,     0.94895,     0.94995,     0.95095,     0.95195,     0.95295,     0.95395,     0.95495,     0.95596,     0.95696,     0.95796,     0.95896,     0.95996,\n",
       "           0.96096,     0.96196,     0.96296,     0.96396,     0.96496,     0.96597,     0.96697,     0.96797,     0.96897,     0.96997,     0.97097,     0.97197,     0.97297,     0.97397,     0.97497,     0.97598,     0.97698,     0.97798,     0.97898,     0.97998,     0.98098,     0.98198,     0.98298,     0.98398,\n",
       "           0.98498,     0.98599,     0.98699,     0.98799,     0.98899,     0.98999,     0.99099,     0.99199,     0.99299,     0.99399,     0.99499,       0.996,       0.997,       0.998,       0.999,           1]), array([[  0.0027651,   0.0027651,   0.0027651, ...,           1,           1,           1],\n",
       "       [  0.0062439,   0.0062439,   0.0062439, ...,           1,           1,           1],\n",
       "       [   0.014591,    0.014591,    0.014591, ...,           1,           1,           1],\n",
       "       [  0.0098994,   0.0098994,   0.0098994, ...,           1,           1,           1]]), 'Confidence', 'Precision'], [array([          0,    0.001001,    0.002002,    0.003003,    0.004004,    0.005005,    0.006006,    0.007007,    0.008008,    0.009009,     0.01001,    0.011011,    0.012012,    0.013013,    0.014014,    0.015015,    0.016016,    0.017017,    0.018018,    0.019019,     0.02002,    0.021021,    0.022022,    0.023023,\n",
       "          0.024024,    0.025025,    0.026026,    0.027027,    0.028028,    0.029029,     0.03003,    0.031031,    0.032032,    0.033033,    0.034034,    0.035035,    0.036036,    0.037037,    0.038038,    0.039039,     0.04004,    0.041041,    0.042042,    0.043043,    0.044044,    0.045045,    0.046046,    0.047047,\n",
       "          0.048048,    0.049049,     0.05005,    0.051051,    0.052052,    0.053053,    0.054054,    0.055055,    0.056056,    0.057057,    0.058058,    0.059059,     0.06006,    0.061061,    0.062062,    0.063063,    0.064064,    0.065065,    0.066066,    0.067067,    0.068068,    0.069069,     0.07007,    0.071071,\n",
       "          0.072072,    0.073073,    0.074074,    0.075075,    0.076076,    0.077077,    0.078078,    0.079079,     0.08008,    0.081081,    0.082082,    0.083083,    0.084084,    0.085085,    0.086086,    0.087087,    0.088088,    0.089089,     0.09009,    0.091091,    0.092092,    0.093093,    0.094094,    0.095095,\n",
       "          0.096096,    0.097097,    0.098098,    0.099099,      0.1001,      0.1011,      0.1021,      0.1031,      0.1041,     0.10511,     0.10611,     0.10711,     0.10811,     0.10911,     0.11011,     0.11111,     0.11211,     0.11311,     0.11411,     0.11512,     0.11612,     0.11712,     0.11812,     0.11912,\n",
       "           0.12012,     0.12112,     0.12212,     0.12312,     0.12412,     0.12513,     0.12613,     0.12713,     0.12813,     0.12913,     0.13013,     0.13113,     0.13213,     0.13313,     0.13413,     0.13514,     0.13614,     0.13714,     0.13814,     0.13914,     0.14014,     0.14114,     0.14214,     0.14314,\n",
       "           0.14414,     0.14515,     0.14615,     0.14715,     0.14815,     0.14915,     0.15015,     0.15115,     0.15215,     0.15315,     0.15415,     0.15516,     0.15616,     0.15716,     0.15816,     0.15916,     0.16016,     0.16116,     0.16216,     0.16316,     0.16416,     0.16517,     0.16617,     0.16717,\n",
       "           0.16817,     0.16917,     0.17017,     0.17117,     0.17217,     0.17317,     0.17417,     0.17518,     0.17618,     0.17718,     0.17818,     0.17918,     0.18018,     0.18118,     0.18218,     0.18318,     0.18418,     0.18519,     0.18619,     0.18719,     0.18819,     0.18919,     0.19019,     0.19119,\n",
       "           0.19219,     0.19319,     0.19419,      0.1952,      0.1962,      0.1972,      0.1982,      0.1992,      0.2002,      0.2012,      0.2022,      0.2032,      0.2042,     0.20521,     0.20621,     0.20721,     0.20821,     0.20921,     0.21021,     0.21121,     0.21221,     0.21321,     0.21421,     0.21522,\n",
       "           0.21622,     0.21722,     0.21822,     0.21922,     0.22022,     0.22122,     0.22222,     0.22322,     0.22422,     0.22523,     0.22623,     0.22723,     0.22823,     0.22923,     0.23023,     0.23123,     0.23223,     0.23323,     0.23423,     0.23524,     0.23624,     0.23724,     0.23824,     0.23924,\n",
       "           0.24024,     0.24124,     0.24224,     0.24324,     0.24424,     0.24525,     0.24625,     0.24725,     0.24825,     0.24925,     0.25025,     0.25125,     0.25225,     0.25325,     0.25425,     0.25526,     0.25626,     0.25726,     0.25826,     0.25926,     0.26026,     0.26126,     0.26226,     0.26326,\n",
       "           0.26426,     0.26527,     0.26627,     0.26727,     0.26827,     0.26927,     0.27027,     0.27127,     0.27227,     0.27327,     0.27427,     0.27528,     0.27628,     0.27728,     0.27828,     0.27928,     0.28028,     0.28128,     0.28228,     0.28328,     0.28428,     0.28529,     0.28629,     0.28729,\n",
       "           0.28829,     0.28929,     0.29029,     0.29129,     0.29229,     0.29329,     0.29429,      0.2953,      0.2963,      0.2973,      0.2983,      0.2993,      0.3003,      0.3013,      0.3023,      0.3033,      0.3043,     0.30531,     0.30631,     0.30731,     0.30831,     0.30931,     0.31031,     0.31131,\n",
       "           0.31231,     0.31331,     0.31431,     0.31532,     0.31632,     0.31732,     0.31832,     0.31932,     0.32032,     0.32132,     0.32232,     0.32332,     0.32432,     0.32533,     0.32633,     0.32733,     0.32833,     0.32933,     0.33033,     0.33133,     0.33233,     0.33333,     0.33433,     0.33534,\n",
       "           0.33634,     0.33734,     0.33834,     0.33934,     0.34034,     0.34134,     0.34234,     0.34334,     0.34434,     0.34535,     0.34635,     0.34735,     0.34835,     0.34935,     0.35035,     0.35135,     0.35235,     0.35335,     0.35435,     0.35536,     0.35636,     0.35736,     0.35836,     0.35936,\n",
       "           0.36036,     0.36136,     0.36236,     0.36336,     0.36436,     0.36537,     0.36637,     0.36737,     0.36837,     0.36937,     0.37037,     0.37137,     0.37237,     0.37337,     0.37437,     0.37538,     0.37638,     0.37738,     0.37838,     0.37938,     0.38038,     0.38138,     0.38238,     0.38338,\n",
       "           0.38438,     0.38539,     0.38639,     0.38739,     0.38839,     0.38939,     0.39039,     0.39139,     0.39239,     0.39339,     0.39439,      0.3954,      0.3964,      0.3974,      0.3984,      0.3994,      0.4004,      0.4014,      0.4024,      0.4034,      0.4044,     0.40541,     0.40641,     0.40741,\n",
       "           0.40841,     0.40941,     0.41041,     0.41141,     0.41241,     0.41341,     0.41441,     0.41542,     0.41642,     0.41742,     0.41842,     0.41942,     0.42042,     0.42142,     0.42242,     0.42342,     0.42442,     0.42543,     0.42643,     0.42743,     0.42843,     0.42943,     0.43043,     0.43143,\n",
       "           0.43243,     0.43343,     0.43443,     0.43544,     0.43644,     0.43744,     0.43844,     0.43944,     0.44044,     0.44144,     0.44244,     0.44344,     0.44444,     0.44545,     0.44645,     0.44745,     0.44845,     0.44945,     0.45045,     0.45145,     0.45245,     0.45345,     0.45445,     0.45546,\n",
       "           0.45646,     0.45746,     0.45846,     0.45946,     0.46046,     0.46146,     0.46246,     0.46346,     0.46446,     0.46547,     0.46647,     0.46747,     0.46847,     0.46947,     0.47047,     0.47147,     0.47247,     0.47347,     0.47447,     0.47548,     0.47648,     0.47748,     0.47848,     0.47948,\n",
       "           0.48048,     0.48148,     0.48248,     0.48348,     0.48448,     0.48549,     0.48649,     0.48749,     0.48849,     0.48949,     0.49049,     0.49149,     0.49249,     0.49349,     0.49449,      0.4955,      0.4965,      0.4975,      0.4985,      0.4995,      0.5005,      0.5015,      0.5025,      0.5035,\n",
       "            0.5045,     0.50551,     0.50651,     0.50751,     0.50851,     0.50951,     0.51051,     0.51151,     0.51251,     0.51351,     0.51451,     0.51552,     0.51652,     0.51752,     0.51852,     0.51952,     0.52052,     0.52152,     0.52252,     0.52352,     0.52452,     0.52553,     0.52653,     0.52753,\n",
       "           0.52853,     0.52953,     0.53053,     0.53153,     0.53253,     0.53353,     0.53453,     0.53554,     0.53654,     0.53754,     0.53854,     0.53954,     0.54054,     0.54154,     0.54254,     0.54354,     0.54454,     0.54555,     0.54655,     0.54755,     0.54855,     0.54955,     0.55055,     0.55155,\n",
       "           0.55255,     0.55355,     0.55455,     0.55556,     0.55656,     0.55756,     0.55856,     0.55956,     0.56056,     0.56156,     0.56256,     0.56356,     0.56456,     0.56557,     0.56657,     0.56757,     0.56857,     0.56957,     0.57057,     0.57157,     0.57257,     0.57357,     0.57457,     0.57558,\n",
       "           0.57658,     0.57758,     0.57858,     0.57958,     0.58058,     0.58158,     0.58258,     0.58358,     0.58458,     0.58559,     0.58659,     0.58759,     0.58859,     0.58959,     0.59059,     0.59159,     0.59259,     0.59359,     0.59459,      0.5956,      0.5966,      0.5976,      0.5986,      0.5996,\n",
       "            0.6006,      0.6016,      0.6026,      0.6036,      0.6046,     0.60561,     0.60661,     0.60761,     0.60861,     0.60961,     0.61061,     0.61161,     0.61261,     0.61361,     0.61461,     0.61562,     0.61662,     0.61762,     0.61862,     0.61962,     0.62062,     0.62162,     0.62262,     0.62362,\n",
       "           0.62462,     0.62563,     0.62663,     0.62763,     0.62863,     0.62963,     0.63063,     0.63163,     0.63263,     0.63363,     0.63463,     0.63564,     0.63664,     0.63764,     0.63864,     0.63964,     0.64064,     0.64164,     0.64264,     0.64364,     0.64464,     0.64565,     0.64665,     0.64765,\n",
       "           0.64865,     0.64965,     0.65065,     0.65165,     0.65265,     0.65365,     0.65465,     0.65566,     0.65666,     0.65766,     0.65866,     0.65966,     0.66066,     0.66166,     0.66266,     0.66366,     0.66466,     0.66567,     0.66667,     0.66767,     0.66867,     0.66967,     0.67067,     0.67167,\n",
       "           0.67267,     0.67367,     0.67467,     0.67568,     0.67668,     0.67768,     0.67868,     0.67968,     0.68068,     0.68168,     0.68268,     0.68368,     0.68468,     0.68569,     0.68669,     0.68769,     0.68869,     0.68969,     0.69069,     0.69169,     0.69269,     0.69369,     0.69469,      0.6957,\n",
       "            0.6967,      0.6977,      0.6987,      0.6997,      0.7007,      0.7017,      0.7027,      0.7037,      0.7047,     0.70571,     0.70671,     0.70771,     0.70871,     0.70971,     0.71071,     0.71171,     0.71271,     0.71371,     0.71471,     0.71572,     0.71672,     0.71772,     0.71872,     0.71972,\n",
       "           0.72072,     0.72172,     0.72272,     0.72372,     0.72472,     0.72573,     0.72673,     0.72773,     0.72873,     0.72973,     0.73073,     0.73173,     0.73273,     0.73373,     0.73473,     0.73574,     0.73674,     0.73774,     0.73874,     0.73974,     0.74074,     0.74174,     0.74274,     0.74374,\n",
       "           0.74474,     0.74575,     0.74675,     0.74775,     0.74875,     0.74975,     0.75075,     0.75175,     0.75275,     0.75375,     0.75475,     0.75576,     0.75676,     0.75776,     0.75876,     0.75976,     0.76076,     0.76176,     0.76276,     0.76376,     0.76476,     0.76577,     0.76677,     0.76777,\n",
       "           0.76877,     0.76977,     0.77077,     0.77177,     0.77277,     0.77377,     0.77477,     0.77578,     0.77678,     0.77778,     0.77878,     0.77978,     0.78078,     0.78178,     0.78278,     0.78378,     0.78478,     0.78579,     0.78679,     0.78779,     0.78879,     0.78979,     0.79079,     0.79179,\n",
       "           0.79279,     0.79379,     0.79479,      0.7958,      0.7968,      0.7978,      0.7988,      0.7998,      0.8008,      0.8018,      0.8028,      0.8038,      0.8048,     0.80581,     0.80681,     0.80781,     0.80881,     0.80981,     0.81081,     0.81181,     0.81281,     0.81381,     0.81481,     0.81582,\n",
       "           0.81682,     0.81782,     0.81882,     0.81982,     0.82082,     0.82182,     0.82282,     0.82382,     0.82482,     0.82583,     0.82683,     0.82783,     0.82883,     0.82983,     0.83083,     0.83183,     0.83283,     0.83383,     0.83483,     0.83584,     0.83684,     0.83784,     0.83884,     0.83984,\n",
       "           0.84084,     0.84184,     0.84284,     0.84384,     0.84484,     0.84585,     0.84685,     0.84785,     0.84885,     0.84985,     0.85085,     0.85185,     0.85285,     0.85385,     0.85485,     0.85586,     0.85686,     0.85786,     0.85886,     0.85986,     0.86086,     0.86186,     0.86286,     0.86386,\n",
       "           0.86486,     0.86587,     0.86687,     0.86787,     0.86887,     0.86987,     0.87087,     0.87187,     0.87287,     0.87387,     0.87487,     0.87588,     0.87688,     0.87788,     0.87888,     0.87988,     0.88088,     0.88188,     0.88288,     0.88388,     0.88488,     0.88589,     0.88689,     0.88789,\n",
       "           0.88889,     0.88989,     0.89089,     0.89189,     0.89289,     0.89389,     0.89489,      0.8959,      0.8969,      0.8979,      0.8989,      0.8999,      0.9009,      0.9019,      0.9029,      0.9039,      0.9049,     0.90591,     0.90691,     0.90791,     0.90891,     0.90991,     0.91091,     0.91191,\n",
       "           0.91291,     0.91391,     0.91491,     0.91592,     0.91692,     0.91792,     0.91892,     0.91992,     0.92092,     0.92192,     0.92292,     0.92392,     0.92492,     0.92593,     0.92693,     0.92793,     0.92893,     0.92993,     0.93093,     0.93193,     0.93293,     0.93393,     0.93493,     0.93594,\n",
       "           0.93694,     0.93794,     0.93894,     0.93994,     0.94094,     0.94194,     0.94294,     0.94394,     0.94494,     0.94595,     0.94695,     0.94795,     0.94895,     0.94995,     0.95095,     0.95195,     0.95295,     0.95395,     0.95495,     0.95596,     0.95696,     0.95796,     0.95896,     0.95996,\n",
       "           0.96096,     0.96196,     0.96296,     0.96396,     0.96496,     0.96597,     0.96697,     0.96797,     0.96897,     0.96997,     0.97097,     0.97197,     0.97297,     0.97397,     0.97497,     0.97598,     0.97698,     0.97798,     0.97898,     0.97998,     0.98098,     0.98198,     0.98298,     0.98398,\n",
       "           0.98498,     0.98599,     0.98699,     0.98799,     0.98899,     0.98999,     0.99099,     0.99199,     0.99299,     0.99399,     0.99499,       0.996,       0.997,       0.998,       0.999,           1]), array([[          1,           1,           1, ...,           0,           0,           0],\n",
       "       [          1,           1,           1, ...,           0,           0,           0],\n",
       "       [          1,           1,           1, ...,           0,           0,           0],\n",
       "       [    0.96875,     0.96875,     0.96875, ...,           0,           0,           0]]), 'Confidence', 'Recall']]\n",
       "fitness: 0.5609995106582946\n",
       "keys: ['metrics/precision(B)', 'metrics/recall(B)', 'metrics/mAP50(B)', 'metrics/mAP50-95(B)']\n",
       "maps: array([     0.5282,     0.64867,     0.63476,     0.29942])\n",
       "names: {0: 'Safety_vest', 1: 'Helmet', 2: 'Mobile', 3: 'Cigarettes'}\n",
       "plot: True\n",
       "results_dict: {'metrics/precision(B)': 0.8571622879673709, 'metrics/recall(B)': 0.8360542526384092, 'metrics/mAP50(B)': 0.8601232069279896, 'metrics/mAP50-95(B)': 0.5277635444061062, 'fitness': 0.5609995106582946}\n",
       "save_dir: PosixPath('runs/detect/unified_yolov8_augmented_v1n')\n",
       "speed: {'preprocess': 0.8910612424105322, 'inference': 249.39386773483864, 'loss': 2.3356044425092865e-05, 'postprocess': 4.543852901406353}\n",
       "task: 'detect'"
      ]
     },
     "execution_count": 3,
     "metadata": {},
     "output_type": "execute_result"
    }
   ],
   "source": [
    "from ultralytics import YOLO\n",
    "\n",
    "# Load pre-trained model\n",
    "model = YOLO('yolov8n.pt')\n",
    "\n",
    "# Train the model\n",
    "model.train(\n",
    "    data='augmented.yml',        # Your dataset YAML file\n",
    "    epochs=100,                  # Max epochs\n",
    "    patience=15,                 # Early stopping after 15 stagnant epochs\n",
    "    imgsz=640,                   # Image size\n",
    "    batch=16,                    # Adjust based on your GPU memory\n",
    "    augment=True,                # Enable augmentations\n",
    "    lr0=0.001,                   # Initial learning rate (fine-tuned from 0.01)\n",
    "    lrf=0.01,                    # Final learning rate fraction (default is 0.01)\n",
    "    warmup_epochs=3,            # Helps prevent divergence early on\n",
    "    optimizer='SGD',            # You can try 'Adam' if training is unstable\n",
    "    cos_lr=True,                # Cosine learning rate schedule\n",
    "    dropout=0.1,                # Small dropout for better generalization\n",
    "    weight_decay=0.0005,        # Slight L2 regularization\n",
    "    mosaic=1.0,                 # Full strength Mosaic augmentation\n",
    "    hsv_h=0.015, hsv_s=0.7, hsv_v=0.4,  # Color augmentation tuning\n",
    "    mixup=0.2,                  # Slight mixup helps generalization\n",
    "    cache=True,                 # Speed up training if you have enough RAM\n",
    "    save=True,                  # Save the final model\n",
    "    save_period=10,             # Save every 10 epochs\n",
    "    name='unified_yolov8_augmented_v1n'  # Custom experiment name\n",
    ")\n"
   ]
  },
  {
   "cell_type": "code",
   "execution_count": null,
   "id": "06996c06-536f-46fb-8c0b-e36c01784f8d",
   "metadata": {},
   "outputs": [
    {
     "name": "stdout",
     "output_type": "stream",
     "text": [
      "Ultralytics 8.3.136 🚀 Python-3.12.2 torch-2.6.0 CPU (Apple M2)\n",
      "Model summary (fused): 72 layers, 3,006,428 parameters, 0 gradients, 8.1 GFLOPs\n",
      "\n",
      "video 1/1 (frame 1/489) /Users/dongarisrikashyap/Downloads/Deep Machine Learning Project/After Augmentation/Project Aug n/../test2.mp4: 384x640 1 Safety_vest, 1 Helmet, 33.6ms\n",
      "video 1/1 (frame 2/489) /Users/dongarisrikashyap/Downloads/Deep Machine Learning Project/After Augmentation/Project Aug n/../test2.mp4: 384x640 1 Safety_vest, 1 Helmet, 29.7ms\n",
      "video 1/1 (frame 3/489) /Users/dongarisrikashyap/Downloads/Deep Machine Learning Project/After Augmentation/Project Aug n/../test2.mp4: 384x640 1 Safety_vest, 1 Helmet, 36.6ms\n",
      "video 1/1 (frame 4/489) /Users/dongarisrikashyap/Downloads/Deep Machine Learning Project/After Augmentation/Project Aug n/../test2.mp4: 384x640 1 Safety_vest, 1 Helmet, 35.4ms\n",
      "video 1/1 (frame 5/489) /Users/dongarisrikashyap/Downloads/Deep Machine Learning Project/After Augmentation/Project Aug n/../test2.mp4: 384x640 1 Safety_vest, 1 Helmet, 33.7ms\n",
      "video 1/1 (frame 6/489) /Users/dongarisrikashyap/Downloads/Deep Machine Learning Project/After Augmentation/Project Aug n/../test2.mp4: 384x640 1 Safety_vest, 1 Helmet, 40.0ms\n",
      "video 1/1 (frame 7/489) /Users/dongarisrikashyap/Downloads/Deep Machine Learning Project/After Augmentation/Project Aug n/../test2.mp4: 384x640 1 Safety_vest, 1 Helmet, 30.4ms\n",
      "video 1/1 (frame 8/489) /Users/dongarisrikashyap/Downloads/Deep Machine Learning Project/After Augmentation/Project Aug n/../test2.mp4: 384x640 1 Safety_vest, 1 Helmet, 32.6ms\n",
      "video 1/1 (frame 9/489) /Users/dongarisrikashyap/Downloads/Deep Machine Learning Project/After Augmentation/Project Aug n/../test2.mp4: 384x640 1 Safety_vest, 1 Helmet, 28.8ms\n",
      "video 1/1 (frame 10/489) /Users/dongarisrikashyap/Downloads/Deep Machine Learning Project/After Augmentation/Project Aug n/../test2.mp4: 384x640 1 Safety_vest, 1 Helmet, 30.1ms\n",
      "video 1/1 (frame 11/489) /Users/dongarisrikashyap/Downloads/Deep Machine Learning Project/After Augmentation/Project Aug n/../test2.mp4: 384x640 1 Safety_vest, 1 Helmet, 31.0ms\n",
      "video 1/1 (frame 12/489) /Users/dongarisrikashyap/Downloads/Deep Machine Learning Project/After Augmentation/Project Aug n/../test2.mp4: 384x640 1 Safety_vest, 1 Helmet, 29.2ms\n",
      "video 1/1 (frame 13/489) /Users/dongarisrikashyap/Downloads/Deep Machine Learning Project/After Augmentation/Project Aug n/../test2.mp4: 384x640 1 Safety_vest, 1 Helmet, 28.2ms\n",
      "video 1/1 (frame 14/489) /Users/dongarisrikashyap/Downloads/Deep Machine Learning Project/After Augmentation/Project Aug n/../test2.mp4: 384x640 1 Safety_vest, 1 Helmet, 30.2ms\n",
      "video 1/1 (frame 15/489) /Users/dongarisrikashyap/Downloads/Deep Machine Learning Project/After Augmentation/Project Aug n/../test2.mp4: 384x640 1 Safety_vest, 1 Helmet, 28.5ms\n",
      "video 1/1 (frame 16/489) /Users/dongarisrikashyap/Downloads/Deep Machine Learning Project/After Augmentation/Project Aug n/../test2.mp4: 384x640 1 Safety_vest, 1 Helmet, 29.7ms\n",
      "video 1/1 (frame 17/489) /Users/dongarisrikashyap/Downloads/Deep Machine Learning Project/After Augmentation/Project Aug n/../test2.mp4: 384x640 1 Safety_vest, 1 Helmet, 29.1ms\n",
      "video 1/1 (frame 18/489) /Users/dongarisrikashyap/Downloads/Deep Machine Learning Project/After Augmentation/Project Aug n/../test2.mp4: 384x640 1 Safety_vest, 1 Helmet, 28.2ms\n",
      "video 1/1 (frame 19/489) /Users/dongarisrikashyap/Downloads/Deep Machine Learning Project/After Augmentation/Project Aug n/../test2.mp4: 384x640 1 Safety_vest, 1 Helmet, 29.9ms\n",
      "video 1/1 (frame 20/489) /Users/dongarisrikashyap/Downloads/Deep Machine Learning Project/After Augmentation/Project Aug n/../test2.mp4: 384x640 1 Safety_vest, 1 Helmet, 30.5ms\n",
      "video 1/1 (frame 21/489) /Users/dongarisrikashyap/Downloads/Deep Machine Learning Project/After Augmentation/Project Aug n/../test2.mp4: 384x640 1 Safety_vest, 1 Helmet, 28.7ms\n",
      "video 1/1 (frame 22/489) /Users/dongarisrikashyap/Downloads/Deep Machine Learning Project/After Augmentation/Project Aug n/../test2.mp4: 384x640 1 Safety_vest, 1 Helmet, 30.0ms\n",
      "video 1/1 (frame 23/489) /Users/dongarisrikashyap/Downloads/Deep Machine Learning Project/After Augmentation/Project Aug n/../test2.mp4: 384x640 1 Safety_vest, 1 Helmet, 29.4ms\n",
      "video 1/1 (frame 24/489) /Users/dongarisrikashyap/Downloads/Deep Machine Learning Project/After Augmentation/Project Aug n/../test2.mp4: 384x640 1 Safety_vest, 1 Helmet, 27.6ms\n",
      "video 1/1 (frame 25/489) /Users/dongarisrikashyap/Downloads/Deep Machine Learning Project/After Augmentation/Project Aug n/../test2.mp4: 384x640 1 Safety_vest, 1 Helmet, 29.3ms\n",
      "video 1/1 (frame 26/489) /Users/dongarisrikashyap/Downloads/Deep Machine Learning Project/After Augmentation/Project Aug n/../test2.mp4: 384x640 1 Safety_vest, 1 Helmet, 29.8ms\n",
      "video 1/1 (frame 27/489) /Users/dongarisrikashyap/Downloads/Deep Machine Learning Project/After Augmentation/Project Aug n/../test2.mp4: 384x640 1 Safety_vest, 1 Helmet, 28.4ms\n",
      "video 1/1 (frame 28/489) /Users/dongarisrikashyap/Downloads/Deep Machine Learning Project/After Augmentation/Project Aug n/../test2.mp4: 384x640 1 Safety_vest, 1 Helmet, 30.6ms\n",
      "video 1/1 (frame 29/489) /Users/dongarisrikashyap/Downloads/Deep Machine Learning Project/After Augmentation/Project Aug n/../test2.mp4: 384x640 1 Safety_vest, 1 Helmet, 31.8ms\n",
      "video 1/1 (frame 30/489) /Users/dongarisrikashyap/Downloads/Deep Machine Learning Project/After Augmentation/Project Aug n/../test2.mp4: 384x640 1 Safety_vest, 1 Helmet, 28.0ms\n",
      "video 1/1 (frame 31/489) /Users/dongarisrikashyap/Downloads/Deep Machine Learning Project/After Augmentation/Project Aug n/../test2.mp4: 384x640 1 Safety_vest, 1 Helmet, 29.7ms\n",
      "video 1/1 (frame 32/489) /Users/dongarisrikashyap/Downloads/Deep Machine Learning Project/After Augmentation/Project Aug n/../test2.mp4: 384x640 1 Safety_vest, 1 Helmet, 33.6ms\n",
      "video 1/1 (frame 33/489) /Users/dongarisrikashyap/Downloads/Deep Machine Learning Project/After Augmentation/Project Aug n/../test2.mp4: 384x640 1 Safety_vest, 1 Helmet, 29.7ms\n",
      "video 1/1 (frame 34/489) /Users/dongarisrikashyap/Downloads/Deep Machine Learning Project/After Augmentation/Project Aug n/../test2.mp4: 384x640 1 Safety_vest, 1 Helmet, 55.4ms\n",
      "video 1/1 (frame 35/489) /Users/dongarisrikashyap/Downloads/Deep Machine Learning Project/After Augmentation/Project Aug n/../test2.mp4: 384x640 1 Safety_vest, 1 Helmet, 41.8ms\n",
      "video 1/1 (frame 36/489) /Users/dongarisrikashyap/Downloads/Deep Machine Learning Project/After Augmentation/Project Aug n/../test2.mp4: 384x640 1 Safety_vest, 1 Helmet, 29.1ms\n",
      "video 1/1 (frame 37/489) /Users/dongarisrikashyap/Downloads/Deep Machine Learning Project/After Augmentation/Project Aug n/../test2.mp4: 384x640 1 Safety_vest, 1 Helmet, 30.7ms\n",
      "video 1/1 (frame 38/489) /Users/dongarisrikashyap/Downloads/Deep Machine Learning Project/After Augmentation/Project Aug n/../test2.mp4: 384x640 1 Safety_vest, 1 Helmet, 28.9ms\n",
      "video 1/1 (frame 39/489) /Users/dongarisrikashyap/Downloads/Deep Machine Learning Project/After Augmentation/Project Aug n/../test2.mp4: 384x640 1 Safety_vest, 1 Helmet, 28.9ms\n",
      "video 1/1 (frame 40/489) /Users/dongarisrikashyap/Downloads/Deep Machine Learning Project/After Augmentation/Project Aug n/../test2.mp4: 384x640 1 Safety_vest, 1 Helmet, 33.7ms\n",
      "video 1/1 (frame 41/489) /Users/dongarisrikashyap/Downloads/Deep Machine Learning Project/After Augmentation/Project Aug n/../test2.mp4: 384x640 1 Safety_vest, 1 Helmet, 32.0ms\n",
      "video 1/1 (frame 42/489) /Users/dongarisrikashyap/Downloads/Deep Machine Learning Project/After Augmentation/Project Aug n/../test2.mp4: 384x640 1 Safety_vest, 1 Helmet, 27.7ms\n",
      "video 1/1 (frame 43/489) /Users/dongarisrikashyap/Downloads/Deep Machine Learning Project/After Augmentation/Project Aug n/../test2.mp4: 384x640 1 Safety_vest, 1 Helmet, 39.7ms\n",
      "video 1/1 (frame 44/489) /Users/dongarisrikashyap/Downloads/Deep Machine Learning Project/After Augmentation/Project Aug n/../test2.mp4: 384x640 1 Safety_vest, 1 Helmet, 37.9ms\n",
      "video 1/1 (frame 45/489) /Users/dongarisrikashyap/Downloads/Deep Machine Learning Project/After Augmentation/Project Aug n/../test2.mp4: 384x640 1 Safety_vest, 1 Helmet, 31.2ms\n",
      "video 1/1 (frame 46/489) /Users/dongarisrikashyap/Downloads/Deep Machine Learning Project/After Augmentation/Project Aug n/../test2.mp4: 384x640 1 Safety_vest, 1 Helmet, 29.9ms\n",
      "video 1/1 (frame 47/489) /Users/dongarisrikashyap/Downloads/Deep Machine Learning Project/After Augmentation/Project Aug n/../test2.mp4: 384x640 1 Safety_vest, 1 Helmet, 32.1ms\n",
      "video 1/1 (frame 48/489) /Users/dongarisrikashyap/Downloads/Deep Machine Learning Project/After Augmentation/Project Aug n/../test2.mp4: 384x640 1 Safety_vest, 1 Helmet, 36.5ms\n",
      "video 1/1 (frame 49/489) /Users/dongarisrikashyap/Downloads/Deep Machine Learning Project/After Augmentation/Project Aug n/../test2.mp4: 384x640 1 Safety_vest, 1 Helmet, 34.0ms\n",
      "video 1/1 (frame 50/489) /Users/dongarisrikashyap/Downloads/Deep Machine Learning Project/After Augmentation/Project Aug n/../test2.mp4: 384x640 1 Safety_vest, 1 Helmet, 36.9ms\n",
      "video 1/1 (frame 51/489) /Users/dongarisrikashyap/Downloads/Deep Machine Learning Project/After Augmentation/Project Aug n/../test2.mp4: 384x640 1 Safety_vest, 1 Helmet, 38.1ms\n",
      "video 1/1 (frame 52/489) /Users/dongarisrikashyap/Downloads/Deep Machine Learning Project/After Augmentation/Project Aug n/../test2.mp4: 384x640 1 Safety_vest, 1 Helmet, 31.1ms\n",
      "video 1/1 (frame 53/489) /Users/dongarisrikashyap/Downloads/Deep Machine Learning Project/After Augmentation/Project Aug n/../test2.mp4: 384x640 1 Safety_vest, 1 Helmet, 32.9ms\n",
      "video 1/1 (frame 54/489) /Users/dongarisrikashyap/Downloads/Deep Machine Learning Project/After Augmentation/Project Aug n/../test2.mp4: 384x640 1 Safety_vest, 1 Helmet, 35.9ms\n",
      "video 1/1 (frame 55/489) /Users/dongarisrikashyap/Downloads/Deep Machine Learning Project/After Augmentation/Project Aug n/../test2.mp4: 384x640 1 Safety_vest, 1 Helmet, 42.6ms\n",
      "video 1/1 (frame 56/489) /Users/dongarisrikashyap/Downloads/Deep Machine Learning Project/After Augmentation/Project Aug n/../test2.mp4: 384x640 1 Safety_vest, 1 Helmet, 31.6ms\n",
      "video 1/1 (frame 57/489) /Users/dongarisrikashyap/Downloads/Deep Machine Learning Project/After Augmentation/Project Aug n/../test2.mp4: 384x640 1 Safety_vest, 1 Helmet, 29.6ms\n",
      "video 1/1 (frame 58/489) /Users/dongarisrikashyap/Downloads/Deep Machine Learning Project/After Augmentation/Project Aug n/../test2.mp4: 384x640 1 Safety_vest, 1 Helmet, 33.1ms\n",
      "video 1/1 (frame 59/489) /Users/dongarisrikashyap/Downloads/Deep Machine Learning Project/After Augmentation/Project Aug n/../test2.mp4: 384x640 1 Safety_vest, 1 Helmet, 31.5ms\n",
      "video 1/1 (frame 60/489) /Users/dongarisrikashyap/Downloads/Deep Machine Learning Project/After Augmentation/Project Aug n/../test2.mp4: 384x640 1 Safety_vest, 1 Helmet, 29.5ms\n",
      "video 1/1 (frame 61/489) /Users/dongarisrikashyap/Downloads/Deep Machine Learning Project/After Augmentation/Project Aug n/../test2.mp4: 384x640 1 Safety_vest, 1 Helmet, 31.3ms\n",
      "video 1/1 (frame 62/489) /Users/dongarisrikashyap/Downloads/Deep Machine Learning Project/After Augmentation/Project Aug n/../test2.mp4: 384x640 1 Safety_vest, 1 Helmet, 35.1ms\n",
      "video 1/1 (frame 63/489) /Users/dongarisrikashyap/Downloads/Deep Machine Learning Project/After Augmentation/Project Aug n/../test2.mp4: 384x640 1 Safety_vest, 1 Helmet, 31.5ms\n",
      "video 1/1 (frame 64/489) /Users/dongarisrikashyap/Downloads/Deep Machine Learning Project/After Augmentation/Project Aug n/../test2.mp4: 384x640 1 Safety_vest, 1 Helmet, 31.8ms\n",
      "video 1/1 (frame 65/489) /Users/dongarisrikashyap/Downloads/Deep Machine Learning Project/After Augmentation/Project Aug n/../test2.mp4: 384x640 1 Safety_vest, 1 Helmet, 33.8ms\n",
      "video 1/1 (frame 66/489) /Users/dongarisrikashyap/Downloads/Deep Machine Learning Project/After Augmentation/Project Aug n/../test2.mp4: 384x640 1 Safety_vest, 1 Helmet, 35.0ms\n",
      "video 1/1 (frame 67/489) /Users/dongarisrikashyap/Downloads/Deep Machine Learning Project/After Augmentation/Project Aug n/../test2.mp4: 384x640 1 Safety_vest, 1 Helmet, 29.6ms\n",
      "video 1/1 (frame 68/489) /Users/dongarisrikashyap/Downloads/Deep Machine Learning Project/After Augmentation/Project Aug n/../test2.mp4: 384x640 1 Safety_vest, 1 Helmet, 30.4ms\n",
      "video 1/1 (frame 69/489) /Users/dongarisrikashyap/Downloads/Deep Machine Learning Project/After Augmentation/Project Aug n/../test2.mp4: 384x640 1 Safety_vest, 1 Helmet, 32.2ms\n",
      "video 1/1 (frame 70/489) /Users/dongarisrikashyap/Downloads/Deep Machine Learning Project/After Augmentation/Project Aug n/../test2.mp4: 384x640 1 Safety_vest, 1 Helmet, 34.1ms\n",
      "video 1/1 (frame 71/489) /Users/dongarisrikashyap/Downloads/Deep Machine Learning Project/After Augmentation/Project Aug n/../test2.mp4: 384x640 1 Safety_vest, 1 Helmet, 33.8ms\n",
      "video 1/1 (frame 72/489) /Users/dongarisrikashyap/Downloads/Deep Machine Learning Project/After Augmentation/Project Aug n/../test2.mp4: 384x640 1 Safety_vest, 1 Helmet, 32.6ms\n",
      "video 1/1 (frame 73/489) /Users/dongarisrikashyap/Downloads/Deep Machine Learning Project/After Augmentation/Project Aug n/../test2.mp4: 384x640 1 Safety_vest, 1 Helmet, 34.1ms\n",
      "video 1/1 (frame 74/489) /Users/dongarisrikashyap/Downloads/Deep Machine Learning Project/After Augmentation/Project Aug n/../test2.mp4: 384x640 1 Safety_vest, 1 Helmet, 34.4ms\n",
      "video 1/1 (frame 75/489) /Users/dongarisrikashyap/Downloads/Deep Machine Learning Project/After Augmentation/Project Aug n/../test2.mp4: 384x640 1 Safety_vest, 1 Helmet, 30.2ms\n",
      "video 1/1 (frame 76/489) /Users/dongarisrikashyap/Downloads/Deep Machine Learning Project/After Augmentation/Project Aug n/../test2.mp4: 384x640 1 Safety_vest, 1 Helmet, 36.2ms\n",
      "video 1/1 (frame 77/489) /Users/dongarisrikashyap/Downloads/Deep Machine Learning Project/After Augmentation/Project Aug n/../test2.mp4: 384x640 1 Safety_vest, 1 Helmet, 37.7ms\n",
      "video 1/1 (frame 78/489) /Users/dongarisrikashyap/Downloads/Deep Machine Learning Project/After Augmentation/Project Aug n/../test2.mp4: 384x640 1 Safety_vest, 1 Helmet, 36.9ms\n",
      "video 1/1 (frame 79/489) /Users/dongarisrikashyap/Downloads/Deep Machine Learning Project/After Augmentation/Project Aug n/../test2.mp4: 384x640 1 Safety_vest, 1 Helmet, 31.0ms\n",
      "video 1/1 (frame 80/489) /Users/dongarisrikashyap/Downloads/Deep Machine Learning Project/After Augmentation/Project Aug n/../test2.mp4: 384x640 1 Safety_vest, 1 Helmet, 33.7ms\n",
      "video 1/1 (frame 81/489) /Users/dongarisrikashyap/Downloads/Deep Machine Learning Project/After Augmentation/Project Aug n/../test2.mp4: 384x640 1 Safety_vest, 1 Helmet, 38.4ms\n",
      "video 1/1 (frame 82/489) /Users/dongarisrikashyap/Downloads/Deep Machine Learning Project/After Augmentation/Project Aug n/../test2.mp4: 384x640 1 Safety_vest, 1 Helmet, 34.6ms\n",
      "video 1/1 (frame 83/489) /Users/dongarisrikashyap/Downloads/Deep Machine Learning Project/After Augmentation/Project Aug n/../test2.mp4: 384x640 1 Safety_vest, 1 Helmet, 28.9ms\n",
      "video 1/1 (frame 84/489) /Users/dongarisrikashyap/Downloads/Deep Machine Learning Project/After Augmentation/Project Aug n/../test2.mp4: 384x640 1 Safety_vest, 1 Helmet, 31.1ms\n",
      "video 1/1 (frame 85/489) /Users/dongarisrikashyap/Downloads/Deep Machine Learning Project/After Augmentation/Project Aug n/../test2.mp4: 384x640 1 Safety_vest, 1 Helmet, 35.1ms\n",
      "video 1/1 (frame 86/489) /Users/dongarisrikashyap/Downloads/Deep Machine Learning Project/After Augmentation/Project Aug n/../test2.mp4: 384x640 1 Safety_vest, 1 Helmet, 33.3ms\n",
      "video 1/1 (frame 87/489) /Users/dongarisrikashyap/Downloads/Deep Machine Learning Project/After Augmentation/Project Aug n/../test2.mp4: 384x640 1 Safety_vest, 1 Helmet, 31.5ms\n",
      "video 1/1 (frame 88/489) /Users/dongarisrikashyap/Downloads/Deep Machine Learning Project/After Augmentation/Project Aug n/../test2.mp4: 384x640 1 Safety_vest, 1 Helmet, 34.2ms\n",
      "video 1/1 (frame 89/489) /Users/dongarisrikashyap/Downloads/Deep Machine Learning Project/After Augmentation/Project Aug n/../test2.mp4: 384x640 1 Safety_vest, 1 Helmet, 37.8ms\n",
      "video 1/1 (frame 90/489) /Users/dongarisrikashyap/Downloads/Deep Machine Learning Project/After Augmentation/Project Aug n/../test2.mp4: 384x640 1 Safety_vest, 1 Helmet, 36.3ms\n",
      "video 1/1 (frame 91/489) /Users/dongarisrikashyap/Downloads/Deep Machine Learning Project/After Augmentation/Project Aug n/../test2.mp4: 384x640 1 Safety_vest, 1 Helmet, 34.3ms\n",
      "video 1/1 (frame 92/489) /Users/dongarisrikashyap/Downloads/Deep Machine Learning Project/After Augmentation/Project Aug n/../test2.mp4: 384x640 1 Safety_vest, 1 Helmet, 38.3ms\n",
      "video 1/1 (frame 93/489) /Users/dongarisrikashyap/Downloads/Deep Machine Learning Project/After Augmentation/Project Aug n/../test2.mp4: 384x640 1 Safety_vest, 1 Helmet, 35.2ms\n",
      "video 1/1 (frame 94/489) /Users/dongarisrikashyap/Downloads/Deep Machine Learning Project/After Augmentation/Project Aug n/../test2.mp4: 384x640 1 Safety_vest, 1 Helmet, 32.9ms\n",
      "video 1/1 (frame 95/489) /Users/dongarisrikashyap/Downloads/Deep Machine Learning Project/After Augmentation/Project Aug n/../test2.mp4: 384x640 1 Safety_vest, 1 Helmet, 33.8ms\n",
      "video 1/1 (frame 96/489) /Users/dongarisrikashyap/Downloads/Deep Machine Learning Project/After Augmentation/Project Aug n/../test2.mp4: 384x640 1 Safety_vest, 1 Helmet, 34.4ms\n",
      "video 1/1 (frame 97/489) /Users/dongarisrikashyap/Downloads/Deep Machine Learning Project/After Augmentation/Project Aug n/../test2.mp4: 384x640 1 Safety_vest, 1 Helmet, 33.6ms\n",
      "video 1/1 (frame 98/489) /Users/dongarisrikashyap/Downloads/Deep Machine Learning Project/After Augmentation/Project Aug n/../test2.mp4: 384x640 1 Safety_vest, 1 Helmet, 31.4ms\n",
      "video 1/1 (frame 99/489) /Users/dongarisrikashyap/Downloads/Deep Machine Learning Project/After Augmentation/Project Aug n/../test2.mp4: 384x640 1 Safety_vest, 1 Helmet, 33.0ms\n",
      "video 1/1 (frame 100/489) /Users/dongarisrikashyap/Downloads/Deep Machine Learning Project/After Augmentation/Project Aug n/../test2.mp4: 384x640 1 Safety_vest, 1 Helmet, 35.5ms\n",
      "video 1/1 (frame 101/489) /Users/dongarisrikashyap/Downloads/Deep Machine Learning Project/After Augmentation/Project Aug n/../test2.mp4: 384x640 1 Safety_vest, 1 Helmet, 34.1ms\n",
      "video 1/1 (frame 102/489) /Users/dongarisrikashyap/Downloads/Deep Machine Learning Project/After Augmentation/Project Aug n/../test2.mp4: 384x640 1 Safety_vest, 1 Helmet, 32.0ms\n",
      "video 1/1 (frame 103/489) /Users/dongarisrikashyap/Downloads/Deep Machine Learning Project/After Augmentation/Project Aug n/../test2.mp4: 384x640 1 Safety_vest, 1 Helmet, 33.3ms\n",
      "video 1/1 (frame 104/489) /Users/dongarisrikashyap/Downloads/Deep Machine Learning Project/After Augmentation/Project Aug n/../test2.mp4: 384x640 1 Safety_vest, 1 Helmet, 34.7ms\n",
      "video 1/1 (frame 105/489) /Users/dongarisrikashyap/Downloads/Deep Machine Learning Project/After Augmentation/Project Aug n/../test2.mp4: 384x640 1 Safety_vest, 1 Helmet, 33.1ms\n",
      "video 1/1 (frame 106/489) /Users/dongarisrikashyap/Downloads/Deep Machine Learning Project/After Augmentation/Project Aug n/../test2.mp4: 384x640 1 Safety_vest, 1 Helmet, 32.6ms\n",
      "video 1/1 (frame 107/489) /Users/dongarisrikashyap/Downloads/Deep Machine Learning Project/After Augmentation/Project Aug n/../test2.mp4: 384x640 1 Safety_vest, 1 Helmet, 34.0ms\n",
      "video 1/1 (frame 108/489) /Users/dongarisrikashyap/Downloads/Deep Machine Learning Project/After Augmentation/Project Aug n/../test2.mp4: 384x640 1 Safety_vest, 1 Helmet, 34.3ms\n",
      "video 1/1 (frame 109/489) /Users/dongarisrikashyap/Downloads/Deep Machine Learning Project/After Augmentation/Project Aug n/../test2.mp4: 384x640 1 Safety_vest, 1 Helmet, 33.0ms\n",
      "video 1/1 (frame 110/489) /Users/dongarisrikashyap/Downloads/Deep Machine Learning Project/After Augmentation/Project Aug n/../test2.mp4: 384x640 1 Safety_vest, 1 Helmet, 34.0ms\n",
      "video 1/1 (frame 111/489) /Users/dongarisrikashyap/Downloads/Deep Machine Learning Project/After Augmentation/Project Aug n/../test2.mp4: 384x640 1 Safety_vest, 1 Helmet, 33.3ms\n",
      "video 1/1 (frame 112/489) /Users/dongarisrikashyap/Downloads/Deep Machine Learning Project/After Augmentation/Project Aug n/../test2.mp4: 384x640 1 Safety_vest, 1 Helmet, 34.9ms\n",
      "video 1/1 (frame 113/489) /Users/dongarisrikashyap/Downloads/Deep Machine Learning Project/After Augmentation/Project Aug n/../test2.mp4: 384x640 1 Safety_vest, 1 Helmet, 32.8ms\n",
      "video 1/1 (frame 114/489) /Users/dongarisrikashyap/Downloads/Deep Machine Learning Project/After Augmentation/Project Aug n/../test2.mp4: 384x640 1 Safety_vest, 1 Helmet, 34.8ms\n",
      "video 1/1 (frame 115/489) /Users/dongarisrikashyap/Downloads/Deep Machine Learning Project/After Augmentation/Project Aug n/../test2.mp4: 384x640 1 Safety_vest, 1 Helmet, 33.9ms\n",
      "video 1/1 (frame 116/489) /Users/dongarisrikashyap/Downloads/Deep Machine Learning Project/After Augmentation/Project Aug n/../test2.mp4: 384x640 1 Safety_vest, 1 Helmet, 34.0ms\n",
      "video 1/1 (frame 117/489) /Users/dongarisrikashyap/Downloads/Deep Machine Learning Project/After Augmentation/Project Aug n/../test2.mp4: 384x640 1 Safety_vest, 1 Helmet, 33.5ms\n",
      "video 1/1 (frame 118/489) /Users/dongarisrikashyap/Downloads/Deep Machine Learning Project/After Augmentation/Project Aug n/../test2.mp4: 384x640 1 Safety_vest, 1 Helmet, 33.3ms\n",
      "video 1/1 (frame 119/489) /Users/dongarisrikashyap/Downloads/Deep Machine Learning Project/After Augmentation/Project Aug n/../test2.mp4: 384x640 1 Safety_vest, 1 Helmet, 32.4ms\n",
      "video 1/1 (frame 120/489) /Users/dongarisrikashyap/Downloads/Deep Machine Learning Project/After Augmentation/Project Aug n/../test2.mp4: 384x640 1 Safety_vest, 1 Helmet, 34.5ms\n",
      "video 1/1 (frame 121/489) /Users/dongarisrikashyap/Downloads/Deep Machine Learning Project/After Augmentation/Project Aug n/../test2.mp4: 384x640 1 Safety_vest, 1 Helmet, 33.7ms\n",
      "video 1/1 (frame 122/489) /Users/dongarisrikashyap/Downloads/Deep Machine Learning Project/After Augmentation/Project Aug n/../test2.mp4: 384x640 1 Safety_vest, 1 Helmet, 33.8ms\n",
      "video 1/1 (frame 123/489) /Users/dongarisrikashyap/Downloads/Deep Machine Learning Project/After Augmentation/Project Aug n/../test2.mp4: 384x640 1 Safety_vest, 1 Helmet, 31.4ms\n",
      "video 1/1 (frame 124/489) /Users/dongarisrikashyap/Downloads/Deep Machine Learning Project/After Augmentation/Project Aug n/../test2.mp4: 384x640 1 Safety_vest, 1 Helmet, 30.6ms\n",
      "video 1/1 (frame 125/489) /Users/dongarisrikashyap/Downloads/Deep Machine Learning Project/After Augmentation/Project Aug n/../test2.mp4: 384x640 1 Safety_vest, 1 Helmet, 34.3ms\n",
      "video 1/1 (frame 126/489) /Users/dongarisrikashyap/Downloads/Deep Machine Learning Project/After Augmentation/Project Aug n/../test2.mp4: 384x640 1 Safety_vest, 1 Helmet, 36.3ms\n",
      "video 1/1 (frame 127/489) /Users/dongarisrikashyap/Downloads/Deep Machine Learning Project/After Augmentation/Project Aug n/../test2.mp4: 384x640 1 Safety_vest, 1 Helmet, 33.6ms\n",
      "video 1/1 (frame 128/489) /Users/dongarisrikashyap/Downloads/Deep Machine Learning Project/After Augmentation/Project Aug n/../test2.mp4: 384x640 1 Safety_vest, 1 Helmet, 35.1ms\n",
      "video 1/1 (frame 129/489) /Users/dongarisrikashyap/Downloads/Deep Machine Learning Project/After Augmentation/Project Aug n/../test2.mp4: 384x640 1 Safety_vest, 1 Helmet, 40.9ms\n",
      "video 1/1 (frame 130/489) /Users/dongarisrikashyap/Downloads/Deep Machine Learning Project/After Augmentation/Project Aug n/../test2.mp4: 384x640 1 Safety_vest, 1 Helmet, 50.3ms\n",
      "video 1/1 (frame 131/489) /Users/dongarisrikashyap/Downloads/Deep Machine Learning Project/After Augmentation/Project Aug n/../test2.mp4: 384x640 1 Safety_vest, 1 Helmet, 1 Cigarettes, 33.1ms\n",
      "video 1/1 (frame 132/489) /Users/dongarisrikashyap/Downloads/Deep Machine Learning Project/After Augmentation/Project Aug n/../test2.mp4: 384x640 1 Safety_vest, 1 Helmet, 1 Cigarettes, 36.0ms\n",
      "video 1/1 (frame 133/489) /Users/dongarisrikashyap/Downloads/Deep Machine Learning Project/After Augmentation/Project Aug n/../test2.mp4: 384x640 1 Safety_vest, 1 Helmet, 1 Cigarettes, 37.2ms\n",
      "video 1/1 (frame 134/489) /Users/dongarisrikashyap/Downloads/Deep Machine Learning Project/After Augmentation/Project Aug n/../test2.mp4: 384x640 1 Safety_vest, 1 Helmet, 1 Cigarettes, 30.7ms\n",
      "video 1/1 (frame 135/489) /Users/dongarisrikashyap/Downloads/Deep Machine Learning Project/After Augmentation/Project Aug n/../test2.mp4: 384x640 1 Safety_vest, 1 Helmet, 1 Cigarettes, 29.2ms\n",
      "video 1/1 (frame 136/489) /Users/dongarisrikashyap/Downloads/Deep Machine Learning Project/After Augmentation/Project Aug n/../test2.mp4: 384x640 1 Safety_vest, 1 Helmet, 1 Cigarettes, 31.1ms\n",
      "video 1/1 (frame 137/489) /Users/dongarisrikashyap/Downloads/Deep Machine Learning Project/After Augmentation/Project Aug n/../test2.mp4: 384x640 1 Safety_vest, 1 Helmet, 1 Cigarettes, 34.0ms\n",
      "video 1/1 (frame 138/489) /Users/dongarisrikashyap/Downloads/Deep Machine Learning Project/After Augmentation/Project Aug n/../test2.mp4: 384x640 1 Safety_vest, 1 Helmet, 1 Cigarettes, 34.2ms\n",
      "video 1/1 (frame 139/489) /Users/dongarisrikashyap/Downloads/Deep Machine Learning Project/After Augmentation/Project Aug n/../test2.mp4: 384x640 1 Safety_vest, 1 Helmet, 1 Cigarettes, 32.3ms\n",
      "video 1/1 (frame 140/489) /Users/dongarisrikashyap/Downloads/Deep Machine Learning Project/After Augmentation/Project Aug n/../test2.mp4: 384x640 1 Safety_vest, 1 Helmet, 1 Cigarettes, 36.6ms\n",
      "video 1/1 (frame 141/489) /Users/dongarisrikashyap/Downloads/Deep Machine Learning Project/After Augmentation/Project Aug n/../test2.mp4: 384x640 1 Safety_vest, 1 Helmet, 1 Cigarettes, 39.4ms\n",
      "video 1/1 (frame 142/489) /Users/dongarisrikashyap/Downloads/Deep Machine Learning Project/After Augmentation/Project Aug n/../test2.mp4: 384x640 1 Safety_vest, 1 Helmet, 1 Cigarettes, 35.7ms\n",
      "video 1/1 (frame 143/489) /Users/dongarisrikashyap/Downloads/Deep Machine Learning Project/After Augmentation/Project Aug n/../test2.mp4: 384x640 1 Safety_vest, 1 Helmet, 1 Cigarettes, 30.7ms\n",
      "video 1/1 (frame 144/489) /Users/dongarisrikashyap/Downloads/Deep Machine Learning Project/After Augmentation/Project Aug n/../test2.mp4: 384x640 1 Safety_vest, 1 Helmet, 1 Cigarettes, 34.5ms\n",
      "video 1/1 (frame 145/489) /Users/dongarisrikashyap/Downloads/Deep Machine Learning Project/After Augmentation/Project Aug n/../test2.mp4: 384x640 1 Safety_vest, 1 Helmet, 1 Cigarettes, 37.6ms\n",
      "video 1/1 (frame 146/489) /Users/dongarisrikashyap/Downloads/Deep Machine Learning Project/After Augmentation/Project Aug n/../test2.mp4: 384x640 1 Safety_vest, 1 Helmet, 1 Cigarettes, 36.1ms\n",
      "video 1/1 (frame 147/489) /Users/dongarisrikashyap/Downloads/Deep Machine Learning Project/After Augmentation/Project Aug n/../test2.mp4: 384x640 1 Safety_vest, 1 Helmet, 1 Cigarettes, 32.1ms\n",
      "video 1/1 (frame 148/489) /Users/dongarisrikashyap/Downloads/Deep Machine Learning Project/After Augmentation/Project Aug n/../test2.mp4: 384x640 1 Safety_vest, 1 Helmet, 1 Cigarettes, 32.6ms\n",
      "video 1/1 (frame 149/489) /Users/dongarisrikashyap/Downloads/Deep Machine Learning Project/After Augmentation/Project Aug n/../test2.mp4: 384x640 1 Safety_vest, 1 Helmet, 1 Cigarettes, 37.7ms\n",
      "video 1/1 (frame 150/489) /Users/dongarisrikashyap/Downloads/Deep Machine Learning Project/After Augmentation/Project Aug n/../test2.mp4: 384x640 1 Safety_vest, 1 Helmet, 1 Cigarettes, 37.5ms\n",
      "video 1/1 (frame 151/489) /Users/dongarisrikashyap/Downloads/Deep Machine Learning Project/After Augmentation/Project Aug n/../test2.mp4: 384x640 1 Safety_vest, 1 Helmet, 35.4ms\n",
      "video 1/1 (frame 152/489) /Users/dongarisrikashyap/Downloads/Deep Machine Learning Project/After Augmentation/Project Aug n/../test2.mp4: 384x640 1 Safety_vest, 1 Helmet, 33.1ms\n",
      "video 1/1 (frame 153/489) /Users/dongarisrikashyap/Downloads/Deep Machine Learning Project/After Augmentation/Project Aug n/../test2.mp4: 384x640 1 Safety_vest, 1 Helmet, 34.3ms\n",
      "video 1/1 (frame 154/489) /Users/dongarisrikashyap/Downloads/Deep Machine Learning Project/After Augmentation/Project Aug n/../test2.mp4: 384x640 1 Safety_vest, 1 Helmet, 36.2ms\n",
      "video 1/1 (frame 155/489) /Users/dongarisrikashyap/Downloads/Deep Machine Learning Project/After Augmentation/Project Aug n/../test2.mp4: 384x640 1 Safety_vest, 1 Helmet, 35.9ms\n",
      "video 1/1 (frame 156/489) /Users/dongarisrikashyap/Downloads/Deep Machine Learning Project/After Augmentation/Project Aug n/../test2.mp4: 384x640 1 Safety_vest, 1 Helmet, 35.3ms\n",
      "video 1/1 (frame 157/489) /Users/dongarisrikashyap/Downloads/Deep Machine Learning Project/After Augmentation/Project Aug n/../test2.mp4: 384x640 1 Safety_vest, 1 Helmet, 33.8ms\n",
      "video 1/1 (frame 158/489) /Users/dongarisrikashyap/Downloads/Deep Machine Learning Project/After Augmentation/Project Aug n/../test2.mp4: 384x640 1 Safety_vest, 1 Helmet, 34.9ms\n",
      "video 1/1 (frame 159/489) /Users/dongarisrikashyap/Downloads/Deep Machine Learning Project/After Augmentation/Project Aug n/../test2.mp4: 384x640 1 Safety_vest, 1 Helmet, 36.6ms\n",
      "video 1/1 (frame 160/489) /Users/dongarisrikashyap/Downloads/Deep Machine Learning Project/After Augmentation/Project Aug n/../test2.mp4: 384x640 1 Safety_vest, 1 Helmet, 36.4ms\n",
      "video 1/1 (frame 161/489) /Users/dongarisrikashyap/Downloads/Deep Machine Learning Project/After Augmentation/Project Aug n/../test2.mp4: 384x640 1 Safety_vest, 1 Helmet, 35.4ms\n",
      "video 1/1 (frame 162/489) /Users/dongarisrikashyap/Downloads/Deep Machine Learning Project/After Augmentation/Project Aug n/../test2.mp4: 384x640 1 Safety_vest, 1 Helmet, 34.0ms\n",
      "video 1/1 (frame 163/489) /Users/dongarisrikashyap/Downloads/Deep Machine Learning Project/After Augmentation/Project Aug n/../test2.mp4: 384x640 1 Safety_vest, 1 Helmet, 36.1ms\n",
      "video 1/1 (frame 164/489) /Users/dongarisrikashyap/Downloads/Deep Machine Learning Project/After Augmentation/Project Aug n/../test2.mp4: 384x640 1 Safety_vest, 1 Helmet, 37.9ms\n",
      "video 1/1 (frame 165/489) /Users/dongarisrikashyap/Downloads/Deep Machine Learning Project/After Augmentation/Project Aug n/../test2.mp4: 384x640 1 Safety_vest, 1 Helmet, 39.1ms\n",
      "video 1/1 (frame 166/489) /Users/dongarisrikashyap/Downloads/Deep Machine Learning Project/After Augmentation/Project Aug n/../test2.mp4: 384x640 1 Safety_vest, 1 Helmet, 34.4ms\n",
      "video 1/1 (frame 167/489) /Users/dongarisrikashyap/Downloads/Deep Machine Learning Project/After Augmentation/Project Aug n/../test2.mp4: 384x640 1 Safety_vest, 1 Helmet, 32.3ms\n",
      "video 1/1 (frame 168/489) /Users/dongarisrikashyap/Downloads/Deep Machine Learning Project/After Augmentation/Project Aug n/../test2.mp4: 384x640 1 Safety_vest, 1 Helmet, 33.6ms\n",
      "video 1/1 (frame 169/489) /Users/dongarisrikashyap/Downloads/Deep Machine Learning Project/After Augmentation/Project Aug n/../test2.mp4: 384x640 1 Safety_vest, 1 Helmet, 35.7ms\n",
      "video 1/1 (frame 170/489) /Users/dongarisrikashyap/Downloads/Deep Machine Learning Project/After Augmentation/Project Aug n/../test2.mp4: 384x640 1 Safety_vest, 1 Helmet, 35.2ms\n",
      "video 1/1 (frame 171/489) /Users/dongarisrikashyap/Downloads/Deep Machine Learning Project/After Augmentation/Project Aug n/../test2.mp4: 384x640 1 Safety_vest, 1 Helmet, 32.3ms\n",
      "video 1/1 (frame 172/489) /Users/dongarisrikashyap/Downloads/Deep Machine Learning Project/After Augmentation/Project Aug n/../test2.mp4: 384x640 1 Safety_vest, 1 Helmet, 33.5ms\n",
      "video 1/1 (frame 173/489) /Users/dongarisrikashyap/Downloads/Deep Machine Learning Project/After Augmentation/Project Aug n/../test2.mp4: 384x640 1 Safety_vest, 1 Helmet, 37.2ms\n",
      "video 1/1 (frame 174/489) /Users/dongarisrikashyap/Downloads/Deep Machine Learning Project/After Augmentation/Project Aug n/../test2.mp4: 384x640 1 Safety_vest, 1 Helmet, 38.1ms\n",
      "video 1/1 (frame 175/489) /Users/dongarisrikashyap/Downloads/Deep Machine Learning Project/After Augmentation/Project Aug n/../test2.mp4: 384x640 1 Safety_vest, 1 Helmet, 33.7ms\n",
      "video 1/1 (frame 176/489) /Users/dongarisrikashyap/Downloads/Deep Machine Learning Project/After Augmentation/Project Aug n/../test2.mp4: 384x640 1 Safety_vest, 1 Helmet, 33.1ms\n",
      "video 1/1 (frame 177/489) /Users/dongarisrikashyap/Downloads/Deep Machine Learning Project/After Augmentation/Project Aug n/../test2.mp4: 384x640 1 Safety_vest, 1 Helmet, 35.2ms\n",
      "video 1/1 (frame 178/489) /Users/dongarisrikashyap/Downloads/Deep Machine Learning Project/After Augmentation/Project Aug n/../test2.mp4: 384x640 1 Safety_vest, 1 Helmet, 37.2ms\n",
      "video 1/1 (frame 179/489) /Users/dongarisrikashyap/Downloads/Deep Machine Learning Project/After Augmentation/Project Aug n/../test2.mp4: 384x640 1 Safety_vest, 1 Helmet, 32.9ms\n",
      "video 1/1 (frame 180/489) /Users/dongarisrikashyap/Downloads/Deep Machine Learning Project/After Augmentation/Project Aug n/../test2.mp4: 384x640 1 Safety_vest, 1 Helmet, 35.2ms\n",
      "video 1/1 (frame 181/489) /Users/dongarisrikashyap/Downloads/Deep Machine Learning Project/After Augmentation/Project Aug n/../test2.mp4: 384x640 1 Safety_vest, 1 Helmet, 34.5ms\n",
      "video 1/1 (frame 182/489) /Users/dongarisrikashyap/Downloads/Deep Machine Learning Project/After Augmentation/Project Aug n/../test2.mp4: 384x640 1 Safety_vest, 1 Helmet, 34.2ms\n",
      "video 1/1 (frame 183/489) /Users/dongarisrikashyap/Downloads/Deep Machine Learning Project/After Augmentation/Project Aug n/../test2.mp4: 384x640 1 Safety_vest, 1 Helmet, 35.8ms\n",
      "video 1/1 (frame 184/489) /Users/dongarisrikashyap/Downloads/Deep Machine Learning Project/After Augmentation/Project Aug n/../test2.mp4: 384x640 1 Safety_vest, 1 Helmet, 37.1ms\n",
      "video 1/1 (frame 185/489) /Users/dongarisrikashyap/Downloads/Deep Machine Learning Project/After Augmentation/Project Aug n/../test2.mp4: 384x640 1 Safety_vest, 1 Helmet, 32.4ms\n",
      "video 1/1 (frame 186/489) /Users/dongarisrikashyap/Downloads/Deep Machine Learning Project/After Augmentation/Project Aug n/../test2.mp4: 384x640 1 Safety_vest, 1 Helmet, 32.5ms\n",
      "video 1/1 (frame 187/489) /Users/dongarisrikashyap/Downloads/Deep Machine Learning Project/After Augmentation/Project Aug n/../test2.mp4: 384x640 1 Safety_vest, 1 Helmet, 35.0ms\n",
      "video 1/1 (frame 188/489) /Users/dongarisrikashyap/Downloads/Deep Machine Learning Project/After Augmentation/Project Aug n/../test2.mp4: 384x640 1 Safety_vest, 1 Helmet, 34.8ms\n",
      "video 1/1 (frame 189/489) /Users/dongarisrikashyap/Downloads/Deep Machine Learning Project/After Augmentation/Project Aug n/../test2.mp4: 384x640 1 Safety_vest, 1 Helmet, 30.6ms\n",
      "video 1/1 (frame 190/489) /Users/dongarisrikashyap/Downloads/Deep Machine Learning Project/After Augmentation/Project Aug n/../test2.mp4: 384x640 1 Safety_vest, 1 Helmet, 36.1ms\n",
      "video 1/1 (frame 191/489) /Users/dongarisrikashyap/Downloads/Deep Machine Learning Project/After Augmentation/Project Aug n/../test2.mp4: 384x640 1 Safety_vest, 1 Helmet, 40.1ms\n",
      "video 1/1 (frame 192/489) /Users/dongarisrikashyap/Downloads/Deep Machine Learning Project/After Augmentation/Project Aug n/../test2.mp4: 384x640 1 Safety_vest, 1 Helmet, 35.6ms\n",
      "video 1/1 (frame 193/489) /Users/dongarisrikashyap/Downloads/Deep Machine Learning Project/After Augmentation/Project Aug n/../test2.mp4: 384x640 1 Safety_vest, 1 Helmet, 30.6ms\n",
      "video 1/1 (frame 194/489) /Users/dongarisrikashyap/Downloads/Deep Machine Learning Project/After Augmentation/Project Aug n/../test2.mp4: 384x640 1 Safety_vest, 1 Helmet, 34.2ms\n",
      "video 1/1 (frame 195/489) /Users/dongarisrikashyap/Downloads/Deep Machine Learning Project/After Augmentation/Project Aug n/../test2.mp4: 384x640 1 Safety_vest, 1 Helmet, 36.8ms\n",
      "video 1/1 (frame 196/489) /Users/dongarisrikashyap/Downloads/Deep Machine Learning Project/After Augmentation/Project Aug n/../test2.mp4: 384x640 1 Safety_vest, 1 Helmet, 36.6ms\n",
      "video 1/1 (frame 197/489) /Users/dongarisrikashyap/Downloads/Deep Machine Learning Project/After Augmentation/Project Aug n/../test2.mp4: 384x640 1 Safety_vest, 1 Helmet, 33.3ms\n",
      "video 1/1 (frame 198/489) /Users/dongarisrikashyap/Downloads/Deep Machine Learning Project/After Augmentation/Project Aug n/../test2.mp4: 384x640 1 Safety_vest, 1 Helmet, 40.8ms\n",
      "video 1/1 (frame 199/489) /Users/dongarisrikashyap/Downloads/Deep Machine Learning Project/After Augmentation/Project Aug n/../test2.mp4: 384x640 1 Safety_vest, 1 Helmet, 34.7ms\n",
      "video 1/1 (frame 200/489) /Users/dongarisrikashyap/Downloads/Deep Machine Learning Project/After Augmentation/Project Aug n/../test2.mp4: 384x640 1 Safety_vest, 1 Helmet, 34.3ms\n",
      "video 1/1 (frame 201/489) /Users/dongarisrikashyap/Downloads/Deep Machine Learning Project/After Augmentation/Project Aug n/../test2.mp4: 384x640 1 Safety_vest, 1 Helmet, 36.9ms\n",
      "video 1/1 (frame 202/489) /Users/dongarisrikashyap/Downloads/Deep Machine Learning Project/After Augmentation/Project Aug n/../test2.mp4: 384x640 1 Safety_vest, 1 Helmet, 38.7ms\n",
      "video 1/1 (frame 203/489) /Users/dongarisrikashyap/Downloads/Deep Machine Learning Project/After Augmentation/Project Aug n/../test2.mp4: 384x640 1 Safety_vest, 1 Helmet, 31.2ms\n",
      "video 1/1 (frame 204/489) /Users/dongarisrikashyap/Downloads/Deep Machine Learning Project/After Augmentation/Project Aug n/../test2.mp4: 384x640 1 Safety_vest, 1 Helmet, 32.8ms\n",
      "video 1/1 (frame 205/489) /Users/dongarisrikashyap/Downloads/Deep Machine Learning Project/After Augmentation/Project Aug n/../test2.mp4: 384x640 1 Safety_vest, 1 Helmet, 32.4ms\n",
      "video 1/1 (frame 206/489) /Users/dongarisrikashyap/Downloads/Deep Machine Learning Project/After Augmentation/Project Aug n/../test2.mp4: 384x640 1 Safety_vest, 1 Helmet, 34.2ms\n",
      "video 1/1 (frame 207/489) /Users/dongarisrikashyap/Downloads/Deep Machine Learning Project/After Augmentation/Project Aug n/../test2.mp4: 384x640 1 Safety_vest, 1 Helmet, 33.0ms\n",
      "video 1/1 (frame 208/489) /Users/dongarisrikashyap/Downloads/Deep Machine Learning Project/After Augmentation/Project Aug n/../test2.mp4: 384x640 1 Safety_vest, 1 Helmet, 33.3ms\n",
      "video 1/1 (frame 209/489) /Users/dongarisrikashyap/Downloads/Deep Machine Learning Project/After Augmentation/Project Aug n/../test2.mp4: 384x640 1 Safety_vest, 1 Helmet, 34.5ms\n",
      "video 1/1 (frame 210/489) /Users/dongarisrikashyap/Downloads/Deep Machine Learning Project/After Augmentation/Project Aug n/../test2.mp4: 384x640 1 Safety_vest, 1 Helmet, 36.4ms\n",
      "video 1/1 (frame 211/489) /Users/dongarisrikashyap/Downloads/Deep Machine Learning Project/After Augmentation/Project Aug n/../test2.mp4: 384x640 1 Safety_vest, 1 Helmet, 34.1ms\n",
      "video 1/1 (frame 212/489) /Users/dongarisrikashyap/Downloads/Deep Machine Learning Project/After Augmentation/Project Aug n/../test2.mp4: 384x640 1 Safety_vest, 1 Helmet, 31.3ms\n",
      "video 1/1 (frame 213/489) /Users/dongarisrikashyap/Downloads/Deep Machine Learning Project/After Augmentation/Project Aug n/../test2.mp4: 384x640 1 Safety_vest, 1 Helmet, 31.1ms\n",
      "video 1/1 (frame 214/489) /Users/dongarisrikashyap/Downloads/Deep Machine Learning Project/After Augmentation/Project Aug n/../test2.mp4: 384x640 1 Safety_vest, 1 Helmet, 33.6ms\n",
      "video 1/1 (frame 215/489) /Users/dongarisrikashyap/Downloads/Deep Machine Learning Project/After Augmentation/Project Aug n/../test2.mp4: 384x640 1 Safety_vest, 1 Helmet, 32.5ms\n",
      "video 1/1 (frame 216/489) /Users/dongarisrikashyap/Downloads/Deep Machine Learning Project/After Augmentation/Project Aug n/../test2.mp4: 384x640 1 Safety_vest, 1 Helmet, 33.0ms\n",
      "video 1/1 (frame 217/489) /Users/dongarisrikashyap/Downloads/Deep Machine Learning Project/After Augmentation/Project Aug n/../test2.mp4: 384x640 1 Safety_vest, 1 Helmet, 33.4ms\n",
      "video 1/1 (frame 218/489) /Users/dongarisrikashyap/Downloads/Deep Machine Learning Project/After Augmentation/Project Aug n/../test2.mp4: 384x640 1 Safety_vest, 1 Helmet, 37.0ms\n",
      "video 1/1 (frame 219/489) /Users/dongarisrikashyap/Downloads/Deep Machine Learning Project/After Augmentation/Project Aug n/../test2.mp4: 384x640 1 Safety_vest, 1 Helmet, 34.1ms\n",
      "video 1/1 (frame 220/489) /Users/dongarisrikashyap/Downloads/Deep Machine Learning Project/After Augmentation/Project Aug n/../test2.mp4: 384x640 1 Safety_vest, 1 Helmet, 34.8ms\n",
      "video 1/1 (frame 221/489) /Users/dongarisrikashyap/Downloads/Deep Machine Learning Project/After Augmentation/Project Aug n/../test2.mp4: 384x640 1 Safety_vest, 1 Helmet, 36.8ms\n",
      "video 1/1 (frame 222/489) /Users/dongarisrikashyap/Downloads/Deep Machine Learning Project/After Augmentation/Project Aug n/../test2.mp4: 384x640 1 Safety_vest, 1 Helmet, 38.1ms\n",
      "video 1/1 (frame 223/489) /Users/dongarisrikashyap/Downloads/Deep Machine Learning Project/After Augmentation/Project Aug n/../test2.mp4: 384x640 1 Safety_vest, 1 Helmet, 35.4ms\n",
      "video 1/1 (frame 224/489) /Users/dongarisrikashyap/Downloads/Deep Machine Learning Project/After Augmentation/Project Aug n/../test2.mp4: 384x640 1 Safety_vest, 1 Helmet, 38.3ms\n",
      "video 1/1 (frame 225/489) /Users/dongarisrikashyap/Downloads/Deep Machine Learning Project/After Augmentation/Project Aug n/../test2.mp4: 384x640 1 Safety_vest, 1 Helmet, 35.2ms\n",
      "video 1/1 (frame 226/489) /Users/dongarisrikashyap/Downloads/Deep Machine Learning Project/After Augmentation/Project Aug n/../test2.mp4: 384x640 1 Safety_vest, 1 Helmet, 35.0ms\n",
      "video 1/1 (frame 227/489) /Users/dongarisrikashyap/Downloads/Deep Machine Learning Project/After Augmentation/Project Aug n/../test2.mp4: 384x640 1 Safety_vest, 1 Helmet, 38.6ms\n",
      "video 1/1 (frame 228/489) /Users/dongarisrikashyap/Downloads/Deep Machine Learning Project/After Augmentation/Project Aug n/../test2.mp4: 384x640 1 Safety_vest, 1 Helmet, 36.3ms\n",
      "video 1/1 (frame 229/489) /Users/dongarisrikashyap/Downloads/Deep Machine Learning Project/After Augmentation/Project Aug n/../test2.mp4: 384x640 1 Safety_vest, 1 Helmet, 35.2ms\n",
      "video 1/1 (frame 230/489) /Users/dongarisrikashyap/Downloads/Deep Machine Learning Project/After Augmentation/Project Aug n/../test2.mp4: 384x640 1 Safety_vest, 1 Helmet, 37.1ms\n",
      "video 1/1 (frame 231/489) /Users/dongarisrikashyap/Downloads/Deep Machine Learning Project/After Augmentation/Project Aug n/../test2.mp4: 384x640 1 Safety_vest, 1 Helmet, 1 Cigarettes, 33.7ms\n",
      "video 1/1 (frame 232/489) /Users/dongarisrikashyap/Downloads/Deep Machine Learning Project/After Augmentation/Project Aug n/../test2.mp4: 384x640 1 Safety_vest, 1 Helmet, 1 Cigarettes, 37.8ms\n",
      "video 1/1 (frame 233/489) /Users/dongarisrikashyap/Downloads/Deep Machine Learning Project/After Augmentation/Project Aug n/../test2.mp4: 384x640 1 Safety_vest, 1 Helmet, 1 Cigarettes, 41.4ms\n",
      "video 1/1 (frame 234/489) /Users/dongarisrikashyap/Downloads/Deep Machine Learning Project/After Augmentation/Project Aug n/../test2.mp4: 384x640 1 Safety_vest, 1 Helmet, 1 Cigarettes, 37.3ms\n",
      "video 1/1 (frame 235/489) /Users/dongarisrikashyap/Downloads/Deep Machine Learning Project/After Augmentation/Project Aug n/../test2.mp4: 384x640 1 Safety_vest, 1 Helmet, 33.7ms\n",
      "video 1/1 (frame 236/489) /Users/dongarisrikashyap/Downloads/Deep Machine Learning Project/After Augmentation/Project Aug n/../test2.mp4: 384x640 1 Safety_vest, 1 Helmet, 34.5ms\n",
      "video 1/1 (frame 237/489) /Users/dongarisrikashyap/Downloads/Deep Machine Learning Project/After Augmentation/Project Aug n/../test2.mp4: 384x640 1 Safety_vest, 1 Helmet, 39.2ms\n",
      "video 1/1 (frame 238/489) /Users/dongarisrikashyap/Downloads/Deep Machine Learning Project/After Augmentation/Project Aug n/../test2.mp4: 384x640 1 Safety_vest, 1 Helmet, 39.8ms\n",
      "video 1/1 (frame 239/489) /Users/dongarisrikashyap/Downloads/Deep Machine Learning Project/After Augmentation/Project Aug n/../test2.mp4: 384x640 1 Safety_vest, 1 Helmet, 34.8ms\n",
      "video 1/1 (frame 240/489) /Users/dongarisrikashyap/Downloads/Deep Machine Learning Project/After Augmentation/Project Aug n/../test2.mp4: 384x640 1 Safety_vest, 1 Helmet, 32.9ms\n",
      "video 1/1 (frame 241/489) /Users/dongarisrikashyap/Downloads/Deep Machine Learning Project/After Augmentation/Project Aug n/../test2.mp4: 384x640 1 Safety_vest, 1 Helmet, 38.5ms\n",
      "video 1/1 (frame 242/489) /Users/dongarisrikashyap/Downloads/Deep Machine Learning Project/After Augmentation/Project Aug n/../test2.mp4: 384x640 1 Safety_vest, 1 Helmet, 35.4ms\n",
      "video 1/1 (frame 243/489) /Users/dongarisrikashyap/Downloads/Deep Machine Learning Project/After Augmentation/Project Aug n/../test2.mp4: 384x640 1 Safety_vest, 1 Helmet, 36.9ms\n",
      "video 1/1 (frame 244/489) /Users/dongarisrikashyap/Downloads/Deep Machine Learning Project/After Augmentation/Project Aug n/../test2.mp4: 384x640 1 Safety_vest, 1 Helmet, 36.5ms\n",
      "video 1/1 (frame 245/489) /Users/dongarisrikashyap/Downloads/Deep Machine Learning Project/After Augmentation/Project Aug n/../test2.mp4: 384x640 1 Safety_vest, 1 Helmet, 38.3ms\n",
      "video 1/1 (frame 246/489) /Users/dongarisrikashyap/Downloads/Deep Machine Learning Project/After Augmentation/Project Aug n/../test2.mp4: 384x640 1 Safety_vest, 1 Helmet, 35.0ms\n",
      "video 1/1 (frame 247/489) /Users/dongarisrikashyap/Downloads/Deep Machine Learning Project/After Augmentation/Project Aug n/../test2.mp4: 384x640 1 Safety_vest, 1 Helmet, 34.5ms\n",
      "video 1/1 (frame 248/489) /Users/dongarisrikashyap/Downloads/Deep Machine Learning Project/After Augmentation/Project Aug n/../test2.mp4: 384x640 1 Safety_vest, 1 Helmet, 35.4ms\n",
      "video 1/1 (frame 249/489) /Users/dongarisrikashyap/Downloads/Deep Machine Learning Project/After Augmentation/Project Aug n/../test2.mp4: 384x640 1 Safety_vest, 1 Helmet, 40.0ms\n",
      "video 1/1 (frame 250/489) /Users/dongarisrikashyap/Downloads/Deep Machine Learning Project/After Augmentation/Project Aug n/../test2.mp4: 384x640 1 Safety_vest, 1 Helmet, 38.7ms\n",
      "video 1/1 (frame 251/489) /Users/dongarisrikashyap/Downloads/Deep Machine Learning Project/After Augmentation/Project Aug n/../test2.mp4: 384x640 1 Safety_vest, 1 Helmet, 33.0ms\n",
      "video 1/1 (frame 252/489) /Users/dongarisrikashyap/Downloads/Deep Machine Learning Project/After Augmentation/Project Aug n/../test2.mp4: 384x640 1 Safety_vest, 1 Helmet, 32.8ms\n",
      "video 1/1 (frame 253/489) /Users/dongarisrikashyap/Downloads/Deep Machine Learning Project/After Augmentation/Project Aug n/../test2.mp4: 384x640 1 Safety_vest, 1 Helmet, 36.5ms\n",
      "video 1/1 (frame 254/489) /Users/dongarisrikashyap/Downloads/Deep Machine Learning Project/After Augmentation/Project Aug n/../test2.mp4: 384x640 1 Safety_vest, 1 Helmet, 37.5ms\n",
      "video 1/1 (frame 255/489) /Users/dongarisrikashyap/Downloads/Deep Machine Learning Project/After Augmentation/Project Aug n/../test2.mp4: 384x640 1 Safety_vest, 1 Helmet, 34.3ms\n",
      "video 1/1 (frame 256/489) /Users/dongarisrikashyap/Downloads/Deep Machine Learning Project/After Augmentation/Project Aug n/../test2.mp4: 384x640 1 Safety_vest, 1 Helmet, 32.3ms\n",
      "video 1/1 (frame 257/489) /Users/dongarisrikashyap/Downloads/Deep Machine Learning Project/After Augmentation/Project Aug n/../test2.mp4: 384x640 1 Safety_vest, 1 Helmet, 39.7ms\n",
      "video 1/1 (frame 258/489) /Users/dongarisrikashyap/Downloads/Deep Machine Learning Project/After Augmentation/Project Aug n/../test2.mp4: 384x640 1 Safety_vest, 1 Helmet, 38.1ms\n",
      "video 1/1 (frame 259/489) /Users/dongarisrikashyap/Downloads/Deep Machine Learning Project/After Augmentation/Project Aug n/../test2.mp4: 384x640 1 Safety_vest, 1 Helmet, 34.8ms\n",
      "video 1/1 (frame 260/489) /Users/dongarisrikashyap/Downloads/Deep Machine Learning Project/After Augmentation/Project Aug n/../test2.mp4: 384x640 1 Safety_vest, 1 Helmet, 33.3ms\n",
      "video 1/1 (frame 261/489) /Users/dongarisrikashyap/Downloads/Deep Machine Learning Project/After Augmentation/Project Aug n/../test2.mp4: 384x640 1 Safety_vest, 1 Helmet, 37.7ms\n",
      "video 1/1 (frame 262/489) /Users/dongarisrikashyap/Downloads/Deep Machine Learning Project/After Augmentation/Project Aug n/../test2.mp4: 384x640 1 Safety_vest, 1 Helmet, 35.2ms\n",
      "video 1/1 (frame 263/489) /Users/dongarisrikashyap/Downloads/Deep Machine Learning Project/After Augmentation/Project Aug n/../test2.mp4: 384x640 1 Safety_vest, 1 Helmet, 34.2ms\n",
      "video 1/1 (frame 264/489) /Users/dongarisrikashyap/Downloads/Deep Machine Learning Project/After Augmentation/Project Aug n/../test2.mp4: 384x640 1 Safety_vest, 1 Helmet, 34.0ms\n",
      "video 1/1 (frame 265/489) /Users/dongarisrikashyap/Downloads/Deep Machine Learning Project/After Augmentation/Project Aug n/../test2.mp4: 384x640 1 Safety_vest, 1 Helmet, 35.7ms\n",
      "video 1/1 (frame 266/489) /Users/dongarisrikashyap/Downloads/Deep Machine Learning Project/After Augmentation/Project Aug n/../test2.mp4: 384x640 1 Safety_vest, 1 Helmet, 34.7ms\n",
      "video 1/1 (frame 267/489) /Users/dongarisrikashyap/Downloads/Deep Machine Learning Project/After Augmentation/Project Aug n/../test2.mp4: 384x640 1 Safety_vest, 1 Helmet, 34.1ms\n",
      "video 1/1 (frame 268/489) /Users/dongarisrikashyap/Downloads/Deep Machine Learning Project/After Augmentation/Project Aug n/../test2.mp4: 384x640 1 Safety_vest, 1 Helmet, 36.5ms\n",
      "video 1/1 (frame 269/489) /Users/dongarisrikashyap/Downloads/Deep Machine Learning Project/After Augmentation/Project Aug n/../test2.mp4: 384x640 1 Safety_vest, 1 Helmet, 32.1ms\n",
      "video 1/1 (frame 270/489) /Users/dongarisrikashyap/Downloads/Deep Machine Learning Project/After Augmentation/Project Aug n/../test2.mp4: 384x640 1 Safety_vest, 1 Helmet, 36.7ms\n",
      "video 1/1 (frame 271/489) /Users/dongarisrikashyap/Downloads/Deep Machine Learning Project/After Augmentation/Project Aug n/../test2.mp4: 384x640 1 Safety_vest, 1 Helmet, 35.0ms\n",
      "video 1/1 (frame 272/489) /Users/dongarisrikashyap/Downloads/Deep Machine Learning Project/After Augmentation/Project Aug n/../test2.mp4: 384x640 1 Safety_vest, 1 Helmet, 34.3ms\n",
      "video 1/1 (frame 273/489) /Users/dongarisrikashyap/Downloads/Deep Machine Learning Project/After Augmentation/Project Aug n/../test2.mp4: 384x640 1 Safety_vest, 1 Helmet, 32.5ms\n",
      "video 1/1 (frame 274/489) /Users/dongarisrikashyap/Downloads/Deep Machine Learning Project/After Augmentation/Project Aug n/../test2.mp4: 384x640 1 Safety_vest, 1 Helmet, 35.7ms\n",
      "video 1/1 (frame 275/489) /Users/dongarisrikashyap/Downloads/Deep Machine Learning Project/After Augmentation/Project Aug n/../test2.mp4: 384x640 1 Safety_vest, 1 Helmet, 37.6ms\n",
      "video 1/1 (frame 276/489) /Users/dongarisrikashyap/Downloads/Deep Machine Learning Project/After Augmentation/Project Aug n/../test2.mp4: 384x640 1 Safety_vest, 1 Helmet, 35.3ms\n",
      "video 1/1 (frame 277/489) /Users/dongarisrikashyap/Downloads/Deep Machine Learning Project/After Augmentation/Project Aug n/../test2.mp4: 384x640 1 Safety_vest, 1 Helmet, 34.0ms\n",
      "video 1/1 (frame 278/489) /Users/dongarisrikashyap/Downloads/Deep Machine Learning Project/After Augmentation/Project Aug n/../test2.mp4: 384x640 1 Safety_vest, 1 Helmet, 38.0ms\n",
      "video 1/1 (frame 279/489) /Users/dongarisrikashyap/Downloads/Deep Machine Learning Project/After Augmentation/Project Aug n/../test2.mp4: 384x640 1 Safety_vest, 1 Helmet, 37.0ms\n",
      "video 1/1 (frame 280/489) /Users/dongarisrikashyap/Downloads/Deep Machine Learning Project/After Augmentation/Project Aug n/../test2.mp4: 384x640 1 Safety_vest, 1 Helmet, 34.8ms\n",
      "video 1/1 (frame 281/489) /Users/dongarisrikashyap/Downloads/Deep Machine Learning Project/After Augmentation/Project Aug n/../test2.mp4: 384x640 1 Safety_vest, 1 Helmet, 34.8ms\n",
      "video 1/1 (frame 282/489) /Users/dongarisrikashyap/Downloads/Deep Machine Learning Project/After Augmentation/Project Aug n/../test2.mp4: 384x640 1 Safety_vest, 1 Helmet, 38.8ms\n",
      "video 1/1 (frame 283/489) /Users/dongarisrikashyap/Downloads/Deep Machine Learning Project/After Augmentation/Project Aug n/../test2.mp4: 384x640 1 Safety_vest, 1 Helmet, 36.6ms\n",
      "video 1/1 (frame 284/489) /Users/dongarisrikashyap/Downloads/Deep Machine Learning Project/After Augmentation/Project Aug n/../test2.mp4: 384x640 1 Safety_vest, 1 Helmet, 34.4ms\n",
      "video 1/1 (frame 285/489) /Users/dongarisrikashyap/Downloads/Deep Machine Learning Project/After Augmentation/Project Aug n/../test2.mp4: 384x640 1 Safety_vest, 1 Helmet, 37.3ms\n",
      "video 1/1 (frame 286/489) /Users/dongarisrikashyap/Downloads/Deep Machine Learning Project/After Augmentation/Project Aug n/../test2.mp4: 384x640 1 Safety_vest, 1 Helmet, 36.4ms\n",
      "video 1/1 (frame 287/489) /Users/dongarisrikashyap/Downloads/Deep Machine Learning Project/After Augmentation/Project Aug n/../test2.mp4: 384x640 1 Safety_vest, 1 Helmet, 34.0ms\n",
      "video 1/1 (frame 288/489) /Users/dongarisrikashyap/Downloads/Deep Machine Learning Project/After Augmentation/Project Aug n/../test2.mp4: 384x640 1 Safety_vest, 1 Helmet, 36.8ms\n",
      "video 1/1 (frame 289/489) /Users/dongarisrikashyap/Downloads/Deep Machine Learning Project/After Augmentation/Project Aug n/../test2.mp4: 384x640 1 Safety_vest, 1 Helmet, 36.8ms\n",
      "video 1/1 (frame 290/489) /Users/dongarisrikashyap/Downloads/Deep Machine Learning Project/After Augmentation/Project Aug n/../test2.mp4: 384x640 1 Safety_vest, 1 Helmet, 37.3ms\n",
      "video 1/1 (frame 291/489) /Users/dongarisrikashyap/Downloads/Deep Machine Learning Project/After Augmentation/Project Aug n/../test2.mp4: 384x640 1 Safety_vest, 1 Helmet, 44.2ms\n",
      "video 1/1 (frame 292/489) /Users/dongarisrikashyap/Downloads/Deep Machine Learning Project/After Augmentation/Project Aug n/../test2.mp4: 384x640 1 Safety_vest, 1 Helmet, 36.3ms\n",
      "video 1/1 (frame 293/489) /Users/dongarisrikashyap/Downloads/Deep Machine Learning Project/After Augmentation/Project Aug n/../test2.mp4: 384x640 1 Safety_vest, 1 Helmet, 34.7ms\n",
      "video 1/1 (frame 294/489) /Users/dongarisrikashyap/Downloads/Deep Machine Learning Project/After Augmentation/Project Aug n/../test2.mp4: 384x640 1 Safety_vest, 1 Helmet, 34.1ms\n",
      "video 1/1 (frame 295/489) /Users/dongarisrikashyap/Downloads/Deep Machine Learning Project/After Augmentation/Project Aug n/../test2.mp4: 384x640 1 Safety_vest, 1 Helmet, 34.0ms\n",
      "video 1/1 (frame 296/489) /Users/dongarisrikashyap/Downloads/Deep Machine Learning Project/After Augmentation/Project Aug n/../test2.mp4: 384x640 1 Safety_vest, 1 Helmet, 31.1ms\n",
      "video 1/1 (frame 297/489) /Users/dongarisrikashyap/Downloads/Deep Machine Learning Project/After Augmentation/Project Aug n/../test2.mp4: 384x640 1 Safety_vest, 1 Helmet, 37.7ms\n",
      "video 1/1 (frame 298/489) /Users/dongarisrikashyap/Downloads/Deep Machine Learning Project/After Augmentation/Project Aug n/../test2.mp4: 384x640 1 Safety_vest, 1 Helmet, 37.3ms\n",
      "video 1/1 (frame 299/489) /Users/dongarisrikashyap/Downloads/Deep Machine Learning Project/After Augmentation/Project Aug n/../test2.mp4: 384x640 1 Safety_vest, 1 Helmet, 36.0ms\n",
      "video 1/1 (frame 300/489) /Users/dongarisrikashyap/Downloads/Deep Machine Learning Project/After Augmentation/Project Aug n/../test2.mp4: 384x640 1 Safety_vest, 1 Helmet, 43.3ms\n",
      "video 1/1 (frame 301/489) /Users/dongarisrikashyap/Downloads/Deep Machine Learning Project/After Augmentation/Project Aug n/../test2.mp4: 384x640 1 Safety_vest, 1 Helmet, 35.5ms\n",
      "video 1/1 (frame 302/489) /Users/dongarisrikashyap/Downloads/Deep Machine Learning Project/After Augmentation/Project Aug n/../test2.mp4: 384x640 1 Safety_vest, 1 Helmet, 39.4ms\n",
      "video 1/1 (frame 303/489) /Users/dongarisrikashyap/Downloads/Deep Machine Learning Project/After Augmentation/Project Aug n/../test2.mp4: 384x640 1 Safety_vest, 1 Helmet, 37.5ms\n",
      "video 1/1 (frame 304/489) /Users/dongarisrikashyap/Downloads/Deep Machine Learning Project/After Augmentation/Project Aug n/../test2.mp4: 384x640 1 Safety_vest, 1 Helmet, 36.7ms\n",
      "video 1/1 (frame 305/489) /Users/dongarisrikashyap/Downloads/Deep Machine Learning Project/After Augmentation/Project Aug n/../test2.mp4: 384x640 1 Safety_vest, 1 Helmet, 35.3ms\n",
      "video 1/1 (frame 306/489) /Users/dongarisrikashyap/Downloads/Deep Machine Learning Project/After Augmentation/Project Aug n/../test2.mp4: 384x640 1 Safety_vest, 1 Helmet, 35.5ms\n",
      "video 1/1 (frame 307/489) /Users/dongarisrikashyap/Downloads/Deep Machine Learning Project/After Augmentation/Project Aug n/../test2.mp4: 384x640 1 Safety_vest, 1 Helmet, 33.8ms\n",
      "video 1/1 (frame 308/489) /Users/dongarisrikashyap/Downloads/Deep Machine Learning Project/After Augmentation/Project Aug n/../test2.mp4: 384x640 1 Safety_vest, 1 Helmet, 39.1ms\n",
      "video 1/1 (frame 309/489) /Users/dongarisrikashyap/Downloads/Deep Machine Learning Project/After Augmentation/Project Aug n/../test2.mp4: 384x640 1 Safety_vest, 1 Helmet, 38.6ms\n",
      "video 1/1 (frame 310/489) /Users/dongarisrikashyap/Downloads/Deep Machine Learning Project/After Augmentation/Project Aug n/../test2.mp4: 384x640 1 Safety_vest, 1 Helmet, 35.6ms\n",
      "video 1/1 (frame 311/489) /Users/dongarisrikashyap/Downloads/Deep Machine Learning Project/After Augmentation/Project Aug n/../test2.mp4: 384x640 1 Safety_vest, 1 Helmet, 67.9ms\n",
      "video 1/1 (frame 312/489) /Users/dongarisrikashyap/Downloads/Deep Machine Learning Project/After Augmentation/Project Aug n/../test2.mp4: 384x640 1 Safety_vest, 1 Helmet, 38.7ms\n",
      "video 1/1 (frame 313/489) /Users/dongarisrikashyap/Downloads/Deep Machine Learning Project/After Augmentation/Project Aug n/../test2.mp4: 384x640 1 Safety_vest, 1 Helmet, 41.2ms\n",
      "video 1/1 (frame 314/489) /Users/dongarisrikashyap/Downloads/Deep Machine Learning Project/After Augmentation/Project Aug n/../test2.mp4: 384x640 1 Safety_vest, 1 Helmet, 35.9ms\n",
      "video 1/1 (frame 315/489) /Users/dongarisrikashyap/Downloads/Deep Machine Learning Project/After Augmentation/Project Aug n/../test2.mp4: 384x640 1 Safety_vest, 1 Helmet, 38.9ms\n",
      "video 1/1 (frame 316/489) /Users/dongarisrikashyap/Downloads/Deep Machine Learning Project/After Augmentation/Project Aug n/../test2.mp4: 384x640 1 Safety_vest, 1 Helmet, 44.2ms\n",
      "video 1/1 (frame 317/489) /Users/dongarisrikashyap/Downloads/Deep Machine Learning Project/After Augmentation/Project Aug n/../test2.mp4: 384x640 1 Safety_vest, 1 Helmet, 37.2ms\n",
      "video 1/1 (frame 318/489) /Users/dongarisrikashyap/Downloads/Deep Machine Learning Project/After Augmentation/Project Aug n/../test2.mp4: 384x640 1 Safety_vest, 1 Helmet, 34.9ms\n",
      "video 1/1 (frame 319/489) /Users/dongarisrikashyap/Downloads/Deep Machine Learning Project/After Augmentation/Project Aug n/../test2.mp4: 384x640 1 Safety_vest, 1 Helmet, 34.4ms\n",
      "video 1/1 (frame 320/489) /Users/dongarisrikashyap/Downloads/Deep Machine Learning Project/After Augmentation/Project Aug n/../test2.mp4: 384x640 1 Safety_vest, 1 Helmet, 38.2ms\n",
      "video 1/1 (frame 321/489) /Users/dongarisrikashyap/Downloads/Deep Machine Learning Project/After Augmentation/Project Aug n/../test2.mp4: 384x640 1 Safety_vest, 1 Helmet, 38.8ms\n",
      "video 1/1 (frame 322/489) /Users/dongarisrikashyap/Downloads/Deep Machine Learning Project/After Augmentation/Project Aug n/../test2.mp4: 384x640 1 Safety_vest, 1 Helmet, 36.8ms\n",
      "video 1/1 (frame 323/489) /Users/dongarisrikashyap/Downloads/Deep Machine Learning Project/After Augmentation/Project Aug n/../test2.mp4: 384x640 1 Safety_vest, 1 Helmet, 33.5ms\n",
      "video 1/1 (frame 324/489) /Users/dongarisrikashyap/Downloads/Deep Machine Learning Project/After Augmentation/Project Aug n/../test2.mp4: 384x640 1 Safety_vest, 1 Helmet, 37.9ms\n",
      "video 1/1 (frame 325/489) /Users/dongarisrikashyap/Downloads/Deep Machine Learning Project/After Augmentation/Project Aug n/../test2.mp4: 384x640 1 Safety_vest, 1 Helmet, 36.5ms\n",
      "video 1/1 (frame 326/489) /Users/dongarisrikashyap/Downloads/Deep Machine Learning Project/After Augmentation/Project Aug n/../test2.mp4: 384x640 1 Safety_vest, 1 Helmet, 35.9ms\n",
      "video 1/1 (frame 327/489) /Users/dongarisrikashyap/Downloads/Deep Machine Learning Project/After Augmentation/Project Aug n/../test2.mp4: 384x640 1 Safety_vest, 1 Helmet, 36.3ms\n",
      "video 1/1 (frame 328/489) /Users/dongarisrikashyap/Downloads/Deep Machine Learning Project/After Augmentation/Project Aug n/../test2.mp4: 384x640 1 Safety_vest, 1 Helmet, 37.5ms\n",
      "video 1/1 (frame 329/489) /Users/dongarisrikashyap/Downloads/Deep Machine Learning Project/After Augmentation/Project Aug n/../test2.mp4: 384x640 1 Safety_vest, 1 Helmet, 35.6ms\n",
      "video 1/1 (frame 330/489) /Users/dongarisrikashyap/Downloads/Deep Machine Learning Project/After Augmentation/Project Aug n/../test2.mp4: 384x640 1 Safety_vest, 1 Helmet, 35.2ms\n",
      "video 1/1 (frame 331/489) /Users/dongarisrikashyap/Downloads/Deep Machine Learning Project/After Augmentation/Project Aug n/../test2.mp4: 384x640 1 Safety_vest, 1 Helmet, 36.4ms\n",
      "video 1/1 (frame 332/489) /Users/dongarisrikashyap/Downloads/Deep Machine Learning Project/After Augmentation/Project Aug n/../test2.mp4: 384x640 1 Safety_vest, 1 Helmet, 37.7ms\n",
      "video 1/1 (frame 333/489) /Users/dongarisrikashyap/Downloads/Deep Machine Learning Project/After Augmentation/Project Aug n/../test2.mp4: 384x640 1 Safety_vest, 1 Helmet, 35.5ms\n",
      "video 1/1 (frame 334/489) /Users/dongarisrikashyap/Downloads/Deep Machine Learning Project/After Augmentation/Project Aug n/../test2.mp4: 384x640 1 Safety_vest, 1 Helmet, 34.1ms\n",
      "video 1/1 (frame 335/489) /Users/dongarisrikashyap/Downloads/Deep Machine Learning Project/After Augmentation/Project Aug n/../test2.mp4: 384x640 1 Safety_vest, 1 Helmet, 34.8ms\n",
      "video 1/1 (frame 336/489) /Users/dongarisrikashyap/Downloads/Deep Machine Learning Project/After Augmentation/Project Aug n/../test2.mp4: 384x640 1 Safety_vest, 1 Helmet, 34.8ms\n",
      "video 1/1 (frame 337/489) /Users/dongarisrikashyap/Downloads/Deep Machine Learning Project/After Augmentation/Project Aug n/../test2.mp4: 384x640 1 Safety_vest, 1 Helmet, 39.1ms\n",
      "video 1/1 (frame 338/489) /Users/dongarisrikashyap/Downloads/Deep Machine Learning Project/After Augmentation/Project Aug n/../test2.mp4: 384x640 1 Safety_vest, 1 Helmet, 35.6ms\n",
      "video 1/1 (frame 339/489) /Users/dongarisrikashyap/Downloads/Deep Machine Learning Project/After Augmentation/Project Aug n/../test2.mp4: 384x640 1 Safety_vest, 1 Helmet, 36.6ms\n",
      "video 1/1 (frame 340/489) /Users/dongarisrikashyap/Downloads/Deep Machine Learning Project/After Augmentation/Project Aug n/../test2.mp4: 384x640 1 Safety_vest, 1 Helmet, 36.4ms\n",
      "video 1/1 (frame 341/489) /Users/dongarisrikashyap/Downloads/Deep Machine Learning Project/After Augmentation/Project Aug n/../test2.mp4: 384x640 1 Safety_vest, 1 Helmet, 37.4ms\n",
      "video 1/1 (frame 342/489) /Users/dongarisrikashyap/Downloads/Deep Machine Learning Project/After Augmentation/Project Aug n/../test2.mp4: 384x640 1 Safety_vest, 1 Helmet, 33.3ms\n",
      "video 1/1 (frame 343/489) /Users/dongarisrikashyap/Downloads/Deep Machine Learning Project/After Augmentation/Project Aug n/../test2.mp4: 384x640 1 Safety_vest, 1 Helmet, 42.1ms\n",
      "video 1/1 (frame 344/489) /Users/dongarisrikashyap/Downloads/Deep Machine Learning Project/After Augmentation/Project Aug n/../test2.mp4: 384x640 1 Safety_vest, 1 Helmet, 40.6ms\n",
      "video 1/1 (frame 345/489) /Users/dongarisrikashyap/Downloads/Deep Machine Learning Project/After Augmentation/Project Aug n/../test2.mp4: 384x640 1 Safety_vest, 1 Helmet, 35.6ms\n",
      "video 1/1 (frame 346/489) /Users/dongarisrikashyap/Downloads/Deep Machine Learning Project/After Augmentation/Project Aug n/../test2.mp4: 384x640 1 Safety_vest, 1 Helmet, 37.6ms\n",
      "video 1/1 (frame 347/489) /Users/dongarisrikashyap/Downloads/Deep Machine Learning Project/After Augmentation/Project Aug n/../test2.mp4: 384x640 1 Safety_vest, 1 Helmet, 38.6ms\n",
      "video 1/1 (frame 348/489) /Users/dongarisrikashyap/Downloads/Deep Machine Learning Project/After Augmentation/Project Aug n/../test2.mp4: 384x640 1 Safety_vest, 1 Helmet, 33.4ms\n",
      "video 1/1 (frame 349/489) /Users/dongarisrikashyap/Downloads/Deep Machine Learning Project/After Augmentation/Project Aug n/../test2.mp4: 384x640 1 Safety_vest, 1 Helmet, 36.0ms\n",
      "video 1/1 (frame 350/489) /Users/dongarisrikashyap/Downloads/Deep Machine Learning Project/After Augmentation/Project Aug n/../test2.mp4: 384x640 1 Safety_vest, 1 Helmet, 41.0ms\n",
      "video 1/1 (frame 351/489) /Users/dongarisrikashyap/Downloads/Deep Machine Learning Project/After Augmentation/Project Aug n/../test2.mp4: 384x640 1 Safety_vest, 1 Helmet, 39.4ms\n",
      "video 1/1 (frame 352/489) /Users/dongarisrikashyap/Downloads/Deep Machine Learning Project/After Augmentation/Project Aug n/../test2.mp4: 384x640 1 Safety_vest, 1 Helmet, 37.2ms\n",
      "video 1/1 (frame 353/489) /Users/dongarisrikashyap/Downloads/Deep Machine Learning Project/After Augmentation/Project Aug n/../test2.mp4: 384x640 1 Safety_vest, 1 Helmet, 36.1ms\n",
      "video 1/1 (frame 354/489) /Users/dongarisrikashyap/Downloads/Deep Machine Learning Project/After Augmentation/Project Aug n/../test2.mp4: 384x640 1 Safety_vest, 1 Helmet, 38.7ms\n",
      "video 1/1 (frame 355/489) /Users/dongarisrikashyap/Downloads/Deep Machine Learning Project/After Augmentation/Project Aug n/../test2.mp4: 384x640 1 Safety_vest, 1 Helmet, 36.9ms\n",
      "video 1/1 (frame 356/489) /Users/dongarisrikashyap/Downloads/Deep Machine Learning Project/After Augmentation/Project Aug n/../test2.mp4: 384x640 1 Safety_vest, 1 Helmet, 35.7ms\n",
      "video 1/1 (frame 357/489) /Users/dongarisrikashyap/Downloads/Deep Machine Learning Project/After Augmentation/Project Aug n/../test2.mp4: 384x640 1 Safety_vest, 1 Helmet, 38.4ms\n",
      "video 1/1 (frame 358/489) /Users/dongarisrikashyap/Downloads/Deep Machine Learning Project/After Augmentation/Project Aug n/../test2.mp4: 384x640 1 Safety_vest, 1 Helmet, 40.6ms\n",
      "video 1/1 (frame 359/489) /Users/dongarisrikashyap/Downloads/Deep Machine Learning Project/After Augmentation/Project Aug n/../test2.mp4: 384x640 1 Safety_vest, 1 Helmet, 37.6ms\n",
      "video 1/1 (frame 360/489) /Users/dongarisrikashyap/Downloads/Deep Machine Learning Project/After Augmentation/Project Aug n/../test2.mp4: 384x640 1 Safety_vest, 1 Helmet, 34.2ms\n",
      "video 1/1 (frame 361/489) /Users/dongarisrikashyap/Downloads/Deep Machine Learning Project/After Augmentation/Project Aug n/../test2.mp4: 384x640 1 Safety_vest, 1 Helmet, 35.9ms\n",
      "video 1/1 (frame 362/489) /Users/dongarisrikashyap/Downloads/Deep Machine Learning Project/After Augmentation/Project Aug n/../test2.mp4: 384x640 1 Safety_vest, 1 Helmet, 38.7ms\n",
      "video 1/1 (frame 363/489) /Users/dongarisrikashyap/Downloads/Deep Machine Learning Project/After Augmentation/Project Aug n/../test2.mp4: 384x640 1 Safety_vest, 1 Helmet, 36.1ms\n",
      "video 1/1 (frame 364/489) /Users/dongarisrikashyap/Downloads/Deep Machine Learning Project/After Augmentation/Project Aug n/../test2.mp4: 384x640 1 Safety_vest, 1 Helmet, 41.1ms\n",
      "video 1/1 (frame 365/489) /Users/dongarisrikashyap/Downloads/Deep Machine Learning Project/After Augmentation/Project Aug n/../test2.mp4: 384x640 1 Safety_vest, 1 Helmet, 2 Cigarettess, 35.8ms\n",
      "video 1/1 (frame 366/489) /Users/dongarisrikashyap/Downloads/Deep Machine Learning Project/After Augmentation/Project Aug n/../test2.mp4: 384x640 1 Safety_vest, 1 Helmet, 2 Cigarettess, 35.1ms\n",
      "video 1/1 (frame 367/489) /Users/dongarisrikashyap/Downloads/Deep Machine Learning Project/After Augmentation/Project Aug n/../test2.mp4: 384x640 1 Safety_vest, 1 Helmet, 1 Cigarettes, 37.0ms\n",
      "video 1/1 (frame 368/489) /Users/dongarisrikashyap/Downloads/Deep Machine Learning Project/After Augmentation/Project Aug n/../test2.mp4: 384x640 1 Safety_vest, 1 Helmet, 1 Cigarettes, 40.1ms\n",
      "video 1/1 (frame 369/489) /Users/dongarisrikashyap/Downloads/Deep Machine Learning Project/After Augmentation/Project Aug n/../test2.mp4: 384x640 1 Safety_vest, 1 Helmet, 1 Cigarettes, 42.1ms\n",
      "video 1/1 (frame 370/489) /Users/dongarisrikashyap/Downloads/Deep Machine Learning Project/After Augmentation/Project Aug n/../test2.mp4: 384x640 1 Safety_vest, 1 Helmet, 1 Cigarettes, 35.8ms\n",
      "video 1/1 (frame 371/489) /Users/dongarisrikashyap/Downloads/Deep Machine Learning Project/After Augmentation/Project Aug n/../test2.mp4: 384x640 1 Safety_vest, 1 Helmet, 1 Cigarettes, 37.5ms\n",
      "video 1/1 (frame 372/489) /Users/dongarisrikashyap/Downloads/Deep Machine Learning Project/After Augmentation/Project Aug n/../test2.mp4: 384x640 1 Safety_vest, 1 Helmet, 1 Cigarettes, 39.0ms\n",
      "video 1/1 (frame 373/489) /Users/dongarisrikashyap/Downloads/Deep Machine Learning Project/After Augmentation/Project Aug n/../test2.mp4: 384x640 1 Safety_vest, 1 Helmet, 1 Cigarettes, 36.4ms\n",
      "video 1/1 (frame 374/489) /Users/dongarisrikashyap/Downloads/Deep Machine Learning Project/After Augmentation/Project Aug n/../test2.mp4: 384x640 1 Safety_vest, 1 Helmet, 1 Cigarettes, 33.6ms\n",
      "video 1/1 (frame 375/489) /Users/dongarisrikashyap/Downloads/Deep Machine Learning Project/After Augmentation/Project Aug n/../test2.mp4: 384x640 1 Safety_vest, 1 Helmet, 1 Cigarettes, 34.5ms\n",
      "video 1/1 (frame 376/489) /Users/dongarisrikashyap/Downloads/Deep Machine Learning Project/After Augmentation/Project Aug n/../test2.mp4: 384x640 1 Safety_vest, 1 Helmet, 1 Cigarettes, 38.3ms\n",
      "video 1/1 (frame 377/489) /Users/dongarisrikashyap/Downloads/Deep Machine Learning Project/After Augmentation/Project Aug n/../test2.mp4: 384x640 1 Safety_vest, 1 Helmet, 1 Cigarettes, 36.2ms\n",
      "video 1/1 (frame 378/489) /Users/dongarisrikashyap/Downloads/Deep Machine Learning Project/After Augmentation/Project Aug n/../test2.mp4: 384x640 1 Safety_vest, 1 Helmet, 1 Cigarettes, 37.6ms\n",
      "video 1/1 (frame 379/489) /Users/dongarisrikashyap/Downloads/Deep Machine Learning Project/After Augmentation/Project Aug n/../test2.mp4: 384x640 1 Safety_vest, 1 Helmet, 1 Cigarettes, 32.6ms\n",
      "video 1/1 (frame 380/489) /Users/dongarisrikashyap/Downloads/Deep Machine Learning Project/After Augmentation/Project Aug n/../test2.mp4: 384x640 1 Safety_vest, 1 Helmet, 1 Cigarettes, 36.9ms\n",
      "video 1/1 (frame 381/489) /Users/dongarisrikashyap/Downloads/Deep Machine Learning Project/After Augmentation/Project Aug n/../test2.mp4: 384x640 1 Safety_vest, 1 Helmet, 1 Cigarettes, 37.9ms\n",
      "video 1/1 (frame 382/489) /Users/dongarisrikashyap/Downloads/Deep Machine Learning Project/After Augmentation/Project Aug n/../test2.mp4: 384x640 1 Safety_vest, 1 Helmet, 1 Cigarettes, 35.7ms\n",
      "video 1/1 (frame 383/489) /Users/dongarisrikashyap/Downloads/Deep Machine Learning Project/After Augmentation/Project Aug n/../test2.mp4: 384x640 1 Safety_vest, 1 Helmet, 1 Cigarettes, 33.7ms\n",
      "video 1/1 (frame 384/489) /Users/dongarisrikashyap/Downloads/Deep Machine Learning Project/After Augmentation/Project Aug n/../test2.mp4: 384x640 1 Safety_vest, 1 Helmet, 1 Cigarettes, 38.4ms\n",
      "video 1/1 (frame 385/489) /Users/dongarisrikashyap/Downloads/Deep Machine Learning Project/After Augmentation/Project Aug n/../test2.mp4: 384x640 1 Safety_vest, 1 Helmet, 1 Cigarettes, 37.4ms\n",
      "video 1/1 (frame 386/489) /Users/dongarisrikashyap/Downloads/Deep Machine Learning Project/After Augmentation/Project Aug n/../test2.mp4: 384x640 1 Safety_vest, 1 Helmet, 1 Cigarettes, 36.8ms\n",
      "video 1/1 (frame 387/489) /Users/dongarisrikashyap/Downloads/Deep Machine Learning Project/After Augmentation/Project Aug n/../test2.mp4: 384x640 1 Safety_vest, 1 Helmet, 1 Cigarettes, 45.0ms\n",
      "video 1/1 (frame 388/489) /Users/dongarisrikashyap/Downloads/Deep Machine Learning Project/After Augmentation/Project Aug n/../test2.mp4: 384x640 1 Safety_vest, 1 Helmet, 1 Cigarettes, 35.4ms\n",
      "video 1/1 (frame 389/489) /Users/dongarisrikashyap/Downloads/Deep Machine Learning Project/After Augmentation/Project Aug n/../test2.mp4: 384x640 1 Safety_vest, 1 Helmet, 1 Cigarettes, 35.7ms\n",
      "video 1/1 (frame 390/489) /Users/dongarisrikashyap/Downloads/Deep Machine Learning Project/After Augmentation/Project Aug n/../test2.mp4: 384x640 1 Safety_vest, 1 Helmet, 1 Cigarettes, 51.8ms\n",
      "video 1/1 (frame 391/489) /Users/dongarisrikashyap/Downloads/Deep Machine Learning Project/After Augmentation/Project Aug n/../test2.mp4: 384x640 1 Safety_vest, 1 Helmet, 36.2ms\n",
      "video 1/1 (frame 392/489) /Users/dongarisrikashyap/Downloads/Deep Machine Learning Project/After Augmentation/Project Aug n/../test2.mp4: 384x640 1 Safety_vest, 1 Helmet, 35.1ms\n",
      "video 1/1 (frame 393/489) /Users/dongarisrikashyap/Downloads/Deep Machine Learning Project/After Augmentation/Project Aug n/../test2.mp4: 384x640 1 Safety_vest, 1 Helmet, 35.8ms\n",
      "video 1/1 (frame 394/489) /Users/dongarisrikashyap/Downloads/Deep Machine Learning Project/After Augmentation/Project Aug n/../test2.mp4: 384x640 1 Safety_vest, 1 Helmet, 40.0ms\n",
      "video 1/1 (frame 395/489) /Users/dongarisrikashyap/Downloads/Deep Machine Learning Project/After Augmentation/Project Aug n/../test2.mp4: 384x640 1 Safety_vest, 1 Helmet, 36.7ms\n",
      "video 1/1 (frame 396/489) /Users/dongarisrikashyap/Downloads/Deep Machine Learning Project/After Augmentation/Project Aug n/../test2.mp4: 384x640 1 Safety_vest, 1 Helmet, 36.3ms\n",
      "video 1/1 (frame 397/489) /Users/dongarisrikashyap/Downloads/Deep Machine Learning Project/After Augmentation/Project Aug n/../test2.mp4: 384x640 1 Safety_vest, 1 Helmet, 36.0ms\n",
      "video 1/1 (frame 398/489) /Users/dongarisrikashyap/Downloads/Deep Machine Learning Project/After Augmentation/Project Aug n/../test2.mp4: 384x640 1 Safety_vest, 1 Helmet, 40.2ms\n",
      "video 1/1 (frame 399/489) /Users/dongarisrikashyap/Downloads/Deep Machine Learning Project/After Augmentation/Project Aug n/../test2.mp4: 384x640 1 Safety_vest, 1 Helmet, 37.4ms\n",
      "video 1/1 (frame 400/489) /Users/dongarisrikashyap/Downloads/Deep Machine Learning Project/After Augmentation/Project Aug n/../test2.mp4: 384x640 1 Safety_vest, 1 Helmet, 35.7ms\n",
      "video 1/1 (frame 401/489) /Users/dongarisrikashyap/Downloads/Deep Machine Learning Project/After Augmentation/Project Aug n/../test2.mp4: 384x640 1 Safety_vest, 1 Helmet, 35.9ms\n",
      "video 1/1 (frame 402/489) /Users/dongarisrikashyap/Downloads/Deep Machine Learning Project/After Augmentation/Project Aug n/../test2.mp4: 384x640 1 Safety_vest, 1 Helmet, 38.0ms\n",
      "video 1/1 (frame 403/489) /Users/dongarisrikashyap/Downloads/Deep Machine Learning Project/After Augmentation/Project Aug n/../test2.mp4: 384x640 1 Safety_vest, 1 Helmet, 33.8ms\n",
      "video 1/1 (frame 404/489) /Users/dongarisrikashyap/Downloads/Deep Machine Learning Project/After Augmentation/Project Aug n/../test2.mp4: 384x640 1 Safety_vest, 1 Helmet, 39.7ms\n",
      "video 1/1 (frame 405/489) /Users/dongarisrikashyap/Downloads/Deep Machine Learning Project/After Augmentation/Project Aug n/../test2.mp4: 384x640 1 Safety_vest, 1 Helmet, 37.9ms\n",
      "video 1/1 (frame 406/489) /Users/dongarisrikashyap/Downloads/Deep Machine Learning Project/After Augmentation/Project Aug n/../test2.mp4: 384x640 1 Safety_vest, 1 Helmet, 37.6ms\n",
      "video 1/1 (frame 407/489) /Users/dongarisrikashyap/Downloads/Deep Machine Learning Project/After Augmentation/Project Aug n/../test2.mp4: 384x640 1 Safety_vest, 1 Helmet, 34.3ms\n",
      "video 1/1 (frame 408/489) /Users/dongarisrikashyap/Downloads/Deep Machine Learning Project/After Augmentation/Project Aug n/../test2.mp4: 384x640 1 Safety_vest, 1 Helmet, 38.9ms\n",
      "video 1/1 (frame 409/489) /Users/dongarisrikashyap/Downloads/Deep Machine Learning Project/After Augmentation/Project Aug n/../test2.mp4: 384x640 1 Safety_vest, 1 Helmet, 40.9ms\n",
      "video 1/1 (frame 410/489) /Users/dongarisrikashyap/Downloads/Deep Machine Learning Project/After Augmentation/Project Aug n/../test2.mp4: 384x640 1 Safety_vest, 1 Helmet, 41.9ms\n",
      "video 1/1 (frame 411/489) /Users/dongarisrikashyap/Downloads/Deep Machine Learning Project/After Augmentation/Project Aug n/../test2.mp4: 384x640 1 Safety_vest, 1 Helmet, 33.6ms\n",
      "video 1/1 (frame 412/489) /Users/dongarisrikashyap/Downloads/Deep Machine Learning Project/After Augmentation/Project Aug n/../test2.mp4: 384x640 1 Safety_vest, 1 Helmet, 33.0ms\n",
      "video 1/1 (frame 413/489) /Users/dongarisrikashyap/Downloads/Deep Machine Learning Project/After Augmentation/Project Aug n/../test2.mp4: 384x640 1 Safety_vest, 1 Helmet, 33.0ms\n",
      "video 1/1 (frame 414/489) /Users/dongarisrikashyap/Downloads/Deep Machine Learning Project/After Augmentation/Project Aug n/../test2.mp4: 384x640 1 Safety_vest, 1 Helmet, 33.9ms\n",
      "video 1/1 (frame 415/489) /Users/dongarisrikashyap/Downloads/Deep Machine Learning Project/After Augmentation/Project Aug n/../test2.mp4: 384x640 1 Safety_vest, 1 Helmet, 35.0ms\n",
      "video 1/1 (frame 416/489) /Users/dongarisrikashyap/Downloads/Deep Machine Learning Project/After Augmentation/Project Aug n/../test2.mp4: 384x640 1 Safety_vest, 1 Helmet, 32.4ms\n",
      "video 1/1 (frame 417/489) /Users/dongarisrikashyap/Downloads/Deep Machine Learning Project/After Augmentation/Project Aug n/../test2.mp4: 384x640 1 Safety_vest, 1 Helmet, 32.9ms\n",
      "video 1/1 (frame 418/489) /Users/dongarisrikashyap/Downloads/Deep Machine Learning Project/After Augmentation/Project Aug n/../test2.mp4: 384x640 1 Safety_vest, 1 Helmet, 34.3ms\n",
      "video 1/1 (frame 419/489) /Users/dongarisrikashyap/Downloads/Deep Machine Learning Project/After Augmentation/Project Aug n/../test2.mp4: 384x640 1 Safety_vest, 1 Helmet, 34.0ms\n",
      "video 1/1 (frame 420/489) /Users/dongarisrikashyap/Downloads/Deep Machine Learning Project/After Augmentation/Project Aug n/../test2.mp4: 384x640 1 Safety_vest, 1 Helmet, 32.9ms\n",
      "video 1/1 (frame 421/489) /Users/dongarisrikashyap/Downloads/Deep Machine Learning Project/After Augmentation/Project Aug n/../test2.mp4: 384x640 1 Safety_vest, 1 Helmet, 31.8ms\n",
      "video 1/1 (frame 422/489) /Users/dongarisrikashyap/Downloads/Deep Machine Learning Project/After Augmentation/Project Aug n/../test2.mp4: 384x640 1 Safety_vest, 1 Helmet, 30.4ms\n",
      "video 1/1 (frame 423/489) /Users/dongarisrikashyap/Downloads/Deep Machine Learning Project/After Augmentation/Project Aug n/../test2.mp4: 384x640 1 Safety_vest, 1 Helmet, 36.0ms\n",
      "video 1/1 (frame 424/489) /Users/dongarisrikashyap/Downloads/Deep Machine Learning Project/After Augmentation/Project Aug n/../test2.mp4: 384x640 1 Safety_vest, 1 Helmet, 31.0ms\n",
      "video 1/1 (frame 425/489) /Users/dongarisrikashyap/Downloads/Deep Machine Learning Project/After Augmentation/Project Aug n/../test2.mp4: 384x640 1 Safety_vest, 1 Helmet, 32.6ms\n",
      "video 1/1 (frame 426/489) /Users/dongarisrikashyap/Downloads/Deep Machine Learning Project/After Augmentation/Project Aug n/../test2.mp4: 384x640 1 Safety_vest, 1 Helmet, 37.7ms\n",
      "video 1/1 (frame 427/489) /Users/dongarisrikashyap/Downloads/Deep Machine Learning Project/After Augmentation/Project Aug n/../test2.mp4: 384x640 1 Safety_vest, 1 Helmet, 31.5ms\n",
      "video 1/1 (frame 428/489) /Users/dongarisrikashyap/Downloads/Deep Machine Learning Project/After Augmentation/Project Aug n/../test2.mp4: 384x640 1 Safety_vest, 1 Helmet, 30.6ms\n",
      "video 1/1 (frame 429/489) /Users/dongarisrikashyap/Downloads/Deep Machine Learning Project/After Augmentation/Project Aug n/../test2.mp4: 384x640 1 Safety_vest, 1 Helmet, 31.8ms\n",
      "video 1/1 (frame 430/489) /Users/dongarisrikashyap/Downloads/Deep Machine Learning Project/After Augmentation/Project Aug n/../test2.mp4: 384x640 1 Safety_vest, 1 Helmet, 36.2ms\n",
      "video 1/1 (frame 431/489) /Users/dongarisrikashyap/Downloads/Deep Machine Learning Project/After Augmentation/Project Aug n/../test2.mp4: 384x640 1 Safety_vest, 1 Helmet, 41.0ms\n",
      "video 1/1 (frame 432/489) /Users/dongarisrikashyap/Downloads/Deep Machine Learning Project/After Augmentation/Project Aug n/../test2.mp4: 384x640 1 Safety_vest, 1 Helmet, 34.6ms\n",
      "video 1/1 (frame 433/489) /Users/dongarisrikashyap/Downloads/Deep Machine Learning Project/After Augmentation/Project Aug n/../test2.mp4: 384x640 1 Safety_vest, 1 Helmet, 35.0ms\n",
      "video 1/1 (frame 434/489) /Users/dongarisrikashyap/Downloads/Deep Machine Learning Project/After Augmentation/Project Aug n/../test2.mp4: 384x640 1 Safety_vest, 1 Helmet, 38.0ms\n",
      "video 1/1 (frame 435/489) /Users/dongarisrikashyap/Downloads/Deep Machine Learning Project/After Augmentation/Project Aug n/../test2.mp4: 384x640 1 Safety_vest, 1 Helmet, 38.6ms\n",
      "video 1/1 (frame 436/489) /Users/dongarisrikashyap/Downloads/Deep Machine Learning Project/After Augmentation/Project Aug n/../test2.mp4: 384x640 1 Safety_vest, 1 Helmet, 35.2ms\n",
      "video 1/1 (frame 437/489) /Users/dongarisrikashyap/Downloads/Deep Machine Learning Project/After Augmentation/Project Aug n/../test2.mp4: 384x640 1 Safety_vest, 1 Helmet, 34.5ms\n",
      "video 1/1 (frame 438/489) /Users/dongarisrikashyap/Downloads/Deep Machine Learning Project/After Augmentation/Project Aug n/../test2.mp4: 384x640 1 Safety_vest, 1 Helmet, 46.5ms\n",
      "video 1/1 (frame 439/489) /Users/dongarisrikashyap/Downloads/Deep Machine Learning Project/After Augmentation/Project Aug n/../test2.mp4: 384x640 1 Safety_vest, 1 Helmet, 42.7ms\n",
      "video 1/1 (frame 440/489) /Users/dongarisrikashyap/Downloads/Deep Machine Learning Project/After Augmentation/Project Aug n/../test2.mp4: 384x640 1 Safety_vest, 1 Helmet, 34.5ms\n",
      "video 1/1 (frame 441/489) /Users/dongarisrikashyap/Downloads/Deep Machine Learning Project/After Augmentation/Project Aug n/../test2.mp4: 384x640 1 Safety_vest, 1 Helmet, 34.6ms\n",
      "video 1/1 (frame 442/489) /Users/dongarisrikashyap/Downloads/Deep Machine Learning Project/After Augmentation/Project Aug n/../test2.mp4: 384x640 1 Safety_vest, 1 Helmet, 38.8ms\n",
      "video 1/1 (frame 443/489) /Users/dongarisrikashyap/Downloads/Deep Machine Learning Project/After Augmentation/Project Aug n/../test2.mp4: 384x640 1 Safety_vest, 1 Helmet, 36.6ms\n",
      "video 1/1 (frame 444/489) /Users/dongarisrikashyap/Downloads/Deep Machine Learning Project/After Augmentation/Project Aug n/../test2.mp4: 384x640 1 Safety_vest, 1 Helmet, 32.9ms\n",
      "video 1/1 (frame 445/489) /Users/dongarisrikashyap/Downloads/Deep Machine Learning Project/After Augmentation/Project Aug n/../test2.mp4: 384x640 1 Safety_vest, 1 Helmet, 32.7ms\n",
      "video 1/1 (frame 446/489) /Users/dongarisrikashyap/Downloads/Deep Machine Learning Project/After Augmentation/Project Aug n/../test2.mp4: 384x640 1 Safety_vest, 1 Helmet, 39.1ms\n",
      "video 1/1 (frame 447/489) /Users/dongarisrikashyap/Downloads/Deep Machine Learning Project/After Augmentation/Project Aug n/../test2.mp4: 384x640 1 Safety_vest, 1 Helmet, 36.3ms\n",
      "video 1/1 (frame 448/489) /Users/dongarisrikashyap/Downloads/Deep Machine Learning Project/After Augmentation/Project Aug n/../test2.mp4: 384x640 1 Safety_vest, 1 Helmet, 32.6ms\n",
      "video 1/1 (frame 449/489) /Users/dongarisrikashyap/Downloads/Deep Machine Learning Project/After Augmentation/Project Aug n/../test2.mp4: 384x640 1 Safety_vest, 1 Helmet, 35.0ms\n",
      "video 1/1 (frame 450/489) /Users/dongarisrikashyap/Downloads/Deep Machine Learning Project/After Augmentation/Project Aug n/../test2.mp4: 384x640 1 Safety_vest, 1 Helmet, 40.3ms\n",
      "video 1/1 (frame 451/489) /Users/dongarisrikashyap/Downloads/Deep Machine Learning Project/After Augmentation/Project Aug n/../test2.mp4: 384x640 1 Safety_vest, 1 Helmet, 37.5ms\n",
      "video 1/1 (frame 452/489) /Users/dongarisrikashyap/Downloads/Deep Machine Learning Project/After Augmentation/Project Aug n/../test2.mp4: 384x640 1 Safety_vest, 1 Helmet, 35.4ms\n",
      "video 1/1 (frame 453/489) /Users/dongarisrikashyap/Downloads/Deep Machine Learning Project/After Augmentation/Project Aug n/../test2.mp4: 384x640 1 Safety_vest, 1 Helmet, 35.4ms\n",
      "Speed: 1.2ms preprocess, 35.3ms inference, 0.4ms postprocess per image at shape (1, 3, 384, 640)\n",
      "Results saved to \u001b[1mruns/detect/predict\u001b[0m\n",
      "💡 Learn more at https://docs.ultralytics.com/modes/predict\n",
      "Ultralytics 8.3.136 🚀 Python-3.12.2 torch-2.6.0 CPU (Apple M2)\n",
      "Model summary (fused): 72 layers, 3,006,428 parameters, 0 gradients, 8.1 GFLOPs\n",
      "\n",
      "video 1/1 (frame 1/570) /Users/dongarisrikashyap/Downloads/Deep Machine Learning Project/After Augmentation/Project Aug n/../test3.mp4: 384x640 1 Helmet, 37.9ms\n",
      "video 1/1 (frame 2/570) /Users/dongarisrikashyap/Downloads/Deep Machine Learning Project/After Augmentation/Project Aug n/../test3.mp4: 384x640 1 Helmet, 40.3ms\n",
      "video 1/1 (frame 3/570) /Users/dongarisrikashyap/Downloads/Deep Machine Learning Project/After Augmentation/Project Aug n/../test3.mp4: 384x640 1 Helmet, 44.9ms\n",
      "video 1/1 (frame 4/570) /Users/dongarisrikashyap/Downloads/Deep Machine Learning Project/After Augmentation/Project Aug n/../test3.mp4: 384x640 1 Helmet, 38.2ms\n",
      "video 1/1 (frame 5/570) /Users/dongarisrikashyap/Downloads/Deep Machine Learning Project/After Augmentation/Project Aug n/../test3.mp4: 384x640 1 Helmet, 38.9ms\n",
      "video 1/1 (frame 6/570) /Users/dongarisrikashyap/Downloads/Deep Machine Learning Project/After Augmentation/Project Aug n/../test3.mp4: 384x640 1 Helmet, 37.8ms\n",
      "video 1/1 (frame 7/570) /Users/dongarisrikashyap/Downloads/Deep Machine Learning Project/After Augmentation/Project Aug n/../test3.mp4: 384x640 1 Helmet, 42.5ms\n",
      "video 1/1 (frame 8/570) /Users/dongarisrikashyap/Downloads/Deep Machine Learning Project/After Augmentation/Project Aug n/../test3.mp4: 384x640 1 Helmet, 62.1ms\n",
      "video 1/1 (frame 9/570) /Users/dongarisrikashyap/Downloads/Deep Machine Learning Project/After Augmentation/Project Aug n/../test3.mp4: 384x640 1 Helmet, 58.8ms\n",
      "video 1/1 (frame 10/570) /Users/dongarisrikashyap/Downloads/Deep Machine Learning Project/After Augmentation/Project Aug n/../test3.mp4: 384x640 1 Helmet, 43.7ms\n",
      "video 1/1 (frame 11/570) /Users/dongarisrikashyap/Downloads/Deep Machine Learning Project/After Augmentation/Project Aug n/../test3.mp4: 384x640 1 Helmet, 39.3ms\n",
      "video 1/1 (frame 12/570) /Users/dongarisrikashyap/Downloads/Deep Machine Learning Project/After Augmentation/Project Aug n/../test3.mp4: 384x640 1 Helmet, 34.6ms\n",
      "video 1/1 (frame 13/570) /Users/dongarisrikashyap/Downloads/Deep Machine Learning Project/After Augmentation/Project Aug n/../test3.mp4: 384x640 1 Helmet, 39.8ms\n",
      "video 1/1 (frame 14/570) /Users/dongarisrikashyap/Downloads/Deep Machine Learning Project/After Augmentation/Project Aug n/../test3.mp4: 384x640 1 Helmet, 41.3ms\n",
      "video 1/1 (frame 15/570) /Users/dongarisrikashyap/Downloads/Deep Machine Learning Project/After Augmentation/Project Aug n/../test3.mp4: 384x640 1 Helmet, 35.1ms\n",
      "video 1/1 (frame 16/570) /Users/dongarisrikashyap/Downloads/Deep Machine Learning Project/After Augmentation/Project Aug n/../test3.mp4: 384x640 1 Helmet, 39.9ms\n",
      "video 1/1 (frame 17/570) /Users/dongarisrikashyap/Downloads/Deep Machine Learning Project/After Augmentation/Project Aug n/../test3.mp4: 384x640 1 Helmet, 36.9ms\n",
      "video 1/1 (frame 18/570) /Users/dongarisrikashyap/Downloads/Deep Machine Learning Project/After Augmentation/Project Aug n/../test3.mp4: 384x640 1 Helmet, 33.4ms\n",
      "video 1/1 (frame 19/570) /Users/dongarisrikashyap/Downloads/Deep Machine Learning Project/After Augmentation/Project Aug n/../test3.mp4: 384x640 1 Helmet, 36.4ms\n",
      "video 1/1 (frame 20/570) /Users/dongarisrikashyap/Downloads/Deep Machine Learning Project/After Augmentation/Project Aug n/../test3.mp4: 384x640 1 Helmet, 36.4ms\n",
      "video 1/1 (frame 21/570) /Users/dongarisrikashyap/Downloads/Deep Machine Learning Project/After Augmentation/Project Aug n/../test3.mp4: 384x640 1 Helmet, 33.0ms\n",
      "video 1/1 (frame 22/570) /Users/dongarisrikashyap/Downloads/Deep Machine Learning Project/After Augmentation/Project Aug n/../test3.mp4: 384x640 1 Helmet, 37.4ms\n",
      "video 1/1 (frame 23/570) /Users/dongarisrikashyap/Downloads/Deep Machine Learning Project/After Augmentation/Project Aug n/../test3.mp4: 384x640 1 Helmet, 36.6ms\n",
      "video 1/1 (frame 24/570) /Users/dongarisrikashyap/Downloads/Deep Machine Learning Project/After Augmentation/Project Aug n/../test3.mp4: 384x640 1 Helmet, 36.3ms\n",
      "video 1/1 (frame 25/570) /Users/dongarisrikashyap/Downloads/Deep Machine Learning Project/After Augmentation/Project Aug n/../test3.mp4: 384x640 1 Helmet, 36.1ms\n",
      "video 1/1 (frame 26/570) /Users/dongarisrikashyap/Downloads/Deep Machine Learning Project/After Augmentation/Project Aug n/../test3.mp4: 384x640 1 Helmet, 43.5ms\n",
      "video 1/1 (frame 27/570) /Users/dongarisrikashyap/Downloads/Deep Machine Learning Project/After Augmentation/Project Aug n/../test3.mp4: 384x640 1 Helmet, 47.9ms\n",
      "video 1/1 (frame 28/570) /Users/dongarisrikashyap/Downloads/Deep Machine Learning Project/After Augmentation/Project Aug n/../test3.mp4: 384x640 1 Helmet, 48.5ms\n",
      "video 1/1 (frame 29/570) /Users/dongarisrikashyap/Downloads/Deep Machine Learning Project/After Augmentation/Project Aug n/../test3.mp4: 384x640 1 Helmet, 51.8ms\n",
      "video 1/1 (frame 30/570) /Users/dongarisrikashyap/Downloads/Deep Machine Learning Project/After Augmentation/Project Aug n/../test3.mp4: 384x640 1 Helmet, 35.9ms\n",
      "video 1/1 (frame 31/570) /Users/dongarisrikashyap/Downloads/Deep Machine Learning Project/After Augmentation/Project Aug n/../test3.mp4: 384x640 1 Helmet, 34.4ms\n",
      "video 1/1 (frame 32/570) /Users/dongarisrikashyap/Downloads/Deep Machine Learning Project/After Augmentation/Project Aug n/../test3.mp4: 384x640 1 Helmet, 33.5ms\n",
      "video 1/1 (frame 33/570) /Users/dongarisrikashyap/Downloads/Deep Machine Learning Project/After Augmentation/Project Aug n/../test3.mp4: 384x640 1 Helmet, 36.1ms\n",
      "video 1/1 (frame 34/570) /Users/dongarisrikashyap/Downloads/Deep Machine Learning Project/After Augmentation/Project Aug n/../test3.mp4: 384x640 1 Helmet, 34.9ms\n",
      "video 1/1 (frame 35/570) /Users/dongarisrikashyap/Downloads/Deep Machine Learning Project/After Augmentation/Project Aug n/../test3.mp4: 384x640 1 Helmet, 33.0ms\n",
      "video 1/1 (frame 36/570) /Users/dongarisrikashyap/Downloads/Deep Machine Learning Project/After Augmentation/Project Aug n/../test3.mp4: 384x640 1 Helmet, 38.0ms\n",
      "video 1/1 (frame 37/570) /Users/dongarisrikashyap/Downloads/Deep Machine Learning Project/After Augmentation/Project Aug n/../test3.mp4: 384x640 1 Helmet, 35.4ms\n",
      "video 1/1 (frame 38/570) /Users/dongarisrikashyap/Downloads/Deep Machine Learning Project/After Augmentation/Project Aug n/../test3.mp4: 384x640 1 Helmet, 33.1ms\n",
      "video 1/1 (frame 39/570) /Users/dongarisrikashyap/Downloads/Deep Machine Learning Project/After Augmentation/Project Aug n/../test3.mp4: 384x640 1 Helmet, 39.1ms\n",
      "video 1/1 (frame 40/570) /Users/dongarisrikashyap/Downloads/Deep Machine Learning Project/After Augmentation/Project Aug n/../test3.mp4: 384x640 1 Helmet, 33.5ms\n",
      "video 1/1 (frame 41/570) /Users/dongarisrikashyap/Downloads/Deep Machine Learning Project/After Augmentation/Project Aug n/../test3.mp4: 384x640 1 Helmet, 38.3ms\n",
      "video 1/1 (frame 42/570) /Users/dongarisrikashyap/Downloads/Deep Machine Learning Project/After Augmentation/Project Aug n/../test3.mp4: 384x640 1 Helmet, 36.5ms\n",
      "video 1/1 (frame 43/570) /Users/dongarisrikashyap/Downloads/Deep Machine Learning Project/After Augmentation/Project Aug n/../test3.mp4: 384x640 1 Helmet, 50.1ms\n",
      "video 1/1 (frame 44/570) /Users/dongarisrikashyap/Downloads/Deep Machine Learning Project/After Augmentation/Project Aug n/../test3.mp4: 384x640 1 Helmet, 51.8ms\n",
      "video 1/1 (frame 45/570) /Users/dongarisrikashyap/Downloads/Deep Machine Learning Project/After Augmentation/Project Aug n/../test3.mp4: 384x640 1 Helmet, 45.3ms\n",
      "video 1/1 (frame 46/570) /Users/dongarisrikashyap/Downloads/Deep Machine Learning Project/After Augmentation/Project Aug n/../test3.mp4: 384x640 1 Helmet, 44.5ms\n",
      "video 1/1 (frame 47/570) /Users/dongarisrikashyap/Downloads/Deep Machine Learning Project/After Augmentation/Project Aug n/../test3.mp4: 384x640 1 Helmet, 65.8ms\n",
      "video 1/1 (frame 48/570) /Users/dongarisrikashyap/Downloads/Deep Machine Learning Project/After Augmentation/Project Aug n/../test3.mp4: 384x640 1 Helmet, 47.6ms\n",
      "video 1/1 (frame 49/570) /Users/dongarisrikashyap/Downloads/Deep Machine Learning Project/After Augmentation/Project Aug n/../test3.mp4: 384x640 1 Helmet, 44.0ms\n",
      "video 1/1 (frame 50/570) /Users/dongarisrikashyap/Downloads/Deep Machine Learning Project/After Augmentation/Project Aug n/../test3.mp4: 384x640 1 Helmet, 37.7ms\n",
      "video 1/1 (frame 51/570) /Users/dongarisrikashyap/Downloads/Deep Machine Learning Project/After Augmentation/Project Aug n/../test3.mp4: 384x640 1 Helmet, 43.6ms\n",
      "video 1/1 (frame 52/570) /Users/dongarisrikashyap/Downloads/Deep Machine Learning Project/After Augmentation/Project Aug n/../test3.mp4: 384x640 1 Helmet, 50.1ms\n",
      "video 1/1 (frame 53/570) /Users/dongarisrikashyap/Downloads/Deep Machine Learning Project/After Augmentation/Project Aug n/../test3.mp4: 384x640 1 Helmet, 52.7ms\n",
      "video 1/1 (frame 54/570) /Users/dongarisrikashyap/Downloads/Deep Machine Learning Project/After Augmentation/Project Aug n/../test3.mp4: 384x640 1 Helmet, 41.4ms\n",
      "video 1/1 (frame 55/570) /Users/dongarisrikashyap/Downloads/Deep Machine Learning Project/After Augmentation/Project Aug n/../test3.mp4: 384x640 1 Helmet, 39.3ms\n",
      "video 1/1 (frame 56/570) /Users/dongarisrikashyap/Downloads/Deep Machine Learning Project/After Augmentation/Project Aug n/../test3.mp4: 384x640 1 Helmet, 52.8ms\n",
      "video 1/1 (frame 57/570) /Users/dongarisrikashyap/Downloads/Deep Machine Learning Project/After Augmentation/Project Aug n/../test3.mp4: 384x640 1 Helmet, 49.8ms\n",
      "video 1/1 (frame 58/570) /Users/dongarisrikashyap/Downloads/Deep Machine Learning Project/After Augmentation/Project Aug n/../test3.mp4: 384x640 1 Helmet, 46.7ms\n",
      "video 1/1 (frame 59/570) /Users/dongarisrikashyap/Downloads/Deep Machine Learning Project/After Augmentation/Project Aug n/../test3.mp4: 384x640 1 Helmet, 41.9ms\n",
      "video 1/1 (frame 60/570) /Users/dongarisrikashyap/Downloads/Deep Machine Learning Project/After Augmentation/Project Aug n/../test3.mp4: 384x640 1 Helmet, 48.7ms\n",
      "video 1/1 (frame 61/570) /Users/dongarisrikashyap/Downloads/Deep Machine Learning Project/After Augmentation/Project Aug n/../test3.mp4: 384x640 1 Helmet, 43.5ms\n",
      "video 1/1 (frame 62/570) /Users/dongarisrikashyap/Downloads/Deep Machine Learning Project/After Augmentation/Project Aug n/../test3.mp4: 384x640 1 Helmet, 48.9ms\n",
      "video 1/1 (frame 63/570) /Users/dongarisrikashyap/Downloads/Deep Machine Learning Project/After Augmentation/Project Aug n/../test3.mp4: 384x640 1 Helmet, 41.7ms\n",
      "video 1/1 (frame 64/570) /Users/dongarisrikashyap/Downloads/Deep Machine Learning Project/After Augmentation/Project Aug n/../test3.mp4: 384x640 1 Helmet, 43.1ms\n",
      "video 1/1 (frame 65/570) /Users/dongarisrikashyap/Downloads/Deep Machine Learning Project/After Augmentation/Project Aug n/../test3.mp4: 384x640 1 Helmet, 39.8ms\n",
      "video 1/1 (frame 66/570) /Users/dongarisrikashyap/Downloads/Deep Machine Learning Project/After Augmentation/Project Aug n/../test3.mp4: 384x640 1 Helmet, 46.8ms\n",
      "video 1/1 (frame 67/570) /Users/dongarisrikashyap/Downloads/Deep Machine Learning Project/After Augmentation/Project Aug n/../test3.mp4: 384x640 1 Helmet, 48.9ms\n",
      "video 1/1 (frame 68/570) /Users/dongarisrikashyap/Downloads/Deep Machine Learning Project/After Augmentation/Project Aug n/../test3.mp4: 384x640 1 Helmet, 41.5ms\n",
      "video 1/1 (frame 69/570) /Users/dongarisrikashyap/Downloads/Deep Machine Learning Project/After Augmentation/Project Aug n/../test3.mp4: 384x640 1 Helmet, 43.0ms\n",
      "video 1/1 (frame 70/570) /Users/dongarisrikashyap/Downloads/Deep Machine Learning Project/After Augmentation/Project Aug n/../test3.mp4: 384x640 1 Helmet, 53.7ms\n",
      "video 1/1 (frame 71/570) /Users/dongarisrikashyap/Downloads/Deep Machine Learning Project/After Augmentation/Project Aug n/../test3.mp4: 384x640 1 Helmet, 46.2ms\n",
      "video 1/1 (frame 72/570) /Users/dongarisrikashyap/Downloads/Deep Machine Learning Project/After Augmentation/Project Aug n/../test3.mp4: 384x640 1 Helmet, 44.8ms\n",
      "video 1/1 (frame 73/570) /Users/dongarisrikashyap/Downloads/Deep Machine Learning Project/After Augmentation/Project Aug n/../test3.mp4: 384x640 1 Helmet, 42.0ms\n",
      "video 1/1 (frame 74/570) /Users/dongarisrikashyap/Downloads/Deep Machine Learning Project/After Augmentation/Project Aug n/../test3.mp4: 384x640 1 Helmet, 41.1ms\n",
      "video 1/1 (frame 75/570) /Users/dongarisrikashyap/Downloads/Deep Machine Learning Project/After Augmentation/Project Aug n/../test3.mp4: 384x640 1 Helmet, 47.3ms\n",
      "video 1/1 (frame 76/570) /Users/dongarisrikashyap/Downloads/Deep Machine Learning Project/After Augmentation/Project Aug n/../test3.mp4: 384x640 1 Helmet, 41.2ms\n",
      "video 1/1 (frame 77/570) /Users/dongarisrikashyap/Downloads/Deep Machine Learning Project/After Augmentation/Project Aug n/../test3.mp4: 384x640 1 Helmet, 38.9ms\n",
      "video 1/1 (frame 78/570) /Users/dongarisrikashyap/Downloads/Deep Machine Learning Project/After Augmentation/Project Aug n/../test3.mp4: 384x640 1 Helmet, 41.4ms\n",
      "video 1/1 (frame 79/570) /Users/dongarisrikashyap/Downloads/Deep Machine Learning Project/After Augmentation/Project Aug n/../test3.mp4: 384x640 1 Helmet, 43.9ms\n",
      "video 1/1 (frame 80/570) /Users/dongarisrikashyap/Downloads/Deep Machine Learning Project/After Augmentation/Project Aug n/../test3.mp4: 384x640 1 Helmet, 40.9ms\n",
      "video 1/1 (frame 81/570) /Users/dongarisrikashyap/Downloads/Deep Machine Learning Project/After Augmentation/Project Aug n/../test3.mp4: 384x640 1 Helmet, 39.3ms\n",
      "video 1/1 (frame 82/570) /Users/dongarisrikashyap/Downloads/Deep Machine Learning Project/After Augmentation/Project Aug n/../test3.mp4: 384x640 1 Helmet, 58.3ms\n",
      "video 1/1 (frame 83/570) /Users/dongarisrikashyap/Downloads/Deep Machine Learning Project/After Augmentation/Project Aug n/../test3.mp4: 384x640 1 Helmet, 46.4ms\n",
      "video 1/1 (frame 84/570) /Users/dongarisrikashyap/Downloads/Deep Machine Learning Project/After Augmentation/Project Aug n/../test3.mp4: 384x640 1 Helmet, 42.7ms\n",
      "video 1/1 (frame 85/570) /Users/dongarisrikashyap/Downloads/Deep Machine Learning Project/After Augmentation/Project Aug n/../test3.mp4: 384x640 1 Helmet, 38.8ms\n",
      "video 1/1 (frame 86/570) /Users/dongarisrikashyap/Downloads/Deep Machine Learning Project/After Augmentation/Project Aug n/../test3.mp4: 384x640 1 Helmet, 50.7ms\n",
      "video 1/1 (frame 87/570) /Users/dongarisrikashyap/Downloads/Deep Machine Learning Project/After Augmentation/Project Aug n/../test3.mp4: 384x640 1 Helmet, 47.7ms\n",
      "video 1/1 (frame 88/570) /Users/dongarisrikashyap/Downloads/Deep Machine Learning Project/After Augmentation/Project Aug n/../test3.mp4: 384x640 2 Helmets, 39.6ms\n",
      "video 1/1 (frame 89/570) /Users/dongarisrikashyap/Downloads/Deep Machine Learning Project/After Augmentation/Project Aug n/../test3.mp4: 384x640 2 Helmets, 41.9ms\n",
      "video 1/1 (frame 90/570) /Users/dongarisrikashyap/Downloads/Deep Machine Learning Project/After Augmentation/Project Aug n/../test3.mp4: 384x640 1 Helmet, 45.0ms\n",
      "video 1/1 (frame 91/570) /Users/dongarisrikashyap/Downloads/Deep Machine Learning Project/After Augmentation/Project Aug n/../test3.mp4: 384x640 1 Helmet, 41.7ms\n",
      "video 1/1 (frame 92/570) /Users/dongarisrikashyap/Downloads/Deep Machine Learning Project/After Augmentation/Project Aug n/../test3.mp4: 384x640 1 Helmet, 40.1ms\n",
      "video 1/1 (frame 93/570) /Users/dongarisrikashyap/Downloads/Deep Machine Learning Project/After Augmentation/Project Aug n/../test3.mp4: 384x640 1 Helmet, 38.3ms\n",
      "video 1/1 (frame 94/570) /Users/dongarisrikashyap/Downloads/Deep Machine Learning Project/After Augmentation/Project Aug n/../test3.mp4: 384x640 1 Helmet, 37.4ms\n",
      "video 1/1 (frame 95/570) /Users/dongarisrikashyap/Downloads/Deep Machine Learning Project/After Augmentation/Project Aug n/../test3.mp4: 384x640 1 Helmet, 50.5ms\n",
      "video 1/1 (frame 96/570) /Users/dongarisrikashyap/Downloads/Deep Machine Learning Project/After Augmentation/Project Aug n/../test3.mp4: 384x640 1 Helmet, 34.5ms\n",
      "video 1/1 (frame 97/570) /Users/dongarisrikashyap/Downloads/Deep Machine Learning Project/After Augmentation/Project Aug n/../test3.mp4: 384x640 1 Helmet, 37.2ms\n",
      "video 1/1 (frame 98/570) /Users/dongarisrikashyap/Downloads/Deep Machine Learning Project/After Augmentation/Project Aug n/../test3.mp4: 384x640 1 Helmet, 41.4ms\n",
      "video 1/1 (frame 99/570) /Users/dongarisrikashyap/Downloads/Deep Machine Learning Project/After Augmentation/Project Aug n/../test3.mp4: 384x640 1 Helmet, 41.4ms\n",
      "video 1/1 (frame 100/570) /Users/dongarisrikashyap/Downloads/Deep Machine Learning Project/After Augmentation/Project Aug n/../test3.mp4: 384x640 1 Helmet, 38.6ms\n",
      "video 1/1 (frame 101/570) /Users/dongarisrikashyap/Downloads/Deep Machine Learning Project/After Augmentation/Project Aug n/../test3.mp4: 384x640 1 Helmet, 44.7ms\n",
      "video 1/1 (frame 102/570) /Users/dongarisrikashyap/Downloads/Deep Machine Learning Project/After Augmentation/Project Aug n/../test3.mp4: 384x640 1 Helmet, 41.3ms\n",
      "video 1/1 (frame 103/570) /Users/dongarisrikashyap/Downloads/Deep Machine Learning Project/After Augmentation/Project Aug n/../test3.mp4: 384x640 1 Helmet, 37.8ms\n",
      "video 1/1 (frame 104/570) /Users/dongarisrikashyap/Downloads/Deep Machine Learning Project/After Augmentation/Project Aug n/../test3.mp4: 384x640 1 Helmet, 35.4ms\n",
      "video 1/1 (frame 105/570) /Users/dongarisrikashyap/Downloads/Deep Machine Learning Project/After Augmentation/Project Aug n/../test3.mp4: 384x640 1 Helmet, 31.6ms\n",
      "video 1/1 (frame 106/570) /Users/dongarisrikashyap/Downloads/Deep Machine Learning Project/After Augmentation/Project Aug n/../test3.mp4: 384x640 1 Helmet, 36.8ms\n",
      "video 1/1 (frame 107/570) /Users/dongarisrikashyap/Downloads/Deep Machine Learning Project/After Augmentation/Project Aug n/../test3.mp4: 384x640 2 Helmets, 35.4ms\n",
      "video 1/1 (frame 108/570) /Users/dongarisrikashyap/Downloads/Deep Machine Learning Project/After Augmentation/Project Aug n/../test3.mp4: 384x640 1 Helmet, 35.4ms\n",
      "video 1/1 (frame 109/570) /Users/dongarisrikashyap/Downloads/Deep Machine Learning Project/After Augmentation/Project Aug n/../test3.mp4: 384x640 1 Helmet, 32.6ms\n",
      "video 1/1 (frame 110/570) /Users/dongarisrikashyap/Downloads/Deep Machine Learning Project/After Augmentation/Project Aug n/../test3.mp4: 384x640 1 Helmet, 34.1ms\n",
      "video 1/1 (frame 111/570) /Users/dongarisrikashyap/Downloads/Deep Machine Learning Project/After Augmentation/Project Aug n/../test3.mp4: 384x640 1 Helmet, 29.6ms\n",
      "video 1/1 (frame 112/570) /Users/dongarisrikashyap/Downloads/Deep Machine Learning Project/After Augmentation/Project Aug n/../test3.mp4: 384x640 1 Helmet, 31.0ms\n",
      "video 1/1 (frame 113/570) /Users/dongarisrikashyap/Downloads/Deep Machine Learning Project/After Augmentation/Project Aug n/../test3.mp4: 384x640 1 Helmet, 28.3ms\n",
      "video 1/1 (frame 114/570) /Users/dongarisrikashyap/Downloads/Deep Machine Learning Project/After Augmentation/Project Aug n/../test3.mp4: 384x640 2 Helmets, 37.6ms\n",
      "video 1/1 (frame 115/570) /Users/dongarisrikashyap/Downloads/Deep Machine Learning Project/After Augmentation/Project Aug n/../test3.mp4: 384x640 2 Helmets, 30.3ms\n",
      "video 1/1 (frame 116/570) /Users/dongarisrikashyap/Downloads/Deep Machine Learning Project/After Augmentation/Project Aug n/../test3.mp4: 384x640 1 Helmet, 33.5ms\n",
      "video 1/1 (frame 117/570) /Users/dongarisrikashyap/Downloads/Deep Machine Learning Project/After Augmentation/Project Aug n/../test3.mp4: 384x640 1 Helmet, 32.5ms\n",
      "video 1/1 (frame 118/570) /Users/dongarisrikashyap/Downloads/Deep Machine Learning Project/After Augmentation/Project Aug n/../test3.mp4: 384x640 2 Helmets, 37.1ms\n",
      "video 1/1 (frame 119/570) /Users/dongarisrikashyap/Downloads/Deep Machine Learning Project/After Augmentation/Project Aug n/../test3.mp4: 384x640 2 Helmets, 36.1ms\n",
      "video 1/1 (frame 120/570) /Users/dongarisrikashyap/Downloads/Deep Machine Learning Project/After Augmentation/Project Aug n/../test3.mp4: 384x640 2 Helmets, 36.1ms\n",
      "video 1/1 (frame 121/570) /Users/dongarisrikashyap/Downloads/Deep Machine Learning Project/After Augmentation/Project Aug n/../test3.mp4: 384x640 2 Helmets, 35.6ms\n",
      "video 1/1 (frame 122/570) /Users/dongarisrikashyap/Downloads/Deep Machine Learning Project/After Augmentation/Project Aug n/../test3.mp4: 384x640 2 Helmets, 40.1ms\n",
      "video 1/1 (frame 123/570) /Users/dongarisrikashyap/Downloads/Deep Machine Learning Project/After Augmentation/Project Aug n/../test3.mp4: 384x640 2 Helmets, 39.2ms\n",
      "video 1/1 (frame 124/570) /Users/dongarisrikashyap/Downloads/Deep Machine Learning Project/After Augmentation/Project Aug n/../test3.mp4: 384x640 1 Helmet, 33.6ms\n",
      "video 1/1 (frame 125/570) /Users/dongarisrikashyap/Downloads/Deep Machine Learning Project/After Augmentation/Project Aug n/../test3.mp4: 384x640 1 Helmet, 34.7ms\n",
      "video 1/1 (frame 126/570) /Users/dongarisrikashyap/Downloads/Deep Machine Learning Project/After Augmentation/Project Aug n/../test3.mp4: 384x640 1 Helmet, 41.0ms\n",
      "video 1/1 (frame 127/570) /Users/dongarisrikashyap/Downloads/Deep Machine Learning Project/After Augmentation/Project Aug n/../test3.mp4: 384x640 1 Helmet, 39.5ms\n",
      "video 1/1 (frame 128/570) /Users/dongarisrikashyap/Downloads/Deep Machine Learning Project/After Augmentation/Project Aug n/../test3.mp4: 384x640 1 Helmet, 38.0ms\n",
      "video 1/1 (frame 129/570) /Users/dongarisrikashyap/Downloads/Deep Machine Learning Project/After Augmentation/Project Aug n/../test3.mp4: 384x640 1 Helmet, 35.4ms\n",
      "video 1/1 (frame 130/570) /Users/dongarisrikashyap/Downloads/Deep Machine Learning Project/After Augmentation/Project Aug n/../test3.mp4: 384x640 1 Helmet, 41.3ms\n",
      "video 1/1 (frame 131/570) /Users/dongarisrikashyap/Downloads/Deep Machine Learning Project/After Augmentation/Project Aug n/../test3.mp4: 384x640 1 Helmet, 43.1ms\n",
      "video 1/1 (frame 132/570) /Users/dongarisrikashyap/Downloads/Deep Machine Learning Project/After Augmentation/Project Aug n/../test3.mp4: 384x640 1 Helmet, 35.2ms\n",
      "video 1/1 (frame 133/570) /Users/dongarisrikashyap/Downloads/Deep Machine Learning Project/After Augmentation/Project Aug n/../test3.mp4: 384x640 1 Helmet, 37.8ms\n",
      "video 1/1 (frame 134/570) /Users/dongarisrikashyap/Downloads/Deep Machine Learning Project/After Augmentation/Project Aug n/../test3.mp4: 384x640 1 Helmet, 39.5ms\n",
      "video 1/1 (frame 135/570) /Users/dongarisrikashyap/Downloads/Deep Machine Learning Project/After Augmentation/Project Aug n/../test3.mp4: 384x640 1 Helmet, 43.1ms\n",
      "video 1/1 (frame 136/570) /Users/dongarisrikashyap/Downloads/Deep Machine Learning Project/After Augmentation/Project Aug n/../test3.mp4: 384x640 1 Helmet, 33.5ms\n",
      "video 1/1 (frame 137/570) /Users/dongarisrikashyap/Downloads/Deep Machine Learning Project/After Augmentation/Project Aug n/../test3.mp4: 384x640 1 Helmet, 40.6ms\n",
      "video 1/1 (frame 138/570) /Users/dongarisrikashyap/Downloads/Deep Machine Learning Project/After Augmentation/Project Aug n/../test3.mp4: 384x640 1 Helmet, 42.1ms\n",
      "video 1/1 (frame 139/570) /Users/dongarisrikashyap/Downloads/Deep Machine Learning Project/After Augmentation/Project Aug n/../test3.mp4: 384x640 1 Helmet, 32.1ms\n",
      "video 1/1 (frame 140/570) /Users/dongarisrikashyap/Downloads/Deep Machine Learning Project/After Augmentation/Project Aug n/../test3.mp4: 384x640 1 Helmet, 34.8ms\n",
      "video 1/1 (frame 141/570) /Users/dongarisrikashyap/Downloads/Deep Machine Learning Project/After Augmentation/Project Aug n/../test3.mp4: 384x640 1 Helmet, 31.8ms\n",
      "video 1/1 (frame 142/570) /Users/dongarisrikashyap/Downloads/Deep Machine Learning Project/After Augmentation/Project Aug n/../test3.mp4: 384x640 1 Helmet, 36.9ms\n",
      "video 1/1 (frame 143/570) /Users/dongarisrikashyap/Downloads/Deep Machine Learning Project/After Augmentation/Project Aug n/../test3.mp4: 384x640 1 Helmet, 30.5ms\n",
      "video 1/1 (frame 144/570) /Users/dongarisrikashyap/Downloads/Deep Machine Learning Project/After Augmentation/Project Aug n/../test3.mp4: 384x640 1 Helmet, 33.5ms\n",
      "video 1/1 (frame 145/570) /Users/dongarisrikashyap/Downloads/Deep Machine Learning Project/After Augmentation/Project Aug n/../test3.mp4: 384x640 1 Helmet, 40.4ms\n",
      "video 1/1 (frame 146/570) /Users/dongarisrikashyap/Downloads/Deep Machine Learning Project/After Augmentation/Project Aug n/../test3.mp4: 384x640 2 Helmets, 50.5ms\n",
      "video 1/1 (frame 147/570) /Users/dongarisrikashyap/Downloads/Deep Machine Learning Project/After Augmentation/Project Aug n/../test3.mp4: 384x640 2 Helmets, 32.9ms\n",
      "video 1/1 (frame 148/570) /Users/dongarisrikashyap/Downloads/Deep Machine Learning Project/After Augmentation/Project Aug n/../test3.mp4: 384x640 1 Helmet, 36.4ms\n",
      "video 1/1 (frame 149/570) /Users/dongarisrikashyap/Downloads/Deep Machine Learning Project/After Augmentation/Project Aug n/../test3.mp4: 384x640 1 Helmet, 38.7ms\n",
      "video 1/1 (frame 150/570) /Users/dongarisrikashyap/Downloads/Deep Machine Learning Project/After Augmentation/Project Aug n/../test3.mp4: 384x640 1 Helmet, 42.1ms\n",
      "video 1/1 (frame 151/570) /Users/dongarisrikashyap/Downloads/Deep Machine Learning Project/After Augmentation/Project Aug n/../test3.mp4: 384x640 1 Helmet, 33.2ms\n",
      "video 1/1 (frame 152/570) /Users/dongarisrikashyap/Downloads/Deep Machine Learning Project/After Augmentation/Project Aug n/../test3.mp4: 384x640 1 Helmet, 35.0ms\n",
      "video 1/1 (frame 153/570) /Users/dongarisrikashyap/Downloads/Deep Machine Learning Project/After Augmentation/Project Aug n/../test3.mp4: 384x640 1 Helmet, 39.2ms\n",
      "video 1/1 (frame 154/570) /Users/dongarisrikashyap/Downloads/Deep Machine Learning Project/After Augmentation/Project Aug n/../test3.mp4: 384x640 1 Helmet, 38.6ms\n",
      "video 1/1 (frame 155/570) /Users/dongarisrikashyap/Downloads/Deep Machine Learning Project/After Augmentation/Project Aug n/../test3.mp4: 384x640 1 Helmet, 36.8ms\n",
      "video 1/1 (frame 156/570) /Users/dongarisrikashyap/Downloads/Deep Machine Learning Project/After Augmentation/Project Aug n/../test3.mp4: 384x640 1 Helmet, 34.8ms\n",
      "video 1/1 (frame 157/570) /Users/dongarisrikashyap/Downloads/Deep Machine Learning Project/After Augmentation/Project Aug n/../test3.mp4: 384x640 1 Helmet, 40.6ms\n",
      "video 1/1 (frame 158/570) /Users/dongarisrikashyap/Downloads/Deep Machine Learning Project/After Augmentation/Project Aug n/../test3.mp4: 384x640 1 Helmet, 38.3ms\n",
      "video 1/1 (frame 159/570) /Users/dongarisrikashyap/Downloads/Deep Machine Learning Project/After Augmentation/Project Aug n/../test3.mp4: 384x640 1 Helmet, 35.6ms\n",
      "video 1/1 (frame 160/570) /Users/dongarisrikashyap/Downloads/Deep Machine Learning Project/After Augmentation/Project Aug n/../test3.mp4: 384x640 2 Helmets, 33.2ms\n",
      "video 1/1 (frame 161/570) /Users/dongarisrikashyap/Downloads/Deep Machine Learning Project/After Augmentation/Project Aug n/../test3.mp4: 384x640 2 Helmets, 41.7ms\n",
      "video 1/1 (frame 162/570) /Users/dongarisrikashyap/Downloads/Deep Machine Learning Project/After Augmentation/Project Aug n/../test3.mp4: 384x640 1 Helmet, 44.6ms\n",
      "video 1/1 (frame 163/570) /Users/dongarisrikashyap/Downloads/Deep Machine Learning Project/After Augmentation/Project Aug n/../test3.mp4: 384x640 1 Helmet, 42.2ms\n",
      "video 1/1 (frame 164/570) /Users/dongarisrikashyap/Downloads/Deep Machine Learning Project/After Augmentation/Project Aug n/../test3.mp4: 384x640 1 Helmet, 39.0ms\n",
      "video 1/1 (frame 165/570) /Users/dongarisrikashyap/Downloads/Deep Machine Learning Project/After Augmentation/Project Aug n/../test3.mp4: 384x640 1 Helmet, 39.2ms\n",
      "video 1/1 (frame 166/570) /Users/dongarisrikashyap/Downloads/Deep Machine Learning Project/After Augmentation/Project Aug n/../test3.mp4: 384x640 1 Helmet, 42.3ms\n",
      "video 1/1 (frame 167/570) /Users/dongarisrikashyap/Downloads/Deep Machine Learning Project/After Augmentation/Project Aug n/../test3.mp4: 384x640 1 Helmet, 33.9ms\n",
      "video 1/1 (frame 168/570) /Users/dongarisrikashyap/Downloads/Deep Machine Learning Project/After Augmentation/Project Aug n/../test3.mp4: 384x640 1 Helmet, 34.6ms\n",
      "video 1/1 (frame 169/570) /Users/dongarisrikashyap/Downloads/Deep Machine Learning Project/After Augmentation/Project Aug n/../test3.mp4: 384x640 1 Helmet, 39.6ms\n",
      "video 1/1 (frame 170/570) /Users/dongarisrikashyap/Downloads/Deep Machine Learning Project/After Augmentation/Project Aug n/../test3.mp4: 384x640 1 Helmet, 41.4ms\n",
      "video 1/1 (frame 171/570) /Users/dongarisrikashyap/Downloads/Deep Machine Learning Project/After Augmentation/Project Aug n/../test3.mp4: 384x640 1 Helmet, 36.3ms\n",
      "video 1/1 (frame 172/570) /Users/dongarisrikashyap/Downloads/Deep Machine Learning Project/After Augmentation/Project Aug n/../test3.mp4: 384x640 1 Helmet, 33.7ms\n",
      "video 1/1 (frame 173/570) /Users/dongarisrikashyap/Downloads/Deep Machine Learning Project/After Augmentation/Project Aug n/../test3.mp4: 384x640 1 Helmet, 41.0ms\n",
      "video 1/1 (frame 174/570) /Users/dongarisrikashyap/Downloads/Deep Machine Learning Project/After Augmentation/Project Aug n/../test3.mp4: 384x640 1 Helmet, 38.9ms\n",
      "video 1/1 (frame 175/570) /Users/dongarisrikashyap/Downloads/Deep Machine Learning Project/After Augmentation/Project Aug n/../test3.mp4: 384x640 1 Helmet, 40.1ms\n",
      "video 1/1 (frame 176/570) /Users/dongarisrikashyap/Downloads/Deep Machine Learning Project/After Augmentation/Project Aug n/../test3.mp4: 384x640 1 Helmet, 31.2ms\n",
      "video 1/1 (frame 177/570) /Users/dongarisrikashyap/Downloads/Deep Machine Learning Project/After Augmentation/Project Aug n/../test3.mp4: 384x640 1 Helmet, 33.4ms\n",
      "video 1/1 (frame 178/570) /Users/dongarisrikashyap/Downloads/Deep Machine Learning Project/After Augmentation/Project Aug n/../test3.mp4: 384x640 1 Helmet, 33.6ms\n",
      "video 1/1 (frame 179/570) /Users/dongarisrikashyap/Downloads/Deep Machine Learning Project/After Augmentation/Project Aug n/../test3.mp4: 384x640 1 Helmet, 38.4ms\n",
      "video 1/1 (frame 180/570) /Users/dongarisrikashyap/Downloads/Deep Machine Learning Project/After Augmentation/Project Aug n/../test3.mp4: 384x640 1 Helmet, 29.3ms\n",
      "video 1/1 (frame 181/570) /Users/dongarisrikashyap/Downloads/Deep Machine Learning Project/After Augmentation/Project Aug n/../test3.mp4: 384x640 1 Helmet, 32.3ms\n",
      "video 1/1 (frame 182/570) /Users/dongarisrikashyap/Downloads/Deep Machine Learning Project/After Augmentation/Project Aug n/../test3.mp4: 384x640 1 Helmet, 37.2ms\n",
      "video 1/1 (frame 183/570) /Users/dongarisrikashyap/Downloads/Deep Machine Learning Project/After Augmentation/Project Aug n/../test3.mp4: 384x640 1 Helmet, 37.1ms\n",
      "video 1/1 (frame 184/570) /Users/dongarisrikashyap/Downloads/Deep Machine Learning Project/After Augmentation/Project Aug n/../test3.mp4: 384x640 1 Helmet, 29.2ms\n",
      "video 1/1 (frame 185/570) /Users/dongarisrikashyap/Downloads/Deep Machine Learning Project/After Augmentation/Project Aug n/../test3.mp4: 384x640 1 Helmet, 34.6ms\n",
      "video 1/1 (frame 186/570) /Users/dongarisrikashyap/Downloads/Deep Machine Learning Project/After Augmentation/Project Aug n/../test3.mp4: 384x640 1 Helmet, 34.5ms\n",
      "video 1/1 (frame 187/570) /Users/dongarisrikashyap/Downloads/Deep Machine Learning Project/After Augmentation/Project Aug n/../test3.mp4: 384x640 1 Helmet, 31.2ms\n",
      "video 1/1 (frame 188/570) /Users/dongarisrikashyap/Downloads/Deep Machine Learning Project/After Augmentation/Project Aug n/../test3.mp4: 384x640 1 Helmet, 29.6ms\n",
      "video 1/1 (frame 189/570) /Users/dongarisrikashyap/Downloads/Deep Machine Learning Project/After Augmentation/Project Aug n/../test3.mp4: 384x640 1 Helmet, 33.8ms\n",
      "video 1/1 (frame 190/570) /Users/dongarisrikashyap/Downloads/Deep Machine Learning Project/After Augmentation/Project Aug n/../test3.mp4: 384x640 1 Helmet, 39.1ms\n",
      "video 1/1 (frame 191/570) /Users/dongarisrikashyap/Downloads/Deep Machine Learning Project/After Augmentation/Project Aug n/../test3.mp4: 384x640 1 Helmet, 34.5ms\n",
      "video 1/1 (frame 192/570) /Users/dongarisrikashyap/Downloads/Deep Machine Learning Project/After Augmentation/Project Aug n/../test3.mp4: 384x640 1 Helmet, 34.1ms\n",
      "video 1/1 (frame 193/570) /Users/dongarisrikashyap/Downloads/Deep Machine Learning Project/After Augmentation/Project Aug n/../test3.mp4: 384x640 1 Helmet, 31.4ms\n",
      "video 1/1 (frame 194/570) /Users/dongarisrikashyap/Downloads/Deep Machine Learning Project/After Augmentation/Project Aug n/../test3.mp4: 384x640 1 Helmet, 31.0ms\n",
      "video 1/1 (frame 195/570) /Users/dongarisrikashyap/Downloads/Deep Machine Learning Project/After Augmentation/Project Aug n/../test3.mp4: 384x640 1 Helmet, 32.3ms\n",
      "video 1/1 (frame 196/570) /Users/dongarisrikashyap/Downloads/Deep Machine Learning Project/After Augmentation/Project Aug n/../test3.mp4: 384x640 1 Helmet, 32.1ms\n",
      "video 1/1 (frame 197/570) /Users/dongarisrikashyap/Downloads/Deep Machine Learning Project/After Augmentation/Project Aug n/../test3.mp4: 384x640 1 Helmet, 30.6ms\n",
      "video 1/1 (frame 198/570) /Users/dongarisrikashyap/Downloads/Deep Machine Learning Project/After Augmentation/Project Aug n/../test3.mp4: 384x640 1 Helmet, 34.6ms\n",
      "video 1/1 (frame 199/570) /Users/dongarisrikashyap/Downloads/Deep Machine Learning Project/After Augmentation/Project Aug n/../test3.mp4: 384x640 1 Helmet, 36.9ms\n",
      "video 1/1 (frame 200/570) /Users/dongarisrikashyap/Downloads/Deep Machine Learning Project/After Augmentation/Project Aug n/../test3.mp4: 384x640 1 Helmet, 38.6ms\n",
      "video 1/1 (frame 201/570) /Users/dongarisrikashyap/Downloads/Deep Machine Learning Project/After Augmentation/Project Aug n/../test3.mp4: 384x640 1 Helmet, 31.9ms\n",
      "video 1/1 (frame 202/570) /Users/dongarisrikashyap/Downloads/Deep Machine Learning Project/After Augmentation/Project Aug n/../test3.mp4: 384x640 1 Helmet, 33.7ms\n",
      "video 1/1 (frame 203/570) /Users/dongarisrikashyap/Downloads/Deep Machine Learning Project/After Augmentation/Project Aug n/../test3.mp4: 384x640 1 Helmet, 40.4ms\n",
      "video 1/1 (frame 204/570) /Users/dongarisrikashyap/Downloads/Deep Machine Learning Project/After Augmentation/Project Aug n/../test3.mp4: 384x640 1 Helmet, 41.2ms\n",
      "video 1/1 (frame 205/570) /Users/dongarisrikashyap/Downloads/Deep Machine Learning Project/After Augmentation/Project Aug n/../test3.mp4: 384x640 1 Helmet, 32.5ms\n",
      "video 1/1 (frame 206/570) /Users/dongarisrikashyap/Downloads/Deep Machine Learning Project/After Augmentation/Project Aug n/../test3.mp4: 384x640 1 Helmet, 33.6ms\n",
      "video 1/1 (frame 207/570) /Users/dongarisrikashyap/Downloads/Deep Machine Learning Project/After Augmentation/Project Aug n/../test3.mp4: 384x640 1 Helmet, 41.1ms\n",
      "video 1/1 (frame 208/570) /Users/dongarisrikashyap/Downloads/Deep Machine Learning Project/After Augmentation/Project Aug n/../test3.mp4: 384x640 1 Helmet, 38.5ms\n",
      "video 1/1 (frame 209/570) /Users/dongarisrikashyap/Downloads/Deep Machine Learning Project/After Augmentation/Project Aug n/../test3.mp4: 384x640 1 Helmet, 34.5ms\n",
      "video 1/1 (frame 210/570) /Users/dongarisrikashyap/Downloads/Deep Machine Learning Project/After Augmentation/Project Aug n/../test3.mp4: 384x640 1 Helmet, 34.1ms\n",
      "video 1/1 (frame 211/570) /Users/dongarisrikashyap/Downloads/Deep Machine Learning Project/After Augmentation/Project Aug n/../test3.mp4: 384x640 1 Helmet, 40.5ms\n",
      "video 1/1 (frame 212/570) /Users/dongarisrikashyap/Downloads/Deep Machine Learning Project/After Augmentation/Project Aug n/../test3.mp4: 384x640 1 Helmet, 38.4ms\n",
      "video 1/1 (frame 213/570) /Users/dongarisrikashyap/Downloads/Deep Machine Learning Project/After Augmentation/Project Aug n/../test3.mp4: 384x640 1 Helmet, 34.5ms\n",
      "video 1/1 (frame 214/570) /Users/dongarisrikashyap/Downloads/Deep Machine Learning Project/After Augmentation/Project Aug n/../test3.mp4: 384x640 1 Helmet, 34.1ms\n",
      "video 1/1 (frame 215/570) /Users/dongarisrikashyap/Downloads/Deep Machine Learning Project/After Augmentation/Project Aug n/../test3.mp4: 384x640 1 Helmet, 40.7ms\n",
      "video 1/1 (frame 216/570) /Users/dongarisrikashyap/Downloads/Deep Machine Learning Project/After Augmentation/Project Aug n/../test3.mp4: 384x640 1 Helmet, 40.3ms\n",
      "video 1/1 (frame 217/570) /Users/dongarisrikashyap/Downloads/Deep Machine Learning Project/After Augmentation/Project Aug n/../test3.mp4: 384x640 1 Helmet, 37.5ms\n",
      "video 1/1 (frame 218/570) /Users/dongarisrikashyap/Downloads/Deep Machine Learning Project/After Augmentation/Project Aug n/../test3.mp4: 384x640 1 Helmet, 32.9ms\n",
      "video 1/1 (frame 219/570) /Users/dongarisrikashyap/Downloads/Deep Machine Learning Project/After Augmentation/Project Aug n/../test3.mp4: 384x640 1 Helmet, 41.1ms\n",
      "video 1/1 (frame 220/570) /Users/dongarisrikashyap/Downloads/Deep Machine Learning Project/After Augmentation/Project Aug n/../test3.mp4: 384x640 1 Helmet, 36.2ms\n",
      "video 1/1 (frame 221/570) /Users/dongarisrikashyap/Downloads/Deep Machine Learning Project/After Augmentation/Project Aug n/../test3.mp4: 384x640 1 Helmet, 35.8ms\n",
      "video 1/1 (frame 222/570) /Users/dongarisrikashyap/Downloads/Deep Machine Learning Project/After Augmentation/Project Aug n/../test3.mp4: 384x640 1 Helmet, 32.7ms\n",
      "video 1/1 (frame 223/570) /Users/dongarisrikashyap/Downloads/Deep Machine Learning Project/After Augmentation/Project Aug n/../test3.mp4: 384x640 1 Helmet, 41.9ms\n",
      "video 1/1 (frame 224/570) /Users/dongarisrikashyap/Downloads/Deep Machine Learning Project/After Augmentation/Project Aug n/../test3.mp4: 384x640 1 Helmet, 40.2ms\n",
      "video 1/1 (frame 225/570) /Users/dongarisrikashyap/Downloads/Deep Machine Learning Project/After Augmentation/Project Aug n/../test3.mp4: 384x640 1 Helmet, 35.9ms\n",
      "video 1/1 (frame 226/570) /Users/dongarisrikashyap/Downloads/Deep Machine Learning Project/After Augmentation/Project Aug n/../test3.mp4: 384x640 1 Helmet, 33.9ms\n",
      "video 1/1 (frame 227/570) /Users/dongarisrikashyap/Downloads/Deep Machine Learning Project/After Augmentation/Project Aug n/../test3.mp4: 384x640 1 Helmet, 40.4ms\n",
      "video 1/1 (frame 228/570) /Users/dongarisrikashyap/Downloads/Deep Machine Learning Project/After Augmentation/Project Aug n/../test3.mp4: 384x640 1 Helmet, 36.4ms\n",
      "video 1/1 (frame 229/570) /Users/dongarisrikashyap/Downloads/Deep Machine Learning Project/After Augmentation/Project Aug n/../test3.mp4: 384x640 1 Helmet, 35.8ms\n",
      "video 1/1 (frame 230/570) /Users/dongarisrikashyap/Downloads/Deep Machine Learning Project/After Augmentation/Project Aug n/../test3.mp4: 384x640 1 Helmet, 34.0ms\n",
      "video 1/1 (frame 231/570) /Users/dongarisrikashyap/Downloads/Deep Machine Learning Project/After Augmentation/Project Aug n/../test3.mp4: 384x640 1 Helmet, 41.3ms\n",
      "video 1/1 (frame 232/570) /Users/dongarisrikashyap/Downloads/Deep Machine Learning Project/After Augmentation/Project Aug n/../test3.mp4: 384x640 1 Helmet, 37.1ms\n",
      "video 1/1 (frame 233/570) /Users/dongarisrikashyap/Downloads/Deep Machine Learning Project/After Augmentation/Project Aug n/../test3.mp4: 384x640 1 Helmet, 34.6ms\n",
      "video 1/1 (frame 234/570) /Users/dongarisrikashyap/Downloads/Deep Machine Learning Project/After Augmentation/Project Aug n/../test3.mp4: 384x640 1 Helmet, 34.8ms\n",
      "video 1/1 (frame 235/570) /Users/dongarisrikashyap/Downloads/Deep Machine Learning Project/After Augmentation/Project Aug n/../test3.mp4: 384x640 1 Helmet, 41.7ms\n",
      "video 1/1 (frame 236/570) /Users/dongarisrikashyap/Downloads/Deep Machine Learning Project/After Augmentation/Project Aug n/../test3.mp4: 384x640 1 Helmet, 42.5ms\n",
      "video 1/1 (frame 237/570) /Users/dongarisrikashyap/Downloads/Deep Machine Learning Project/After Augmentation/Project Aug n/../test3.mp4: 384x640 1 Helmet, 37.4ms\n",
      "video 1/1 (frame 238/570) /Users/dongarisrikashyap/Downloads/Deep Machine Learning Project/After Augmentation/Project Aug n/../test3.mp4: 384x640 1 Helmet, 33.9ms\n",
      "video 1/1 (frame 239/570) /Users/dongarisrikashyap/Downloads/Deep Machine Learning Project/After Augmentation/Project Aug n/../test3.mp4: 384x640 1 Helmet, 43.0ms\n",
      "video 1/1 (frame 240/570) /Users/dongarisrikashyap/Downloads/Deep Machine Learning Project/After Augmentation/Project Aug n/../test3.mp4: 384x640 1 Helmet, 37.9ms\n",
      "video 1/1 (frame 241/570) /Users/dongarisrikashyap/Downloads/Deep Machine Learning Project/After Augmentation/Project Aug n/../test3.mp4: 384x640 1 Helmet, 36.1ms\n",
      "video 1/1 (frame 242/570) /Users/dongarisrikashyap/Downloads/Deep Machine Learning Project/After Augmentation/Project Aug n/../test3.mp4: 384x640 1 Helmet, 32.7ms\n",
      "video 1/1 (frame 243/570) /Users/dongarisrikashyap/Downloads/Deep Machine Learning Project/After Augmentation/Project Aug n/../test3.mp4: 384x640 1 Helmet, 42.4ms\n",
      "video 1/1 (frame 244/570) /Users/dongarisrikashyap/Downloads/Deep Machine Learning Project/After Augmentation/Project Aug n/../test3.mp4: 384x640 1 Helmet, 37.1ms\n",
      "video 1/1 (frame 245/570) /Users/dongarisrikashyap/Downloads/Deep Machine Learning Project/After Augmentation/Project Aug n/../test3.mp4: 384x640 1 Helmet, 33.6ms\n",
      "video 1/1 (frame 246/570) /Users/dongarisrikashyap/Downloads/Deep Machine Learning Project/After Augmentation/Project Aug n/../test3.mp4: 384x640 2 Helmets, 32.9ms\n",
      "video 1/1 (frame 247/570) /Users/dongarisrikashyap/Downloads/Deep Machine Learning Project/After Augmentation/Project Aug n/../test3.mp4: 384x640 2 Helmets, 42.2ms\n",
      "video 1/1 (frame 248/570) /Users/dongarisrikashyap/Downloads/Deep Machine Learning Project/After Augmentation/Project Aug n/../test3.mp4: 384x640 2 Helmets, 39.4ms\n",
      "video 1/1 (frame 249/570) /Users/dongarisrikashyap/Downloads/Deep Machine Learning Project/After Augmentation/Project Aug n/../test3.mp4: 384x640 2 Helmets, 34.6ms\n",
      "video 1/1 (frame 250/570) /Users/dongarisrikashyap/Downloads/Deep Machine Learning Project/After Augmentation/Project Aug n/../test3.mp4: 384x640 2 Helmets, 33.0ms\n",
      "video 1/1 (frame 251/570) /Users/dongarisrikashyap/Downloads/Deep Machine Learning Project/After Augmentation/Project Aug n/../test3.mp4: 384x640 2 Helmets, 52.3ms\n",
      "video 1/1 (frame 252/570) /Users/dongarisrikashyap/Downloads/Deep Machine Learning Project/After Augmentation/Project Aug n/../test3.mp4: 384x640 1 Helmet, 38.1ms\n",
      "video 1/1 (frame 253/570) /Users/dongarisrikashyap/Downloads/Deep Machine Learning Project/After Augmentation/Project Aug n/../test3.mp4: 384x640 1 Helmet, 34.4ms\n",
      "video 1/1 (frame 254/570) /Users/dongarisrikashyap/Downloads/Deep Machine Learning Project/After Augmentation/Project Aug n/../test3.mp4: 384x640 1 Helmet, 33.8ms\n",
      "video 1/1 (frame 255/570) /Users/dongarisrikashyap/Downloads/Deep Machine Learning Project/After Augmentation/Project Aug n/../test3.mp4: 384x640 1 Helmet, 41.3ms\n",
      "video 1/1 (frame 256/570) /Users/dongarisrikashyap/Downloads/Deep Machine Learning Project/After Augmentation/Project Aug n/../test3.mp4: 384x640 1 Helmet, 41.6ms\n",
      "video 1/1 (frame 257/570) /Users/dongarisrikashyap/Downloads/Deep Machine Learning Project/After Augmentation/Project Aug n/../test3.mp4: 384x640 1 Helmet, 34.2ms\n",
      "video 1/1 (frame 258/570) /Users/dongarisrikashyap/Downloads/Deep Machine Learning Project/After Augmentation/Project Aug n/../test3.mp4: 384x640 1 Helmet, 34.5ms\n",
      "video 1/1 (frame 259/570) /Users/dongarisrikashyap/Downloads/Deep Machine Learning Project/After Augmentation/Project Aug n/../test3.mp4: 384x640 1 Helmet, 39.9ms\n",
      "video 1/1 (frame 260/570) /Users/dongarisrikashyap/Downloads/Deep Machine Learning Project/After Augmentation/Project Aug n/../test3.mp4: 384x640 1 Helmet, 41.4ms\n",
      "video 1/1 (frame 261/570) /Users/dongarisrikashyap/Downloads/Deep Machine Learning Project/After Augmentation/Project Aug n/../test3.mp4: 384x640 1 Helmet, 35.0ms\n",
      "video 1/1 (frame 262/570) /Users/dongarisrikashyap/Downloads/Deep Machine Learning Project/After Augmentation/Project Aug n/../test3.mp4: 384x640 1 Helmet, 34.7ms\n",
      "video 1/1 (frame 263/570) /Users/dongarisrikashyap/Downloads/Deep Machine Learning Project/After Augmentation/Project Aug n/../test3.mp4: 384x640 1 Helmet, 39.7ms\n",
      "video 1/1 (frame 264/570) /Users/dongarisrikashyap/Downloads/Deep Machine Learning Project/After Augmentation/Project Aug n/../test3.mp4: 384x640 1 Helmet, 40.9ms\n",
      "video 1/1 (frame 265/570) /Users/dongarisrikashyap/Downloads/Deep Machine Learning Project/After Augmentation/Project Aug n/../test3.mp4: 384x640 1 Helmet, 35.5ms\n",
      "video 1/1 (frame 266/570) /Users/dongarisrikashyap/Downloads/Deep Machine Learning Project/After Augmentation/Project Aug n/../test3.mp4: 384x640 1 Helmet, 32.8ms\n",
      "video 1/1 (frame 267/570) /Users/dongarisrikashyap/Downloads/Deep Machine Learning Project/After Augmentation/Project Aug n/../test3.mp4: 384x640 1 Helmet, 38.7ms\n",
      "video 1/1 (frame 268/570) /Users/dongarisrikashyap/Downloads/Deep Machine Learning Project/After Augmentation/Project Aug n/../test3.mp4: 384x640 1 Helmet, 42.3ms\n",
      "video 1/1 (frame 269/570) /Users/dongarisrikashyap/Downloads/Deep Machine Learning Project/After Augmentation/Project Aug n/../test3.mp4: 384x640 1 Helmet, 33.6ms\n",
      "video 1/1 (frame 270/570) /Users/dongarisrikashyap/Downloads/Deep Machine Learning Project/After Augmentation/Project Aug n/../test3.mp4: 384x640 1 Helmet, 34.8ms\n",
      "video 1/1 (frame 271/570) /Users/dongarisrikashyap/Downloads/Deep Machine Learning Project/After Augmentation/Project Aug n/../test3.mp4: 384x640 1 Helmet, 39.8ms\n",
      "video 1/1 (frame 272/570) /Users/dongarisrikashyap/Downloads/Deep Machine Learning Project/After Augmentation/Project Aug n/../test3.mp4: 384x640 1 Helmet, 40.8ms\n",
      "video 1/1 (frame 273/570) /Users/dongarisrikashyap/Downloads/Deep Machine Learning Project/After Augmentation/Project Aug n/../test3.mp4: 384x640 1 Helmet, 33.9ms\n",
      "video 1/1 (frame 274/570) /Users/dongarisrikashyap/Downloads/Deep Machine Learning Project/After Augmentation/Project Aug n/../test3.mp4: 384x640 1 Helmet, 35.9ms\n",
      "video 1/1 (frame 275/570) /Users/dongarisrikashyap/Downloads/Deep Machine Learning Project/After Augmentation/Project Aug n/../test3.mp4: 384x640 1 Helmet, 39.5ms\n",
      "video 1/1 (frame 276/570) /Users/dongarisrikashyap/Downloads/Deep Machine Learning Project/After Augmentation/Project Aug n/../test3.mp4: 384x640 1 Helmet, 40.5ms\n",
      "video 1/1 (frame 277/570) /Users/dongarisrikashyap/Downloads/Deep Machine Learning Project/After Augmentation/Project Aug n/../test3.mp4: 384x640 1 Helmet, 33.3ms\n",
      "video 1/1 (frame 278/570) /Users/dongarisrikashyap/Downloads/Deep Machine Learning Project/After Augmentation/Project Aug n/../test3.mp4: 384x640 1 Helmet, 35.0ms\n",
      "video 1/1 (frame 279/570) /Users/dongarisrikashyap/Downloads/Deep Machine Learning Project/After Augmentation/Project Aug n/../test3.mp4: 384x640 1 Helmet, 38.7ms\n",
      "video 1/1 (frame 280/570) /Users/dongarisrikashyap/Downloads/Deep Machine Learning Project/After Augmentation/Project Aug n/../test3.mp4: 384x640 1 Helmet, 43.4ms\n",
      "video 1/1 (frame 281/570) /Users/dongarisrikashyap/Downloads/Deep Machine Learning Project/After Augmentation/Project Aug n/../test3.mp4: 384x640 1 Helmet, 33.1ms\n",
      "video 1/1 (frame 282/570) /Users/dongarisrikashyap/Downloads/Deep Machine Learning Project/After Augmentation/Project Aug n/../test3.mp4: 384x640 1 Helmet, 33.9ms\n",
      "video 1/1 (frame 283/570) /Users/dongarisrikashyap/Downloads/Deep Machine Learning Project/After Augmentation/Project Aug n/../test3.mp4: 384x640 1 Helmet, 34.7ms\n",
      "video 1/1 (frame 284/570) /Users/dongarisrikashyap/Downloads/Deep Machine Learning Project/After Augmentation/Project Aug n/../test3.mp4: 384x640 1 Helmet, 36.1ms\n",
      "video 1/1 (frame 285/570) /Users/dongarisrikashyap/Downloads/Deep Machine Learning Project/After Augmentation/Project Aug n/../test3.mp4: 384x640 1 Helmet, 33.6ms\n",
      "video 1/1 (frame 286/570) /Users/dongarisrikashyap/Downloads/Deep Machine Learning Project/After Augmentation/Project Aug n/../test3.mp4: 384x640 1 Helmet, 30.6ms\n",
      "video 1/1 (frame 287/570) /Users/dongarisrikashyap/Downloads/Deep Machine Learning Project/After Augmentation/Project Aug n/../test3.mp4: 384x640 1 Helmet, 38.2ms\n",
      "video 1/1 (frame 288/570) /Users/dongarisrikashyap/Downloads/Deep Machine Learning Project/After Augmentation/Project Aug n/../test3.mp4: 384x640 2 Helmets, 36.1ms\n",
      "video 1/1 (frame 289/570) /Users/dongarisrikashyap/Downloads/Deep Machine Learning Project/After Augmentation/Project Aug n/../test3.mp4: 384x640 2 Helmets, 37.0ms\n",
      "video 1/1 (frame 290/570) /Users/dongarisrikashyap/Downloads/Deep Machine Learning Project/After Augmentation/Project Aug n/../test3.mp4: 384x640 1 Helmet, 1 Cigarettes, 30.9ms\n",
      "video 1/1 (frame 291/570) /Users/dongarisrikashyap/Downloads/Deep Machine Learning Project/After Augmentation/Project Aug n/../test3.mp4: 384x640 1 Helmet, 1 Cigarettes, 37.4ms\n",
      "video 1/1 (frame 292/570) /Users/dongarisrikashyap/Downloads/Deep Machine Learning Project/After Augmentation/Project Aug n/../test3.mp4: 384x640 1 Helmet, 35.6ms\n",
      "video 1/1 (frame 293/570) /Users/dongarisrikashyap/Downloads/Deep Machine Learning Project/After Augmentation/Project Aug n/../test3.mp4: 384x640 1 Helmet, 39.8ms\n",
      "video 1/1 (frame 294/570) /Users/dongarisrikashyap/Downloads/Deep Machine Learning Project/After Augmentation/Project Aug n/../test3.mp4: 384x640 1 Helmet, 35.5ms\n",
      "video 1/1 (frame 295/570) /Users/dongarisrikashyap/Downloads/Deep Machine Learning Project/After Augmentation/Project Aug n/../test3.mp4: 384x640 1 Helmet, 32.6ms\n",
      "video 1/1 (frame 296/570) /Users/dongarisrikashyap/Downloads/Deep Machine Learning Project/After Augmentation/Project Aug n/../test3.mp4: 384x640 1 Helmet, 2 Cigarettess, 31.3ms\n",
      "video 1/1 (frame 297/570) /Users/dongarisrikashyap/Downloads/Deep Machine Learning Project/After Augmentation/Project Aug n/../test3.mp4: 384x640 1 Helmet, 1 Cigarettes, 38.2ms\n",
      "video 1/1 (frame 298/570) /Users/dongarisrikashyap/Downloads/Deep Machine Learning Project/After Augmentation/Project Aug n/../test3.mp4: 384x640 1 Helmet, 1 Cigarettes, 41.1ms\n",
      "video 1/1 (frame 299/570) /Users/dongarisrikashyap/Downloads/Deep Machine Learning Project/After Augmentation/Project Aug n/../test3.mp4: 384x640 1 Helmet, 1 Cigarettes, 36.3ms\n",
      "video 1/1 (frame 300/570) /Users/dongarisrikashyap/Downloads/Deep Machine Learning Project/After Augmentation/Project Aug n/../test3.mp4: 384x640 2 Helmets, 1 Cigarettes, 36.2ms\n",
      "video 1/1 (frame 301/570) /Users/dongarisrikashyap/Downloads/Deep Machine Learning Project/After Augmentation/Project Aug n/../test3.mp4: 384x640 2 Helmets, 1 Cigarettes, 36.0ms\n",
      "video 1/1 (frame 302/570) /Users/dongarisrikashyap/Downloads/Deep Machine Learning Project/After Augmentation/Project Aug n/../test3.mp4: 384x640 2 Helmets, 39.5ms\n",
      "video 1/1 (frame 303/570) /Users/dongarisrikashyap/Downloads/Deep Machine Learning Project/After Augmentation/Project Aug n/../test3.mp4: 384x640 2 Helmets, 41.1ms\n",
      "video 1/1 (frame 304/570) /Users/dongarisrikashyap/Downloads/Deep Machine Learning Project/After Augmentation/Project Aug n/../test3.mp4: 384x640 1 Helmet, 34.6ms\n",
      "video 1/1 (frame 305/570) /Users/dongarisrikashyap/Downloads/Deep Machine Learning Project/After Augmentation/Project Aug n/../test3.mp4: 384x640 1 Helmet, 40.9ms\n",
      "video 1/1 (frame 306/570) /Users/dongarisrikashyap/Downloads/Deep Machine Learning Project/After Augmentation/Project Aug n/../test3.mp4: 384x640 1 Helmet, 40.4ms\n",
      "video 1/1 (frame 307/570) /Users/dongarisrikashyap/Downloads/Deep Machine Learning Project/After Augmentation/Project Aug n/../test3.mp4: 384x640 1 Helmet, 34.5ms\n",
      "video 1/1 (frame 308/570) /Users/dongarisrikashyap/Downloads/Deep Machine Learning Project/After Augmentation/Project Aug n/../test3.mp4: 384x640 1 Helmet, 36.2ms\n",
      "video 1/1 (frame 309/570) /Users/dongarisrikashyap/Downloads/Deep Machine Learning Project/After Augmentation/Project Aug n/../test3.mp4: 384x640 1 Helmet, 41.9ms\n",
      "video 1/1 (frame 310/570) /Users/dongarisrikashyap/Downloads/Deep Machine Learning Project/After Augmentation/Project Aug n/../test3.mp4: 384x640 1 Helmet, 38.1ms\n",
      "video 1/1 (frame 311/570) /Users/dongarisrikashyap/Downloads/Deep Machine Learning Project/After Augmentation/Project Aug n/../test3.mp4: 384x640 1 Helmet, 33.2ms\n",
      "video 1/1 (frame 312/570) /Users/dongarisrikashyap/Downloads/Deep Machine Learning Project/After Augmentation/Project Aug n/../test3.mp4: 384x640 1 Helmet, 33.7ms\n",
      "video 1/1 (frame 313/570) /Users/dongarisrikashyap/Downloads/Deep Machine Learning Project/After Augmentation/Project Aug n/../test3.mp4: 384x640 1 Helmet, 40.4ms\n",
      "video 1/1 (frame 314/570) /Users/dongarisrikashyap/Downloads/Deep Machine Learning Project/After Augmentation/Project Aug n/../test3.mp4: 384x640 1 Helmet, 41.4ms\n",
      "video 1/1 (frame 315/570) /Users/dongarisrikashyap/Downloads/Deep Machine Learning Project/After Augmentation/Project Aug n/../test3.mp4: 384x640 1 Helmet, 40.4ms\n",
      "video 1/1 (frame 316/570) /Users/dongarisrikashyap/Downloads/Deep Machine Learning Project/After Augmentation/Project Aug n/../test3.mp4: 384x640 1 Helmet, 38.1ms\n",
      "video 1/1 (frame 317/570) /Users/dongarisrikashyap/Downloads/Deep Machine Learning Project/After Augmentation/Project Aug n/../test3.mp4: 384x640 1 Helmet, 40.9ms\n",
      "video 1/1 (frame 318/570) /Users/dongarisrikashyap/Downloads/Deep Machine Learning Project/After Augmentation/Project Aug n/../test3.mp4: 384x640 1 Helmet, 41.0ms\n",
      "video 1/1 (frame 319/570) /Users/dongarisrikashyap/Downloads/Deep Machine Learning Project/After Augmentation/Project Aug n/../test3.mp4: 384x640 1 Helmet, 37.6ms\n",
      "video 1/1 (frame 320/570) /Users/dongarisrikashyap/Downloads/Deep Machine Learning Project/After Augmentation/Project Aug n/../test3.mp4: 384x640 1 Helmet, 34.3ms\n",
      "video 1/1 (frame 321/570) /Users/dongarisrikashyap/Downloads/Deep Machine Learning Project/After Augmentation/Project Aug n/../test3.mp4: 384x640 1 Helmet, 39.5ms\n",
      "video 1/1 (frame 322/570) /Users/dongarisrikashyap/Downloads/Deep Machine Learning Project/After Augmentation/Project Aug n/../test3.mp4: 384x640 1 Helmet, 42.6ms\n",
      "video 1/1 (frame 323/570) /Users/dongarisrikashyap/Downloads/Deep Machine Learning Project/After Augmentation/Project Aug n/../test3.mp4: 384x640 1 Helmet, 35.2ms\n",
      "video 1/1 (frame 324/570) /Users/dongarisrikashyap/Downloads/Deep Machine Learning Project/After Augmentation/Project Aug n/../test3.mp4: 384x640 1 Helmet, 33.2ms\n",
      "video 1/1 (frame 325/570) /Users/dongarisrikashyap/Downloads/Deep Machine Learning Project/After Augmentation/Project Aug n/../test3.mp4: 384x640 1 Helmet, 41.1ms\n",
      "video 1/1 (frame 326/570) /Users/dongarisrikashyap/Downloads/Deep Machine Learning Project/After Augmentation/Project Aug n/../test3.mp4: 384x640 1 Helmet, 36.6ms\n",
      "video 1/1 (frame 327/570) /Users/dongarisrikashyap/Downloads/Deep Machine Learning Project/After Augmentation/Project Aug n/../test3.mp4: 384x640 1 Helmet, 34.9ms\n",
      "video 1/1 (frame 328/570) /Users/dongarisrikashyap/Downloads/Deep Machine Learning Project/After Augmentation/Project Aug n/../test3.mp4: 384x640 1 Helmet, 33.2ms\n",
      "video 1/1 (frame 329/570) /Users/dongarisrikashyap/Downloads/Deep Machine Learning Project/After Augmentation/Project Aug n/../test3.mp4: 384x640 1 Helmet, 40.6ms\n",
      "video 1/1 (frame 330/570) /Users/dongarisrikashyap/Downloads/Deep Machine Learning Project/After Augmentation/Project Aug n/../test3.mp4: 384x640 1 Helmet, 39.9ms\n",
      "video 1/1 (frame 331/570) /Users/dongarisrikashyap/Downloads/Deep Machine Learning Project/After Augmentation/Project Aug n/../test3.mp4: 384x640 1 Helmet, 33.6ms\n",
      "video 1/1 (frame 332/570) /Users/dongarisrikashyap/Downloads/Deep Machine Learning Project/After Augmentation/Project Aug n/../test3.mp4: 384x640 2 Helmets, 33.0ms\n",
      "video 1/1 (frame 333/570) /Users/dongarisrikashyap/Downloads/Deep Machine Learning Project/After Augmentation/Project Aug n/../test3.mp4: 384x640 2 Helmets, 40.4ms\n",
      "video 1/1 (frame 334/570) /Users/dongarisrikashyap/Downloads/Deep Machine Learning Project/After Augmentation/Project Aug n/../test3.mp4: 384x640 1 Helmet, 42.2ms\n",
      "video 1/1 (frame 335/570) /Users/dongarisrikashyap/Downloads/Deep Machine Learning Project/After Augmentation/Project Aug n/../test3.mp4: 384x640 1 Helmet, 34.1ms\n",
      "video 1/1 (frame 336/570) /Users/dongarisrikashyap/Downloads/Deep Machine Learning Project/After Augmentation/Project Aug n/../test3.mp4: 384x640 1 Helmet, 35.5ms\n",
      "video 1/1 (frame 337/570) /Users/dongarisrikashyap/Downloads/Deep Machine Learning Project/After Augmentation/Project Aug n/../test3.mp4: 384x640 1 Helmet, 39.1ms\n",
      "video 1/1 (frame 338/570) /Users/dongarisrikashyap/Downloads/Deep Machine Learning Project/After Augmentation/Project Aug n/../test3.mp4: 384x640 1 Helmet, 41.8ms\n",
      "video 1/1 (frame 339/570) /Users/dongarisrikashyap/Downloads/Deep Machine Learning Project/After Augmentation/Project Aug n/../test3.mp4: 384x640 1 Helmet, 34.1ms\n",
      "video 1/1 (frame 340/570) /Users/dongarisrikashyap/Downloads/Deep Machine Learning Project/After Augmentation/Project Aug n/../test3.mp4: 384x640 1 Helmet, 40.5ms\n",
      "video 1/1 (frame 341/570) /Users/dongarisrikashyap/Downloads/Deep Machine Learning Project/After Augmentation/Project Aug n/../test3.mp4: 384x640 1 Helmet, 46.5ms\n",
      "video 1/1 (frame 342/570) /Users/dongarisrikashyap/Downloads/Deep Machine Learning Project/After Augmentation/Project Aug n/../test3.mp4: 384x640 1 Helmet, 54.4ms\n",
      "video 1/1 (frame 343/570) /Users/dongarisrikashyap/Downloads/Deep Machine Learning Project/After Augmentation/Project Aug n/../test3.mp4: 384x640 1 Helmet, 33.2ms\n",
      "video 1/1 (frame 344/570) /Users/dongarisrikashyap/Downloads/Deep Machine Learning Project/After Augmentation/Project Aug n/../test3.mp4: 384x640 1 Helmet, 36.6ms\n",
      "video 1/1 (frame 345/570) /Users/dongarisrikashyap/Downloads/Deep Machine Learning Project/After Augmentation/Project Aug n/../test3.mp4: 384x640 1 Helmet, 40.2ms\n",
      "video 1/1 (frame 346/570) /Users/dongarisrikashyap/Downloads/Deep Machine Learning Project/After Augmentation/Project Aug n/../test3.mp4: 384x640 1 Helmet, 41.6ms\n",
      "video 1/1 (frame 347/570) /Users/dongarisrikashyap/Downloads/Deep Machine Learning Project/After Augmentation/Project Aug n/../test3.mp4: 384x640 1 Helmet, 35.0ms\n",
      "video 1/1 (frame 348/570) /Users/dongarisrikashyap/Downloads/Deep Machine Learning Project/After Augmentation/Project Aug n/../test3.mp4: 384x640 1 Helmet, 36.4ms\n",
      "video 1/1 (frame 349/570) /Users/dongarisrikashyap/Downloads/Deep Machine Learning Project/After Augmentation/Project Aug n/../test3.mp4: 384x640 1 Helmet, 39.1ms\n",
      "video 1/1 (frame 350/570) /Users/dongarisrikashyap/Downloads/Deep Machine Learning Project/After Augmentation/Project Aug n/../test3.mp4: 384x640 1 Helmet, 41.8ms\n",
      "video 1/1 (frame 351/570) /Users/dongarisrikashyap/Downloads/Deep Machine Learning Project/After Augmentation/Project Aug n/../test3.mp4: 384x640 1 Helmet, 33.7ms\n",
      "video 1/1 (frame 352/570) /Users/dongarisrikashyap/Downloads/Deep Machine Learning Project/After Augmentation/Project Aug n/../test3.mp4: 384x640 1 Helmet, 45.6ms\n",
      "video 1/1 (frame 353/570) /Users/dongarisrikashyap/Downloads/Deep Machine Learning Project/After Augmentation/Project Aug n/../test3.mp4: 384x640 1 Helmet, 40.8ms\n",
      "video 1/1 (frame 354/570) /Users/dongarisrikashyap/Downloads/Deep Machine Learning Project/After Augmentation/Project Aug n/../test3.mp4: 384x640 1 Helmet, 42.0ms\n",
      "video 1/1 (frame 355/570) /Users/dongarisrikashyap/Downloads/Deep Machine Learning Project/After Augmentation/Project Aug n/../test3.mp4: 384x640 1 Helmet, 36.5ms\n",
      "video 1/1 (frame 356/570) /Users/dongarisrikashyap/Downloads/Deep Machine Learning Project/After Augmentation/Project Aug n/../test3.mp4: 384x640 1 Helmet, 34.7ms\n",
      "video 1/1 (frame 357/570) /Users/dongarisrikashyap/Downloads/Deep Machine Learning Project/After Augmentation/Project Aug n/../test3.mp4: 384x640 1 Helmet, 42.0ms\n",
      "video 1/1 (frame 358/570) /Users/dongarisrikashyap/Downloads/Deep Machine Learning Project/After Augmentation/Project Aug n/../test3.mp4: 384x640 1 Helmet, 41.2ms\n",
      "video 1/1 (frame 359/570) /Users/dongarisrikashyap/Downloads/Deep Machine Learning Project/After Augmentation/Project Aug n/../test3.mp4: 384x640 1 Helmet, 36.7ms\n",
      "video 1/1 (frame 360/570) /Users/dongarisrikashyap/Downloads/Deep Machine Learning Project/After Augmentation/Project Aug n/../test3.mp4: 384x640 1 Helmet, 34.6ms\n",
      "video 1/1 (frame 361/570) /Users/dongarisrikashyap/Downloads/Deep Machine Learning Project/After Augmentation/Project Aug n/../test3.mp4: 384x640 1 Helmet, 41.4ms\n",
      "video 1/1 (frame 362/570) /Users/dongarisrikashyap/Downloads/Deep Machine Learning Project/After Augmentation/Project Aug n/../test3.mp4: 384x640 1 Helmet, 40.2ms\n",
      "video 1/1 (frame 363/570) /Users/dongarisrikashyap/Downloads/Deep Machine Learning Project/After Augmentation/Project Aug n/../test3.mp4: 384x640 1 Helmet, 33.1ms\n",
      "video 1/1 (frame 364/570) /Users/dongarisrikashyap/Downloads/Deep Machine Learning Project/After Augmentation/Project Aug n/../test3.mp4: 384x640 1 Helmet, 33.6ms\n",
      "video 1/1 (frame 365/570) /Users/dongarisrikashyap/Downloads/Deep Machine Learning Project/After Augmentation/Project Aug n/../test3.mp4: 384x640 1 Helmet, 39.9ms\n",
      "video 1/1 (frame 366/570) /Users/dongarisrikashyap/Downloads/Deep Machine Learning Project/After Augmentation/Project Aug n/../test3.mp4: 384x640 1 Helmet, 41.6ms\n",
      "video 1/1 (frame 367/570) /Users/dongarisrikashyap/Downloads/Deep Machine Learning Project/After Augmentation/Project Aug n/../test3.mp4: 384x640 1 Helmet, 33.8ms\n",
      "video 1/1 (frame 368/570) /Users/dongarisrikashyap/Downloads/Deep Machine Learning Project/After Augmentation/Project Aug n/../test3.mp4: 384x640 1 Helmet, 34.3ms\n",
      "video 1/1 (frame 369/570) /Users/dongarisrikashyap/Downloads/Deep Machine Learning Project/After Augmentation/Project Aug n/../test3.mp4: 384x640 1 Helmet, 39.9ms\n",
      "video 1/1 (frame 370/570) /Users/dongarisrikashyap/Downloads/Deep Machine Learning Project/After Augmentation/Project Aug n/../test3.mp4: 384x640 1 Helmet, 40.6ms\n",
      "video 1/1 (frame 371/570) /Users/dongarisrikashyap/Downloads/Deep Machine Learning Project/After Augmentation/Project Aug n/../test3.mp4: 384x640 1 Helmet, 34.3ms\n",
      "video 1/1 (frame 372/570) /Users/dongarisrikashyap/Downloads/Deep Machine Learning Project/After Augmentation/Project Aug n/../test3.mp4: 384x640 1 Helmet, 32.5ms\n",
      "video 1/1 (frame 373/570) /Users/dongarisrikashyap/Downloads/Deep Machine Learning Project/After Augmentation/Project Aug n/../test3.mp4: 384x640 1 Helmet, 41.0ms\n",
      "video 1/1 (frame 374/570) /Users/dongarisrikashyap/Downloads/Deep Machine Learning Project/After Augmentation/Project Aug n/../test3.mp4: 384x640 1 Helmet, 38.7ms\n",
      "video 1/1 (frame 375/570) /Users/dongarisrikashyap/Downloads/Deep Machine Learning Project/After Augmentation/Project Aug n/../test3.mp4: 384x640 1 Helmet, 34.7ms\n",
      "video 1/1 (frame 376/570) /Users/dongarisrikashyap/Downloads/Deep Machine Learning Project/After Augmentation/Project Aug n/../test3.mp4: 384x640 1 Helmet, 33.4ms\n",
      "video 1/1 (frame 377/570) /Users/dongarisrikashyap/Downloads/Deep Machine Learning Project/After Augmentation/Project Aug n/../test3.mp4: 384x640 1 Helmet, 41.0ms\n",
      "video 1/1 (frame 378/570) /Users/dongarisrikashyap/Downloads/Deep Machine Learning Project/After Augmentation/Project Aug n/../test3.mp4: 384x640 1 Helmet, 41.6ms\n",
      "video 1/1 (frame 379/570) /Users/dongarisrikashyap/Downloads/Deep Machine Learning Project/After Augmentation/Project Aug n/../test3.mp4: 384x640 1 Helmet, 35.3ms\n",
      "video 1/1 (frame 380/570) /Users/dongarisrikashyap/Downloads/Deep Machine Learning Project/After Augmentation/Project Aug n/../test3.mp4: 384x640 1 Helmet, 35.0ms\n",
      "video 1/1 (frame 381/570) /Users/dongarisrikashyap/Downloads/Deep Machine Learning Project/After Augmentation/Project Aug n/../test3.mp4: 384x640 1 Helmet, 37.7ms\n",
      "video 1/1 (frame 382/570) /Users/dongarisrikashyap/Downloads/Deep Machine Learning Project/After Augmentation/Project Aug n/../test3.mp4: 384x640 1 Helmet, 40.5ms\n",
      "video 1/1 (frame 383/570) /Users/dongarisrikashyap/Downloads/Deep Machine Learning Project/After Augmentation/Project Aug n/../test3.mp4: 384x640 1 Helmet, 33.8ms\n",
      "video 1/1 (frame 384/570) /Users/dongarisrikashyap/Downloads/Deep Machine Learning Project/After Augmentation/Project Aug n/../test3.mp4: 384x640 1 Helmet, 36.4ms\n",
      "video 1/1 (frame 385/570) /Users/dongarisrikashyap/Downloads/Deep Machine Learning Project/After Augmentation/Project Aug n/../test3.mp4: 384x640 1 Helmet, 38.5ms\n",
      "video 1/1 (frame 386/570) /Users/dongarisrikashyap/Downloads/Deep Machine Learning Project/After Augmentation/Project Aug n/../test3.mp4: 384x640 1 Helmet, 42.0ms\n",
      "video 1/1 (frame 387/570) /Users/dongarisrikashyap/Downloads/Deep Machine Learning Project/After Augmentation/Project Aug n/../test3.mp4: 384x640 1 Helmet, 34.0ms\n",
      "video 1/1 (frame 388/570) /Users/dongarisrikashyap/Downloads/Deep Machine Learning Project/After Augmentation/Project Aug n/../test3.mp4: 384x640 1 Helmet, 33.0ms\n",
      "video 1/1 (frame 389/570) /Users/dongarisrikashyap/Downloads/Deep Machine Learning Project/After Augmentation/Project Aug n/../test3.mp4: 384x640 1 Helmet, 31.2ms\n",
      "video 1/1 (frame 390/570) /Users/dongarisrikashyap/Downloads/Deep Machine Learning Project/After Augmentation/Project Aug n/../test3.mp4: 384x640 1 Helmet, 33.8ms\n",
      "video 1/1 (frame 391/570) /Users/dongarisrikashyap/Downloads/Deep Machine Learning Project/After Augmentation/Project Aug n/../test3.mp4: 384x640 1 Helmet, 33.5ms\n",
      "video 1/1 (frame 392/570) /Users/dongarisrikashyap/Downloads/Deep Machine Learning Project/After Augmentation/Project Aug n/../test3.mp4: 384x640 1 Helmet, 32.7ms\n",
      "video 1/1 (frame 393/570) /Users/dongarisrikashyap/Downloads/Deep Machine Learning Project/After Augmentation/Project Aug n/../test3.mp4: 384x640 1 Helmet, 35.1ms\n",
      "video 1/1 (frame 394/570) /Users/dongarisrikashyap/Downloads/Deep Machine Learning Project/After Augmentation/Project Aug n/../test3.mp4: 384x640 1 Helmet, 34.0ms\n",
      "video 1/1 (frame 395/570) /Users/dongarisrikashyap/Downloads/Deep Machine Learning Project/After Augmentation/Project Aug n/../test3.mp4: 384x640 1 Helmet, 34.0ms\n",
      "video 1/1 (frame 396/570) /Users/dongarisrikashyap/Downloads/Deep Machine Learning Project/After Augmentation/Project Aug n/../test3.mp4: 384x640 1 Helmet, 33.9ms\n",
      "video 1/1 (frame 397/570) /Users/dongarisrikashyap/Downloads/Deep Machine Learning Project/After Augmentation/Project Aug n/../test3.mp4: 384x640 1 Helmet, 37.8ms\n",
      "video 1/1 (frame 398/570) /Users/dongarisrikashyap/Downloads/Deep Machine Learning Project/After Augmentation/Project Aug n/../test3.mp4: 384x640 1 Helmet, 42.8ms\n",
      "video 1/1 (frame 399/570) /Users/dongarisrikashyap/Downloads/Deep Machine Learning Project/After Augmentation/Project Aug n/../test3.mp4: 384x640 1 Helmet, 32.9ms\n",
      "video 1/1 (frame 400/570) /Users/dongarisrikashyap/Downloads/Deep Machine Learning Project/After Augmentation/Project Aug n/../test3.mp4: 384x640 1 Helmet, 32.7ms\n",
      "video 1/1 (frame 401/570) /Users/dongarisrikashyap/Downloads/Deep Machine Learning Project/After Augmentation/Project Aug n/../test3.mp4: 384x640 1 Helmet, 41.5ms\n",
      "video 1/1 (frame 402/570) /Users/dongarisrikashyap/Downloads/Deep Machine Learning Project/After Augmentation/Project Aug n/../test3.mp4: 384x640 1 Helmet, 37.5ms\n",
      "video 1/1 (frame 403/570) /Users/dongarisrikashyap/Downloads/Deep Machine Learning Project/After Augmentation/Project Aug n/../test3.mp4: 384x640 1 Helmet, 35.5ms\n",
      "video 1/1 (frame 404/570) /Users/dongarisrikashyap/Downloads/Deep Machine Learning Project/After Augmentation/Project Aug n/../test3.mp4: 384x640 1 Helmet, 33.0ms\n",
      "video 1/1 (frame 405/570) /Users/dongarisrikashyap/Downloads/Deep Machine Learning Project/After Augmentation/Project Aug n/../test3.mp4: 384x640 1 Helmet, 40.1ms\n",
      "video 1/1 (frame 406/570) /Users/dongarisrikashyap/Downloads/Deep Machine Learning Project/After Augmentation/Project Aug n/../test3.mp4: 384x640 1 Helmet, 39.5ms\n",
      "video 1/1 (frame 407/570) /Users/dongarisrikashyap/Downloads/Deep Machine Learning Project/After Augmentation/Project Aug n/../test3.mp4: 384x640 1 Helmet, 33.8ms\n",
      "video 1/1 (frame 408/570) /Users/dongarisrikashyap/Downloads/Deep Machine Learning Project/After Augmentation/Project Aug n/../test3.mp4: 384x640 1 Helmet, 35.2ms\n",
      "video 1/1 (frame 409/570) /Users/dongarisrikashyap/Downloads/Deep Machine Learning Project/After Augmentation/Project Aug n/../test3.mp4: 384x640 1 Helmet, 38.9ms\n",
      "video 1/1 (frame 410/570) /Users/dongarisrikashyap/Downloads/Deep Machine Learning Project/After Augmentation/Project Aug n/../test3.mp4: 384x640 1 Helmet, 41.7ms\n",
      "video 1/1 (frame 411/570) /Users/dongarisrikashyap/Downloads/Deep Machine Learning Project/After Augmentation/Project Aug n/../test3.mp4: 384x640 1 Helmet, 34.1ms\n",
      "video 1/1 (frame 412/570) /Users/dongarisrikashyap/Downloads/Deep Machine Learning Project/After Augmentation/Project Aug n/../test3.mp4: 384x640 1 Helmet, 35.5ms\n",
      "video 1/1 (frame 413/570) /Users/dongarisrikashyap/Downloads/Deep Machine Learning Project/After Augmentation/Project Aug n/../test3.mp4: 384x640 1 Helmet, 36.3ms\n",
      "video 1/1 (frame 414/570) /Users/dongarisrikashyap/Downloads/Deep Machine Learning Project/After Augmentation/Project Aug n/../test3.mp4: 384x640 1 Helmet, 33.7ms\n",
      "video 1/1 (frame 415/570) /Users/dongarisrikashyap/Downloads/Deep Machine Learning Project/After Augmentation/Project Aug n/../test3.mp4: 384x640 1 Helmet, 37.9ms\n",
      "video 1/1 (frame 416/570) /Users/dongarisrikashyap/Downloads/Deep Machine Learning Project/After Augmentation/Project Aug n/../test3.mp4: 384x640 1 Helmet, 33.4ms\n",
      "video 1/1 (frame 417/570) /Users/dongarisrikashyap/Downloads/Deep Machine Learning Project/After Augmentation/Project Aug n/../test3.mp4: 384x640 1 Helmet, 40.0ms\n",
      "video 1/1 (frame 418/570) /Users/dongarisrikashyap/Downloads/Deep Machine Learning Project/After Augmentation/Project Aug n/../test3.mp4: 384x640 1 Helmet, 41.7ms\n",
      "video 1/1 (frame 419/570) /Users/dongarisrikashyap/Downloads/Deep Machine Learning Project/After Augmentation/Project Aug n/../test3.mp4: 384x640 1 Helmet, 35.0ms\n",
      "video 1/1 (frame 420/570) /Users/dongarisrikashyap/Downloads/Deep Machine Learning Project/After Augmentation/Project Aug n/../test3.mp4: 384x640 1 Helmet, 34.4ms\n",
      "video 1/1 (frame 421/570) /Users/dongarisrikashyap/Downloads/Deep Machine Learning Project/After Augmentation/Project Aug n/../test3.mp4: 384x640 1 Helmet, 38.3ms\n",
      "video 1/1 (frame 422/570) /Users/dongarisrikashyap/Downloads/Deep Machine Learning Project/After Augmentation/Project Aug n/../test3.mp4: 384x640 1 Helmet, 37.1ms\n",
      "video 1/1 (frame 423/570) /Users/dongarisrikashyap/Downloads/Deep Machine Learning Project/After Augmentation/Project Aug n/../test3.mp4: 384x640 1 Helmet, 34.5ms\n",
      "video 1/1 (frame 424/570) /Users/dongarisrikashyap/Downloads/Deep Machine Learning Project/After Augmentation/Project Aug n/../test3.mp4: 384x640 1 Helmet, 33.7ms\n",
      "video 1/1 (frame 425/570) /Users/dongarisrikashyap/Downloads/Deep Machine Learning Project/After Augmentation/Project Aug n/../test3.mp4: 384x640 1 Helmet, 40.7ms\n",
      "video 1/1 (frame 426/570) /Users/dongarisrikashyap/Downloads/Deep Machine Learning Project/After Augmentation/Project Aug n/../test3.mp4: 384x640 1 Helmet, 37.3ms\n",
      "video 1/1 (frame 427/570) /Users/dongarisrikashyap/Downloads/Deep Machine Learning Project/After Augmentation/Project Aug n/../test3.mp4: 384x640 1 Helmet, 32.8ms\n",
      "video 1/1 (frame 428/570) /Users/dongarisrikashyap/Downloads/Deep Machine Learning Project/After Augmentation/Project Aug n/../test3.mp4: 384x640 1 Helmet, 33.4ms\n",
      "video 1/1 (frame 429/570) /Users/dongarisrikashyap/Downloads/Deep Machine Learning Project/After Augmentation/Project Aug n/../test3.mp4: 384x640 1 Helmet, 42.3ms\n",
      "video 1/1 (frame 430/570) /Users/dongarisrikashyap/Downloads/Deep Machine Learning Project/After Augmentation/Project Aug n/../test3.mp4: 384x640 1 Helmet, 38.2ms\n",
      "video 1/1 (frame 431/570) /Users/dongarisrikashyap/Downloads/Deep Machine Learning Project/After Augmentation/Project Aug n/../test3.mp4: 384x640 1 Helmet, 35.2ms\n",
      "video 1/1 (frame 432/570) /Users/dongarisrikashyap/Downloads/Deep Machine Learning Project/After Augmentation/Project Aug n/../test3.mp4: 384x640 1 Helmet, 32.9ms\n",
      "video 1/1 (frame 433/570) /Users/dongarisrikashyap/Downloads/Deep Machine Learning Project/After Augmentation/Project Aug n/../test3.mp4: 384x640 1 Helmet, 37.6ms\n",
      "video 1/1 (frame 434/570) /Users/dongarisrikashyap/Downloads/Deep Machine Learning Project/After Augmentation/Project Aug n/../test3.mp4: 384x640 1 Helmet, 36.7ms\n",
      "video 1/1 (frame 435/570) /Users/dongarisrikashyap/Downloads/Deep Machine Learning Project/After Augmentation/Project Aug n/../test3.mp4: 384x640 1 Helmet, 32.7ms\n",
      "video 1/1 (frame 436/570) /Users/dongarisrikashyap/Downloads/Deep Machine Learning Project/After Augmentation/Project Aug n/../test3.mp4: 384x640 1 Helmet, 34.8ms\n",
      "video 1/1 (frame 437/570) /Users/dongarisrikashyap/Downloads/Deep Machine Learning Project/After Augmentation/Project Aug n/../test3.mp4: 384x640 1 Helmet, 38.2ms\n",
      "video 1/1 (frame 438/570) /Users/dongarisrikashyap/Downloads/Deep Machine Learning Project/After Augmentation/Project Aug n/../test3.mp4: 384x640 1 Helmet, 35.6ms\n",
      "video 1/1 (frame 439/570) /Users/dongarisrikashyap/Downloads/Deep Machine Learning Project/After Augmentation/Project Aug n/../test3.mp4: 384x640 1 Helmet, 33.7ms\n",
      "video 1/1 (frame 440/570) /Users/dongarisrikashyap/Downloads/Deep Machine Learning Project/After Augmentation/Project Aug n/../test3.mp4: 384x640 1 Helmet, 33.2ms\n",
      "video 1/1 (frame 441/570) /Users/dongarisrikashyap/Downloads/Deep Machine Learning Project/After Augmentation/Project Aug n/../test3.mp4: 384x640 1 Helmet, 39.1ms\n",
      "video 1/1 (frame 442/570) /Users/dongarisrikashyap/Downloads/Deep Machine Learning Project/After Augmentation/Project Aug n/../test3.mp4: 384x640 1 Helmet, 38.9ms\n",
      "video 1/1 (frame 443/570) /Users/dongarisrikashyap/Downloads/Deep Machine Learning Project/After Augmentation/Project Aug n/../test3.mp4: 384x640 1 Helmet, 32.9ms\n",
      "video 1/1 (frame 444/570) /Users/dongarisrikashyap/Downloads/Deep Machine Learning Project/After Augmentation/Project Aug n/../test3.mp4: 384x640 1 Helmet, 34.0ms\n",
      "video 1/1 (frame 445/570) /Users/dongarisrikashyap/Downloads/Deep Machine Learning Project/After Augmentation/Project Aug n/../test3.mp4: 384x640 1 Helmet, 38.4ms\n",
      "video 1/1 (frame 446/570) /Users/dongarisrikashyap/Downloads/Deep Machine Learning Project/After Augmentation/Project Aug n/../test3.mp4: 384x640 1 Helmet, 39.2ms\n",
      "video 1/1 (frame 447/570) /Users/dongarisrikashyap/Downloads/Deep Machine Learning Project/After Augmentation/Project Aug n/../test3.mp4: 384x640 1 Helmet, 33.8ms\n",
      "video 1/1 (frame 448/570) /Users/dongarisrikashyap/Downloads/Deep Machine Learning Project/After Augmentation/Project Aug n/../test3.mp4: 384x640 1 Helmet, 32.5ms\n",
      "video 1/1 (frame 449/570) /Users/dongarisrikashyap/Downloads/Deep Machine Learning Project/After Augmentation/Project Aug n/../test3.mp4: 384x640 1 Helmet, 39.5ms\n",
      "video 1/1 (frame 450/570) /Users/dongarisrikashyap/Downloads/Deep Machine Learning Project/After Augmentation/Project Aug n/../test3.mp4: 384x640 1 Helmet, 35.6ms\n",
      "video 1/1 (frame 451/570) /Users/dongarisrikashyap/Downloads/Deep Machine Learning Project/After Augmentation/Project Aug n/../test3.mp4: 384x640 1 Helmet, 34.8ms\n",
      "video 1/1 (frame 452/570) /Users/dongarisrikashyap/Downloads/Deep Machine Learning Project/After Augmentation/Project Aug n/../test3.mp4: 384x640 1 Helmet, 32.2ms\n",
      "video 1/1 (frame 453/570) /Users/dongarisrikashyap/Downloads/Deep Machine Learning Project/After Augmentation/Project Aug n/../test3.mp4: 384x640 1 Helmet, 38.5ms\n",
      "video 1/1 (frame 454/570) /Users/dongarisrikashyap/Downloads/Deep Machine Learning Project/After Augmentation/Project Aug n/../test3.mp4: 384x640 1 Helmet, 40.4ms\n",
      "video 1/1 (frame 455/570) /Users/dongarisrikashyap/Downloads/Deep Machine Learning Project/After Augmentation/Project Aug n/../test3.mp4: 384x640 1 Helmet, 32.9ms\n",
      "video 1/1 (frame 456/570) /Users/dongarisrikashyap/Downloads/Deep Machine Learning Project/After Augmentation/Project Aug n/../test3.mp4: 384x640 1 Helmet, 34.9ms\n",
      "video 1/1 (frame 457/570) /Users/dongarisrikashyap/Downloads/Deep Machine Learning Project/After Augmentation/Project Aug n/../test3.mp4: 384x640 1 Helmet, 39.2ms\n",
      "video 1/1 (frame 458/570) /Users/dongarisrikashyap/Downloads/Deep Machine Learning Project/After Augmentation/Project Aug n/../test3.mp4: 384x640 1 Helmet, 47.4ms\n",
      "video 1/1 (frame 459/570) /Users/dongarisrikashyap/Downloads/Deep Machine Learning Project/After Augmentation/Project Aug n/../test3.mp4: 384x640 1 Helmet, 34.6ms\n",
      "video 1/1 (frame 460/570) /Users/dongarisrikashyap/Downloads/Deep Machine Learning Project/After Augmentation/Project Aug n/../test3.mp4: 384x640 1 Helmet, 32.9ms\n",
      "video 1/1 (frame 461/570) /Users/dongarisrikashyap/Downloads/Deep Machine Learning Project/After Augmentation/Project Aug n/../test3.mp4: 384x640 1 Helmet, 39.3ms\n",
      "video 1/1 (frame 462/570) /Users/dongarisrikashyap/Downloads/Deep Machine Learning Project/After Augmentation/Project Aug n/../test3.mp4: 384x640 1 Helmet, 38.0ms\n",
      "video 1/1 (frame 463/570) /Users/dongarisrikashyap/Downloads/Deep Machine Learning Project/After Augmentation/Project Aug n/../test3.mp4: 384x640 1 Helmet, 33.5ms\n",
      "video 1/1 (frame 464/570) /Users/dongarisrikashyap/Downloads/Deep Machine Learning Project/After Augmentation/Project Aug n/../test3.mp4: 384x640 1 Helmet, 34.3ms\n",
      "video 1/1 (frame 465/570) /Users/dongarisrikashyap/Downloads/Deep Machine Learning Project/After Augmentation/Project Aug n/../test3.mp4: 384x640 1 Helmet, 39.2ms\n",
      "video 1/1 (frame 466/570) /Users/dongarisrikashyap/Downloads/Deep Machine Learning Project/After Augmentation/Project Aug n/../test3.mp4: 384x640 1 Helmet, 43.0ms\n",
      "video 1/1 (frame 467/570) /Users/dongarisrikashyap/Downloads/Deep Machine Learning Project/After Augmentation/Project Aug n/../test3.mp4: 384x640 1 Helmet, 33.5ms\n",
      "video 1/1 (frame 468/570) /Users/dongarisrikashyap/Downloads/Deep Machine Learning Project/After Augmentation/Project Aug n/../test3.mp4: 384x640 1 Helmet, 33.2ms\n",
      "video 1/1 (frame 469/570) /Users/dongarisrikashyap/Downloads/Deep Machine Learning Project/After Augmentation/Project Aug n/../test3.mp4: 384x640 1 Helmet, 40.4ms\n",
      "video 1/1 (frame 470/570) /Users/dongarisrikashyap/Downloads/Deep Machine Learning Project/After Augmentation/Project Aug n/../test3.mp4: 384x640 1 Helmet, 40.7ms\n",
      "video 1/1 (frame 471/570) /Users/dongarisrikashyap/Downloads/Deep Machine Learning Project/After Augmentation/Project Aug n/../test3.mp4: 384x640 1 Helmet, 37.3ms\n",
      "video 1/1 (frame 472/570) /Users/dongarisrikashyap/Downloads/Deep Machine Learning Project/After Augmentation/Project Aug n/../test3.mp4: 384x640 1 Helmet, 33.2ms\n",
      "video 1/1 (frame 473/570) /Users/dongarisrikashyap/Downloads/Deep Machine Learning Project/After Augmentation/Project Aug n/../test3.mp4: 384x640 1 Helmet, 41.1ms\n",
      "video 1/1 (frame 474/570) /Users/dongarisrikashyap/Downloads/Deep Machine Learning Project/After Augmentation/Project Aug n/../test3.mp4: 384x640 1 Helmet, 37.5ms\n",
      "video 1/1 (frame 475/570) /Users/dongarisrikashyap/Downloads/Deep Machine Learning Project/After Augmentation/Project Aug n/../test3.mp4: 384x640 1 Helmet, 32.9ms\n",
      "video 1/1 (frame 476/570) /Users/dongarisrikashyap/Downloads/Deep Machine Learning Project/After Augmentation/Project Aug n/../test3.mp4: 384x640 1 Helmet, 34.3ms\n",
      "video 1/1 (frame 477/570) /Users/dongarisrikashyap/Downloads/Deep Machine Learning Project/After Augmentation/Project Aug n/../test3.mp4: 384x640 1 Helmet, 39.1ms\n",
      "video 1/1 (frame 478/570) /Users/dongarisrikashyap/Downloads/Deep Machine Learning Project/After Augmentation/Project Aug n/../test3.mp4: 384x640 1 Helmet, 42.9ms\n",
      "video 1/1 (frame 479/570) /Users/dongarisrikashyap/Downloads/Deep Machine Learning Project/After Augmentation/Project Aug n/../test3.mp4: 384x640 1 Helmet, 35.8ms\n",
      "video 1/1 (frame 480/570) /Users/dongarisrikashyap/Downloads/Deep Machine Learning Project/After Augmentation/Project Aug n/../test3.mp4: 384x640 1 Helmet, 33.4ms\n",
      "video 1/1 (frame 481/570) /Users/dongarisrikashyap/Downloads/Deep Machine Learning Project/After Augmentation/Project Aug n/../test3.mp4: 384x640 1 Helmet, 41.3ms\n",
      "video 1/1 (frame 482/570) /Users/dongarisrikashyap/Downloads/Deep Machine Learning Project/After Augmentation/Project Aug n/../test3.mp4: 384x640 1 Helmet, 39.7ms\n",
      "video 1/1 (frame 483/570) /Users/dongarisrikashyap/Downloads/Deep Machine Learning Project/After Augmentation/Project Aug n/../test3.mp4: 384x640 1 Helmet, 36.5ms\n",
      "video 1/1 (frame 484/570) /Users/dongarisrikashyap/Downloads/Deep Machine Learning Project/After Augmentation/Project Aug n/../test3.mp4: 384x640 1 Helmet, 32.7ms\n",
      "video 1/1 (frame 485/570) /Users/dongarisrikashyap/Downloads/Deep Machine Learning Project/After Augmentation/Project Aug n/../test3.mp4: 384x640 1 Helmet, 41.4ms\n",
      "video 1/1 (frame 486/570) /Users/dongarisrikashyap/Downloads/Deep Machine Learning Project/After Augmentation/Project Aug n/../test3.mp4: 384x640 1 Helmet, 40.5ms\n",
      "video 1/1 (frame 487/570) /Users/dongarisrikashyap/Downloads/Deep Machine Learning Project/After Augmentation/Project Aug n/../test3.mp4: 384x640 1 Helmet, 33.0ms\n",
      "video 1/1 (frame 488/570) /Users/dongarisrikashyap/Downloads/Deep Machine Learning Project/After Augmentation/Project Aug n/../test3.mp4: 384x640 1 Helmet, 35.4ms\n",
      "video 1/1 (frame 489/570) /Users/dongarisrikashyap/Downloads/Deep Machine Learning Project/After Augmentation/Project Aug n/../test3.mp4: 384x640 1 Helmet, 39.7ms\n",
      "video 1/1 (frame 490/570) /Users/dongarisrikashyap/Downloads/Deep Machine Learning Project/After Augmentation/Project Aug n/../test3.mp4: 384x640 1 Helmet, 38.1ms\n",
      "video 1/1 (frame 491/570) /Users/dongarisrikashyap/Downloads/Deep Machine Learning Project/After Augmentation/Project Aug n/../test3.mp4: 384x640 1 Helmet, 34.0ms\n",
      "video 1/1 (frame 492/570) /Users/dongarisrikashyap/Downloads/Deep Machine Learning Project/After Augmentation/Project Aug n/../test3.mp4: 384x640 1 Helmet, 31.8ms\n",
      "video 1/1 (frame 493/570) /Users/dongarisrikashyap/Downloads/Deep Machine Learning Project/After Augmentation/Project Aug n/../test3.mp4: 384x640 1 Helmet, 41.6ms\n",
      "video 1/1 (frame 494/570) /Users/dongarisrikashyap/Downloads/Deep Machine Learning Project/After Augmentation/Project Aug n/../test3.mp4: 384x640 1 Helmet, 35.2ms\n",
      "video 1/1 (frame 495/570) /Users/dongarisrikashyap/Downloads/Deep Machine Learning Project/After Augmentation/Project Aug n/../test3.mp4: 384x640 1 Helmet, 33.4ms\n",
      "video 1/1 (frame 496/570) /Users/dongarisrikashyap/Downloads/Deep Machine Learning Project/After Augmentation/Project Aug n/../test3.mp4: 384x640 1 Helmet, 31.8ms\n",
      "video 1/1 (frame 497/570) /Users/dongarisrikashyap/Downloads/Deep Machine Learning Project/After Augmentation/Project Aug n/../test3.mp4: 384x640 1 Helmet, 40.1ms\n",
      "video 1/1 (frame 498/570) /Users/dongarisrikashyap/Downloads/Deep Machine Learning Project/After Augmentation/Project Aug n/../test3.mp4: 384x640 1 Helmet, 41.7ms\n",
      "video 1/1 (frame 499/570) /Users/dongarisrikashyap/Downloads/Deep Machine Learning Project/After Augmentation/Project Aug n/../test3.mp4: 384x640 1 Helmet, 33.5ms\n",
      "video 1/1 (frame 500/570) /Users/dongarisrikashyap/Downloads/Deep Machine Learning Project/After Augmentation/Project Aug n/../test3.mp4: 384x640 1 Helmet, 34.2ms\n",
      "video 1/1 (frame 501/570) /Users/dongarisrikashyap/Downloads/Deep Machine Learning Project/After Augmentation/Project Aug n/../test3.mp4: 384x640 1 Helmet, 39.1ms\n",
      "video 1/1 (frame 502/570) /Users/dongarisrikashyap/Downloads/Deep Machine Learning Project/After Augmentation/Project Aug n/../test3.mp4: 384x640 1 Helmet, 38.3ms\n",
      "video 1/1 (frame 503/570) /Users/dongarisrikashyap/Downloads/Deep Machine Learning Project/After Augmentation/Project Aug n/../test3.mp4: 384x640 1 Helmet, 36.4ms\n",
      "video 1/1 (frame 504/570) /Users/dongarisrikashyap/Downloads/Deep Machine Learning Project/After Augmentation/Project Aug n/../test3.mp4: 384x640 1 Helmet, 33.1ms\n",
      "video 1/1 (frame 505/570) /Users/dongarisrikashyap/Downloads/Deep Machine Learning Project/After Augmentation/Project Aug n/../test3.mp4: 384x640 1 Helmet, 40.9ms\n",
      "video 1/1 (frame 506/570) /Users/dongarisrikashyap/Downloads/Deep Machine Learning Project/After Augmentation/Project Aug n/../test3.mp4: 384x640 1 Helmet, 36.7ms\n",
      "video 1/1 (frame 507/570) /Users/dongarisrikashyap/Downloads/Deep Machine Learning Project/After Augmentation/Project Aug n/../test3.mp4: 384x640 1 Helmet, 32.6ms\n",
      "video 1/1 (frame 508/570) /Users/dongarisrikashyap/Downloads/Deep Machine Learning Project/After Augmentation/Project Aug n/../test3.mp4: 384x640 1 Helmet, 34.9ms\n",
      "video 1/1 (frame 509/570) /Users/dongarisrikashyap/Downloads/Deep Machine Learning Project/After Augmentation/Project Aug n/../test3.mp4: 384x640 1 Helmet, 39.9ms\n",
      "video 1/1 (frame 510/570) /Users/dongarisrikashyap/Downloads/Deep Machine Learning Project/After Augmentation/Project Aug n/../test3.mp4: 384x640 1 Helmet, 40.2ms\n",
      "video 1/1 (frame 511/570) /Users/dongarisrikashyap/Downloads/Deep Machine Learning Project/After Augmentation/Project Aug n/../test3.mp4: 384x640 1 Helmet, 33.9ms\n",
      "video 1/1 (frame 512/570) /Users/dongarisrikashyap/Downloads/Deep Machine Learning Project/After Augmentation/Project Aug n/../test3.mp4: 384x640 1 Helmet, 34.3ms\n",
      "video 1/1 (frame 513/570) /Users/dongarisrikashyap/Downloads/Deep Machine Learning Project/After Augmentation/Project Aug n/../test3.mp4: 384x640 1 Helmet, 41.2ms\n",
      "video 1/1 (frame 514/570) /Users/dongarisrikashyap/Downloads/Deep Machine Learning Project/After Augmentation/Project Aug n/../test3.mp4: 384x640 1 Helmet, 36.2ms\n",
      "video 1/1 (frame 515/570) /Users/dongarisrikashyap/Downloads/Deep Machine Learning Project/After Augmentation/Project Aug n/../test3.mp4: 384x640 1 Helmet, 32.9ms\n",
      "video 1/1 (frame 516/570) /Users/dongarisrikashyap/Downloads/Deep Machine Learning Project/After Augmentation/Project Aug n/../test3.mp4: 384x640 1 Helmet, 34.2ms\n",
      "video 1/1 (frame 517/570) /Users/dongarisrikashyap/Downloads/Deep Machine Learning Project/After Augmentation/Project Aug n/../test3.mp4: 384x640 1 Helmet, 38.6ms\n",
      "video 1/1 (frame 518/570) /Users/dongarisrikashyap/Downloads/Deep Machine Learning Project/After Augmentation/Project Aug n/../test3.mp4: 384x640 1 Helmet, 37.9ms\n",
      "video 1/1 (frame 519/570) /Users/dongarisrikashyap/Downloads/Deep Machine Learning Project/After Augmentation/Project Aug n/../test3.mp4: 384x640 1 Helmet, 33.5ms\n",
      "video 1/1 (frame 520/570) /Users/dongarisrikashyap/Downloads/Deep Machine Learning Project/After Augmentation/Project Aug n/../test3.mp4: 384x640 1 Helmet, 32.9ms\n",
      "video 1/1 (frame 521/570) /Users/dongarisrikashyap/Downloads/Deep Machine Learning Project/After Augmentation/Project Aug n/../test3.mp4: 384x640 1 Helmet, 40.7ms\n",
      "Speed: 1.3ms preprocess, 37.9ms inference, 0.4ms postprocess per image at shape (1, 3, 384, 640)\n",
      "Results saved to \u001b[1mruns/detect/predict2\u001b[0m\n",
      "💡 Learn more at https://docs.ultralytics.com/modes/predict\n",
      "Ultralytics 8.3.136 🚀 Python-3.12.2 torch-2.6.0 CPU (Apple M2)\n",
      "Model summary (fused): 72 layers, 3,006,428 parameters, 0 gradients, 8.1 GFLOPs\n",
      "\n",
      "video 1/1 (frame 1/772) /Users/dongarisrikashyap/Downloads/Deep Machine Learning Project/After Augmentation/Project Aug n/../test4.mp4: 384x640 1 Safety_vest, 1 Helmet, 43.6ms\n",
      "video 1/1 (frame 2/772) /Users/dongarisrikashyap/Downloads/Deep Machine Learning Project/After Augmentation/Project Aug n/../test4.mp4: 384x640 1 Safety_vest, 1 Helmet, 49.2ms\n",
      "video 1/1 (frame 3/772) /Users/dongarisrikashyap/Downloads/Deep Machine Learning Project/After Augmentation/Project Aug n/../test4.mp4: 384x640 1 Safety_vest, 1 Helmet, 41.2ms\n",
      "video 1/1 (frame 4/772) /Users/dongarisrikashyap/Downloads/Deep Machine Learning Project/After Augmentation/Project Aug n/../test4.mp4: 384x640 1 Safety_vest, 1 Helmet, 1 Mobile, 45.5ms\n",
      "video 1/1 (frame 5/772) /Users/dongarisrikashyap/Downloads/Deep Machine Learning Project/After Augmentation/Project Aug n/../test4.mp4: 384x640 1 Safety_vest, 1 Helmet, 1 Mobile, 42.3ms\n",
      "video 1/1 (frame 6/772) /Users/dongarisrikashyap/Downloads/Deep Machine Learning Project/After Augmentation/Project Aug n/../test4.mp4: 384x640 1 Safety_vest, 1 Helmet, 1 Mobile, 1 Cigarettes, 40.5ms\n",
      "video 1/1 (frame 7/772) /Users/dongarisrikashyap/Downloads/Deep Machine Learning Project/After Augmentation/Project Aug n/../test4.mp4: 384x640 1 Safety_vest, 1 Helmet, 1 Mobile, 1 Cigarettes, 37.9ms\n",
      "video 1/1 (frame 8/772) /Users/dongarisrikashyap/Downloads/Deep Machine Learning Project/After Augmentation/Project Aug n/../test4.mp4: 384x640 1 Safety_vest, 1 Helmet, 1 Mobile, 2 Cigarettess, 35.4ms\n",
      "video 1/1 (frame 9/772) /Users/dongarisrikashyap/Downloads/Deep Machine Learning Project/After Augmentation/Project Aug n/../test4.mp4: 384x640 1 Safety_vest, 1 Helmet, 1 Mobile, 1 Cigarettes, 34.8ms\n",
      "video 1/1 (frame 10/772) /Users/dongarisrikashyap/Downloads/Deep Machine Learning Project/After Augmentation/Project Aug n/../test4.mp4: 384x640 1 Safety_vest, 1 Helmet, 1 Mobile, 1 Cigarettes, 36.5ms\n",
      "video 1/1 (frame 11/772) /Users/dongarisrikashyap/Downloads/Deep Machine Learning Project/After Augmentation/Project Aug n/../test4.mp4: 384x640 1 Safety_vest, 1 Helmet, 1 Mobile, 1 Cigarettes, 35.1ms\n",
      "video 1/1 (frame 12/772) /Users/dongarisrikashyap/Downloads/Deep Machine Learning Project/After Augmentation/Project Aug n/../test4.mp4: 384x640 1 Safety_vest, 1 Helmet, 1 Cigarettes, 37.9ms\n",
      "video 1/1 (frame 13/772) /Users/dongarisrikashyap/Downloads/Deep Machine Learning Project/After Augmentation/Project Aug n/../test4.mp4: 384x640 1 Safety_vest, 1 Helmet, 1 Cigarettes, 41.2ms\n",
      "video 1/1 (frame 14/772) /Users/dongarisrikashyap/Downloads/Deep Machine Learning Project/After Augmentation/Project Aug n/../test4.mp4: 384x640 1 Safety_vest, 1 Helmet, 2 Cigarettess, 42.5ms\n",
      "video 1/1 (frame 15/772) /Users/dongarisrikashyap/Downloads/Deep Machine Learning Project/After Augmentation/Project Aug n/../test4.mp4: 384x640 1 Safety_vest, 1 Helmet, 2 Cigarettess, 38.1ms\n",
      "video 1/1 (frame 16/772) /Users/dongarisrikashyap/Downloads/Deep Machine Learning Project/After Augmentation/Project Aug n/../test4.mp4: 384x640 1 Safety_vest, 1 Helmet, 2 Cigarettess, 34.6ms\n",
      "video 1/1 (frame 17/772) /Users/dongarisrikashyap/Downloads/Deep Machine Learning Project/After Augmentation/Project Aug n/../test4.mp4: 384x640 1 Safety_vest, 1 Helmet, 1 Cigarettes, 38.3ms\n",
      "video 1/1 (frame 18/772) /Users/dongarisrikashyap/Downloads/Deep Machine Learning Project/After Augmentation/Project Aug n/../test4.mp4: 384x640 1 Safety_vest, 1 Helmet, 2 Cigarettess, 33.3ms\n",
      "video 1/1 (frame 19/772) /Users/dongarisrikashyap/Downloads/Deep Machine Learning Project/After Augmentation/Project Aug n/../test4.mp4: 384x640 1 Safety_vest, 1 Helmet, 1 Cigarettes, 32.2ms\n",
      "video 1/1 (frame 20/772) /Users/dongarisrikashyap/Downloads/Deep Machine Learning Project/After Augmentation/Project Aug n/../test4.mp4: 384x640 1 Safety_vest, 1 Helmet, 2 Cigarettess, 36.7ms\n",
      "video 1/1 (frame 21/772) /Users/dongarisrikashyap/Downloads/Deep Machine Learning Project/After Augmentation/Project Aug n/../test4.mp4: 384x640 1 Safety_vest, 1 Helmet, 2 Cigarettess, 33.0ms\n",
      "video 1/1 (frame 22/772) /Users/dongarisrikashyap/Downloads/Deep Machine Learning Project/After Augmentation/Project Aug n/../test4.mp4: 384x640 1 Safety_vest, 1 Helmet, 2 Cigarettess, 33.3ms\n",
      "video 1/1 (frame 23/772) /Users/dongarisrikashyap/Downloads/Deep Machine Learning Project/After Augmentation/Project Aug n/../test4.mp4: 384x640 1 Safety_vest, 1 Helmet, 1 Cigarettes, 35.2ms\n",
      "video 1/1 (frame 24/772) /Users/dongarisrikashyap/Downloads/Deep Machine Learning Project/After Augmentation/Project Aug n/../test4.mp4: 384x640 1 Safety_vest, 1 Helmet, 1 Cigarettes, 33.2ms\n",
      "video 1/1 (frame 25/772) /Users/dongarisrikashyap/Downloads/Deep Machine Learning Project/After Augmentation/Project Aug n/../test4.mp4: 384x640 1 Safety_vest, 1 Helmet, 1 Cigarettes, 40.5ms\n",
      "video 1/1 (frame 26/772) /Users/dongarisrikashyap/Downloads/Deep Machine Learning Project/After Augmentation/Project Aug n/../test4.mp4: 384x640 1 Safety_vest, 1 Helmet, 1 Mobile, 35.3ms\n",
      "video 1/1 (frame 27/772) /Users/dongarisrikashyap/Downloads/Deep Machine Learning Project/After Augmentation/Project Aug n/../test4.mp4: 384x640 1 Safety_vest, 1 Helmet, 1 Mobile, 37.9ms\n",
      "video 1/1 (frame 28/772) /Users/dongarisrikashyap/Downloads/Deep Machine Learning Project/After Augmentation/Project Aug n/../test4.mp4: 384x640 1 Safety_vest, 1 Helmet, 2 Mobiles, 55.3ms\n",
      "video 1/1 (frame 29/772) /Users/dongarisrikashyap/Downloads/Deep Machine Learning Project/After Augmentation/Project Aug n/../test4.mp4: 384x640 1 Safety_vest, 1 Helmet, 2 Mobiles, 39.3ms\n",
      "video 1/1 (frame 30/772) /Users/dongarisrikashyap/Downloads/Deep Machine Learning Project/After Augmentation/Project Aug n/../test4.mp4: 384x640 1 Safety_vest, 1 Helmet, 2 Mobiles, 38.9ms\n",
      "video 1/1 (frame 31/772) /Users/dongarisrikashyap/Downloads/Deep Machine Learning Project/After Augmentation/Project Aug n/../test4.mp4: 384x640 1 Safety_vest, 1 Helmet, 2 Mobiles, 33.5ms\n",
      "video 1/1 (frame 32/772) /Users/dongarisrikashyap/Downloads/Deep Machine Learning Project/After Augmentation/Project Aug n/../test4.mp4: 384x640 1 Safety_vest, 1 Helmet, 2 Mobiles, 28.5ms\n",
      "video 1/1 (frame 33/772) /Users/dongarisrikashyap/Downloads/Deep Machine Learning Project/After Augmentation/Project Aug n/../test4.mp4: 384x640 1 Safety_vest, 1 Helmet, 2 Mobiles, 32.5ms\n",
      "video 1/1 (frame 34/772) /Users/dongarisrikashyap/Downloads/Deep Machine Learning Project/After Augmentation/Project Aug n/../test4.mp4: 384x640 1 Safety_vest, 1 Helmet, 2 Mobiles, 30.9ms\n",
      "video 1/1 (frame 35/772) /Users/dongarisrikashyap/Downloads/Deep Machine Learning Project/After Augmentation/Project Aug n/../test4.mp4: 384x640 1 Safety_vest, 1 Helmet, 2 Mobiles, 29.6ms\n",
      "video 1/1 (frame 36/772) /Users/dongarisrikashyap/Downloads/Deep Machine Learning Project/After Augmentation/Project Aug n/../test4.mp4: 384x640 1 Safety_vest, 1 Helmet, 1 Mobile, 32.3ms\n",
      "video 1/1 (frame 37/772) /Users/dongarisrikashyap/Downloads/Deep Machine Learning Project/After Augmentation/Project Aug n/../test4.mp4: 384x640 1 Safety_vest, 1 Helmet, 1 Mobile, 28.7ms\n",
      "video 1/1 (frame 38/772) /Users/dongarisrikashyap/Downloads/Deep Machine Learning Project/After Augmentation/Project Aug n/../test4.mp4: 384x640 1 Safety_vest, 1 Helmet, 1 Mobile, 28.8ms\n",
      "video 1/1 (frame 39/772) /Users/dongarisrikashyap/Downloads/Deep Machine Learning Project/After Augmentation/Project Aug n/../test4.mp4: 384x640 1 Safety_vest, 1 Helmet, 1 Mobile, 31.0ms\n",
      "video 1/1 (frame 40/772) /Users/dongarisrikashyap/Downloads/Deep Machine Learning Project/After Augmentation/Project Aug n/../test4.mp4: 384x640 1 Safety_vest, 1 Helmet, 32.4ms\n",
      "video 1/1 (frame 41/772) /Users/dongarisrikashyap/Downloads/Deep Machine Learning Project/After Augmentation/Project Aug n/../test4.mp4: 384x640 1 Safety_vest, 1 Helmet, 28.6ms\n",
      "video 1/1 (frame 42/772) /Users/dongarisrikashyap/Downloads/Deep Machine Learning Project/After Augmentation/Project Aug n/../test4.mp4: 384x640 1 Safety_vest, 1 Helmet, 27.9ms\n",
      "video 1/1 (frame 43/772) /Users/dongarisrikashyap/Downloads/Deep Machine Learning Project/After Augmentation/Project Aug n/../test4.mp4: 384x640 1 Safety_vest, 1 Helmet, 41.0ms\n",
      "video 1/1 (frame 44/772) /Users/dongarisrikashyap/Downloads/Deep Machine Learning Project/After Augmentation/Project Aug n/../test4.mp4: 384x640 1 Safety_vest, 1 Helmet, 39.1ms\n",
      "video 1/1 (frame 45/772) /Users/dongarisrikashyap/Downloads/Deep Machine Learning Project/After Augmentation/Project Aug n/../test4.mp4: 384x640 1 Safety_vest, 1 Helmet, 43.0ms\n",
      "video 1/1 (frame 46/772) /Users/dongarisrikashyap/Downloads/Deep Machine Learning Project/After Augmentation/Project Aug n/../test4.mp4: 384x640 1 Safety_vest, 1 Helmet, 1 Cigarettes, 39.3ms\n",
      "video 1/1 (frame 47/772) /Users/dongarisrikashyap/Downloads/Deep Machine Learning Project/After Augmentation/Project Aug n/../test4.mp4: 384x640 1 Safety_vest, 1 Helmet, 1 Cigarettes, 39.6ms\n",
      "video 1/1 (frame 48/772) /Users/dongarisrikashyap/Downloads/Deep Machine Learning Project/After Augmentation/Project Aug n/../test4.mp4: 384x640 1 Safety_vest, 1 Helmet, 1 Cigarettes, 44.1ms\n",
      "video 1/1 (frame 49/772) /Users/dongarisrikashyap/Downloads/Deep Machine Learning Project/After Augmentation/Project Aug n/../test4.mp4: 384x640 1 Safety_vest, 1 Helmet, 1 Cigarettes, 43.0ms\n",
      "video 1/1 (frame 50/772) /Users/dongarisrikashyap/Downloads/Deep Machine Learning Project/After Augmentation/Project Aug n/../test4.mp4: 384x640 1 Safety_vest, 1 Helmet, 44.0ms\n",
      "video 1/1 (frame 51/772) /Users/dongarisrikashyap/Downloads/Deep Machine Learning Project/After Augmentation/Project Aug n/../test4.mp4: 384x640 1 Safety_vest, 1 Helmet, 36.9ms\n",
      "video 1/1 (frame 52/772) /Users/dongarisrikashyap/Downloads/Deep Machine Learning Project/After Augmentation/Project Aug n/../test4.mp4: 384x640 1 Safety_vest, 1 Helmet, 1 Mobile, 44.2ms\n",
      "video 1/1 (frame 53/772) /Users/dongarisrikashyap/Downloads/Deep Machine Learning Project/After Augmentation/Project Aug n/../test4.mp4: 384x640 1 Safety_vest, 1 Helmet, 1 Mobile, 43.0ms\n",
      "video 1/1 (frame 54/772) /Users/dongarisrikashyap/Downloads/Deep Machine Learning Project/After Augmentation/Project Aug n/../test4.mp4: 384x640 1 Safety_vest, 1 Helmet, 3 Mobiles, 1 Cigarettes, 38.5ms\n",
      "video 1/1 (frame 55/772) /Users/dongarisrikashyap/Downloads/Deep Machine Learning Project/After Augmentation/Project Aug n/../test4.mp4: 384x640 1 Safety_vest, 1 Helmet, 3 Mobiles, 1 Cigarettes, 39.5ms\n",
      "video 1/1 (frame 56/772) /Users/dongarisrikashyap/Downloads/Deep Machine Learning Project/After Augmentation/Project Aug n/../test4.mp4: 384x640 1 Safety_vest, 1 Helmet, 2 Mobiles, 1 Cigarettes, 43.3ms\n",
      "video 1/1 (frame 57/772) /Users/dongarisrikashyap/Downloads/Deep Machine Learning Project/After Augmentation/Project Aug n/../test4.mp4: 384x640 1 Safety_vest, 1 Helmet, 2 Mobiles, 1 Cigarettes, 44.2ms\n",
      "video 1/1 (frame 58/772) /Users/dongarisrikashyap/Downloads/Deep Machine Learning Project/After Augmentation/Project Aug n/../test4.mp4: 384x640 1 Safety_vest, 1 Helmet, 3 Mobiles, 40.3ms\n",
      "video 1/1 (frame 59/772) /Users/dongarisrikashyap/Downloads/Deep Machine Learning Project/After Augmentation/Project Aug n/../test4.mp4: 384x640 1 Safety_vest, 1 Helmet, 3 Mobiles, 36.7ms\n",
      "video 1/1 (frame 60/772) /Users/dongarisrikashyap/Downloads/Deep Machine Learning Project/After Augmentation/Project Aug n/../test4.mp4: 384x640 1 Safety_vest, 1 Helmet, 2 Mobiles, 43.5ms\n",
      "video 1/1 (frame 61/772) /Users/dongarisrikashyap/Downloads/Deep Machine Learning Project/After Augmentation/Project Aug n/../test4.mp4: 384x640 1 Safety_vest, 1 Helmet, 2 Mobiles, 44.0ms\n",
      "video 1/1 (frame 62/772) /Users/dongarisrikashyap/Downloads/Deep Machine Learning Project/After Augmentation/Project Aug n/../test4.mp4: 384x640 1 Safety_vest, 1 Helmet, 2 Mobiles, 39.2ms\n",
      "video 1/1 (frame 63/772) /Users/dongarisrikashyap/Downloads/Deep Machine Learning Project/After Augmentation/Project Aug n/../test4.mp4: 384x640 1 Safety_vest, 1 Helmet, 2 Mobiles, 37.6ms\n",
      "video 1/1 (frame 64/772) /Users/dongarisrikashyap/Downloads/Deep Machine Learning Project/After Augmentation/Project Aug n/../test4.mp4: 384x640 1 Safety_vest, 1 Helmet, 2 Mobiles, 44.2ms\n",
      "video 1/1 (frame 65/772) /Users/dongarisrikashyap/Downloads/Deep Machine Learning Project/After Augmentation/Project Aug n/../test4.mp4: 384x640 1 Safety_vest, 1 Helmet, 2 Mobiles, 43.9ms\n",
      "video 1/1 (frame 66/772) /Users/dongarisrikashyap/Downloads/Deep Machine Learning Project/After Augmentation/Project Aug n/../test4.mp4: 384x640 1 Safety_vest, 1 Helmet, 3 Mobiles, 39.4ms\n",
      "video 1/1 (frame 67/772) /Users/dongarisrikashyap/Downloads/Deep Machine Learning Project/After Augmentation/Project Aug n/../test4.mp4: 384x640 1 Safety_vest, 1 Helmet, 3 Mobiles, 38.2ms\n",
      "video 1/1 (frame 68/772) /Users/dongarisrikashyap/Downloads/Deep Machine Learning Project/After Augmentation/Project Aug n/../test4.mp4: 384x640 1 Safety_vest, 1 Helmet, 3 Mobiles, 43.5ms\n",
      "video 1/1 (frame 69/772) /Users/dongarisrikashyap/Downloads/Deep Machine Learning Project/After Augmentation/Project Aug n/../test4.mp4: 384x640 1 Safety_vest, 1 Helmet, 3 Mobiles, 43.5ms\n",
      "video 1/1 (frame 70/772) /Users/dongarisrikashyap/Downloads/Deep Machine Learning Project/After Augmentation/Project Aug n/../test4.mp4: 384x640 1 Safety_vest, 1 Helmet, 2 Mobiles, 37.0ms\n",
      "video 1/1 (frame 71/772) /Users/dongarisrikashyap/Downloads/Deep Machine Learning Project/After Augmentation/Project Aug n/../test4.mp4: 384x640 1 Safety_vest, 1 Helmet, 2 Mobiles, 36.7ms\n",
      "video 1/1 (frame 72/772) /Users/dongarisrikashyap/Downloads/Deep Machine Learning Project/After Augmentation/Project Aug n/../test4.mp4: 384x640 1 Safety_vest, 1 Helmet, 1 Mobile, 41.0ms\n",
      "video 1/1 (frame 73/772) /Users/dongarisrikashyap/Downloads/Deep Machine Learning Project/After Augmentation/Project Aug n/../test4.mp4: 384x640 1 Safety_vest, 1 Helmet, 1 Mobile, 42.1ms\n",
      "video 1/1 (frame 74/772) /Users/dongarisrikashyap/Downloads/Deep Machine Learning Project/After Augmentation/Project Aug n/../test4.mp4: 384x640 1 Safety_vest, 1 Helmet, 1 Mobile, 40.8ms\n",
      "video 1/1 (frame 75/772) /Users/dongarisrikashyap/Downloads/Deep Machine Learning Project/After Augmentation/Project Aug n/../test4.mp4: 384x640 1 Safety_vest, 1 Helmet, 1 Mobile, 37.8ms\n",
      "video 1/1 (frame 76/772) /Users/dongarisrikashyap/Downloads/Deep Machine Learning Project/After Augmentation/Project Aug n/../test4.mp4: 384x640 1 Safety_vest, 1 Helmet, 1 Mobile, 40.1ms\n",
      "video 1/1 (frame 77/772) /Users/dongarisrikashyap/Downloads/Deep Machine Learning Project/After Augmentation/Project Aug n/../test4.mp4: 384x640 1 Safety_vest, 1 Helmet, 1 Mobile, 41.3ms\n",
      "video 1/1 (frame 78/772) /Users/dongarisrikashyap/Downloads/Deep Machine Learning Project/After Augmentation/Project Aug n/../test4.mp4: 384x640 1 Safety_vest, 1 Helmet, 1 Mobile, 37.1ms\n",
      "video 1/1 (frame 79/772) /Users/dongarisrikashyap/Downloads/Deep Machine Learning Project/After Augmentation/Project Aug n/../test4.mp4: 384x640 1 Safety_vest, 1 Helmet, 1 Mobile, 35.0ms\n",
      "video 1/1 (frame 80/772) /Users/dongarisrikashyap/Downloads/Deep Machine Learning Project/After Augmentation/Project Aug n/../test4.mp4: 384x640 1 Safety_vest, 1 Helmet, 1 Mobile, 43.7ms\n",
      "video 1/1 (frame 81/772) /Users/dongarisrikashyap/Downloads/Deep Machine Learning Project/After Augmentation/Project Aug n/../test4.mp4: 384x640 1 Safety_vest, 1 Helmet, 1 Mobile, 43.1ms\n",
      "video 1/1 (frame 82/772) /Users/dongarisrikashyap/Downloads/Deep Machine Learning Project/After Augmentation/Project Aug n/../test4.mp4: 384x640 1 Safety_vest, 1 Helmet, 36.6ms\n",
      "video 1/1 (frame 83/772) /Users/dongarisrikashyap/Downloads/Deep Machine Learning Project/After Augmentation/Project Aug n/../test4.mp4: 384x640 1 Safety_vest, 1 Helmet, 35.3ms\n",
      "video 1/1 (frame 84/772) /Users/dongarisrikashyap/Downloads/Deep Machine Learning Project/After Augmentation/Project Aug n/../test4.mp4: 384x640 1 Safety_vest, 1 Helmet, 42.5ms\n",
      "video 1/1 (frame 85/772) /Users/dongarisrikashyap/Downloads/Deep Machine Learning Project/After Augmentation/Project Aug n/../test4.mp4: 384x640 1 Safety_vest, 1 Helmet, 44.3ms\n",
      "video 1/1 (frame 86/772) /Users/dongarisrikashyap/Downloads/Deep Machine Learning Project/After Augmentation/Project Aug n/../test4.mp4: 384x640 1 Safety_vest, 1 Helmet, 38.0ms\n",
      "video 1/1 (frame 87/772) /Users/dongarisrikashyap/Downloads/Deep Machine Learning Project/After Augmentation/Project Aug n/../test4.mp4: 384x640 1 Safety_vest, 1 Helmet, 40.5ms\n",
      "video 1/1 (frame 88/772) /Users/dongarisrikashyap/Downloads/Deep Machine Learning Project/After Augmentation/Project Aug n/../test4.mp4: 384x640 1 Safety_vest, 1 Helmet, 1 Mobile, 38.2ms\n",
      "video 1/1 (frame 89/772) /Users/dongarisrikashyap/Downloads/Deep Machine Learning Project/After Augmentation/Project Aug n/../test4.mp4: 384x640 1 Safety_vest, 1 Helmet, 1 Mobile, 43.6ms\n",
      "video 1/1 (frame 90/772) /Users/dongarisrikashyap/Downloads/Deep Machine Learning Project/After Augmentation/Project Aug n/../test4.mp4: 384x640 1 Safety_vest, 1 Helmet, 2 Mobiles, 36.2ms\n",
      "video 1/1 (frame 91/772) /Users/dongarisrikashyap/Downloads/Deep Machine Learning Project/After Augmentation/Project Aug n/../test4.mp4: 384x640 1 Safety_vest, 1 Helmet, 2 Mobiles, 42.7ms\n",
      "video 1/1 (frame 92/772) /Users/dongarisrikashyap/Downloads/Deep Machine Learning Project/After Augmentation/Project Aug n/../test4.mp4: 384x640 1 Safety_vest, 1 Helmet, 42.7ms\n",
      "video 1/1 (frame 93/772) /Users/dongarisrikashyap/Downloads/Deep Machine Learning Project/After Augmentation/Project Aug n/../test4.mp4: 384x640 1 Safety_vest, 1 Helmet, 38.2ms\n",
      "video 1/1 (frame 94/772) /Users/dongarisrikashyap/Downloads/Deep Machine Learning Project/After Augmentation/Project Aug n/../test4.mp4: 384x640 1 Safety_vest, 1 Helmet, 36.4ms\n",
      "video 1/1 (frame 95/772) /Users/dongarisrikashyap/Downloads/Deep Machine Learning Project/After Augmentation/Project Aug n/../test4.mp4: 384x640 1 Safety_vest, 1 Helmet, 46.3ms\n",
      "video 1/1 (frame 96/772) /Users/dongarisrikashyap/Downloads/Deep Machine Learning Project/After Augmentation/Project Aug n/../test4.mp4: 384x640 1 Safety_vest, 1 Helmet, 43.1ms\n",
      "video 1/1 (frame 97/772) /Users/dongarisrikashyap/Downloads/Deep Machine Learning Project/After Augmentation/Project Aug n/../test4.mp4: 384x640 1 Safety_vest, 1 Helmet, 43.4ms\n",
      "video 1/1 (frame 98/772) /Users/dongarisrikashyap/Downloads/Deep Machine Learning Project/After Augmentation/Project Aug n/../test4.mp4: 384x640 1 Safety_vest, 1 Helmet, 36.7ms\n",
      "video 1/1 (frame 99/772) /Users/dongarisrikashyap/Downloads/Deep Machine Learning Project/After Augmentation/Project Aug n/../test4.mp4: 384x640 1 Safety_vest, 1 Helmet, 43.4ms\n",
      "video 1/1 (frame 100/772) /Users/dongarisrikashyap/Downloads/Deep Machine Learning Project/After Augmentation/Project Aug n/../test4.mp4: 384x640 1 Safety_vest, 1 Helmet, 44.8ms\n",
      "video 1/1 (frame 101/772) /Users/dongarisrikashyap/Downloads/Deep Machine Learning Project/After Augmentation/Project Aug n/../test4.mp4: 384x640 1 Safety_vest, 1 Helmet, 39.6ms\n",
      "video 1/1 (frame 102/772) /Users/dongarisrikashyap/Downloads/Deep Machine Learning Project/After Augmentation/Project Aug n/../test4.mp4: 384x640 1 Safety_vest, 1 Helmet, 32.9ms\n",
      "video 1/1 (frame 103/772) /Users/dongarisrikashyap/Downloads/Deep Machine Learning Project/After Augmentation/Project Aug n/../test4.mp4: 384x640 1 Safety_vest, 1 Helmet, 41.7ms\n",
      "video 1/1 (frame 104/772) /Users/dongarisrikashyap/Downloads/Deep Machine Learning Project/After Augmentation/Project Aug n/../test4.mp4: 384x640 1 Safety_vest, 1 Helmet, 40.3ms\n",
      "video 1/1 (frame 105/772) /Users/dongarisrikashyap/Downloads/Deep Machine Learning Project/After Augmentation/Project Aug n/../test4.mp4: 384x640 1 Safety_vest, 1 Helmet, 47.0ms\n",
      "video 1/1 (frame 106/772) /Users/dongarisrikashyap/Downloads/Deep Machine Learning Project/After Augmentation/Project Aug n/../test4.mp4: 384x640 1 Safety_vest, 1 Helmet, 41.1ms\n",
      "video 1/1 (frame 107/772) /Users/dongarisrikashyap/Downloads/Deep Machine Learning Project/After Augmentation/Project Aug n/../test4.mp4: 384x640 1 Safety_vest, 1 Helmet, 42.4ms\n",
      "video 1/1 (frame 108/772) /Users/dongarisrikashyap/Downloads/Deep Machine Learning Project/After Augmentation/Project Aug n/../test4.mp4: 384x640 1 Safety_vest, 1 Helmet, 41.3ms\n",
      "video 1/1 (frame 109/772) /Users/dongarisrikashyap/Downloads/Deep Machine Learning Project/After Augmentation/Project Aug n/../test4.mp4: 384x640 1 Safety_vest, 1 Helmet, 36.8ms\n",
      "video 1/1 (frame 110/772) /Users/dongarisrikashyap/Downloads/Deep Machine Learning Project/After Augmentation/Project Aug n/../test4.mp4: 384x640 1 Safety_vest, 1 Helmet, 1 Cigarettes, 35.7ms\n",
      "video 1/1 (frame 111/772) /Users/dongarisrikashyap/Downloads/Deep Machine Learning Project/After Augmentation/Project Aug n/../test4.mp4: 384x640 1 Safety_vest, 1 Helmet, 1 Cigarettes, 38.0ms\n",
      "video 1/1 (frame 112/772) /Users/dongarisrikashyap/Downloads/Deep Machine Learning Project/After Augmentation/Project Aug n/../test4.mp4: 384x640 1 Safety_vest, 1 Helmet, 40.7ms\n",
      "video 1/1 (frame 113/772) /Users/dongarisrikashyap/Downloads/Deep Machine Learning Project/After Augmentation/Project Aug n/../test4.mp4: 384x640 1 Safety_vest, 1 Helmet, 36.7ms\n",
      "video 1/1 (frame 114/772) /Users/dongarisrikashyap/Downloads/Deep Machine Learning Project/After Augmentation/Project Aug n/../test4.mp4: 384x640 1 Safety_vest, 1 Helmet, 33.9ms\n",
      "video 1/1 (frame 115/772) /Users/dongarisrikashyap/Downloads/Deep Machine Learning Project/After Augmentation/Project Aug n/../test4.mp4: 384x640 1 Safety_vest, 1 Helmet, 40.5ms\n",
      "video 1/1 (frame 116/772) /Users/dongarisrikashyap/Downloads/Deep Machine Learning Project/After Augmentation/Project Aug n/../test4.mp4: 384x640 1 Safety_vest, 1 Helmet, 1 Mobile, 40.9ms\n",
      "video 1/1 (frame 117/772) /Users/dongarisrikashyap/Downloads/Deep Machine Learning Project/After Augmentation/Project Aug n/../test4.mp4: 384x640 1 Safety_vest, 1 Helmet, 1 Mobile, 35.5ms\n",
      "video 1/1 (frame 118/772) /Users/dongarisrikashyap/Downloads/Deep Machine Learning Project/After Augmentation/Project Aug n/../test4.mp4: 384x640 1 Safety_vest, 1 Helmet, 1 Mobile, 34.6ms\n",
      "video 1/1 (frame 119/772) /Users/dongarisrikashyap/Downloads/Deep Machine Learning Project/After Augmentation/Project Aug n/../test4.mp4: 384x640 1 Safety_vest, 1 Helmet, 1 Mobile, 38.4ms\n",
      "video 1/1 (frame 120/772) /Users/dongarisrikashyap/Downloads/Deep Machine Learning Project/After Augmentation/Project Aug n/../test4.mp4: 384x640 1 Safety_vest, 1 Helmet, 1 Mobile, 42.1ms\n",
      "video 1/1 (frame 121/772) /Users/dongarisrikashyap/Downloads/Deep Machine Learning Project/After Augmentation/Project Aug n/../test4.mp4: 384x640 1 Safety_vest, 1 Helmet, 1 Mobile, 34.2ms\n",
      "video 1/1 (frame 122/772) /Users/dongarisrikashyap/Downloads/Deep Machine Learning Project/After Augmentation/Project Aug n/../test4.mp4: 384x640 1 Safety_vest, 1 Helmet, 36.5ms\n",
      "video 1/1 (frame 123/772) /Users/dongarisrikashyap/Downloads/Deep Machine Learning Project/After Augmentation/Project Aug n/../test4.mp4: 384x640 1 Safety_vest, 1 Helmet, 41.9ms\n",
      "video 1/1 (frame 124/772) /Users/dongarisrikashyap/Downloads/Deep Machine Learning Project/After Augmentation/Project Aug n/../test4.mp4: 384x640 1 Safety_vest, 1 Helmet, 43.3ms\n",
      "video 1/1 (frame 125/772) /Users/dongarisrikashyap/Downloads/Deep Machine Learning Project/After Augmentation/Project Aug n/../test4.mp4: 384x640 1 Safety_vest, 1 Helmet, 37.9ms\n",
      "video 1/1 (frame 126/772) /Users/dongarisrikashyap/Downloads/Deep Machine Learning Project/After Augmentation/Project Aug n/../test4.mp4: 384x640 1 Safety_vest, 1 Helmet, 37.1ms\n",
      "video 1/1 (frame 127/772) /Users/dongarisrikashyap/Downloads/Deep Machine Learning Project/After Augmentation/Project Aug n/../test4.mp4: 384x640 1 Safety_vest, 1 Helmet, 41.3ms\n",
      "video 1/1 (frame 128/772) /Users/dongarisrikashyap/Downloads/Deep Machine Learning Project/After Augmentation/Project Aug n/../test4.mp4: 384x640 1 Safety_vest, 1 Helmet, 44.7ms\n"
     ]
    }
   ],
   "source": [
    "!yolo task=detect mode=predict model=./runs/detect/unified_yolov8_augmented_v1n/weights/best.pt source=\"../test2.mp4\"\n",
    "!yolo task=detect mode=predict model=./runs/detect/unified_yolov8_augmented_v1n/weights/best.pt source=\"../test3.mp4\"\n",
    "!yolo task=detect mode=predict model=./runs/detect/unified_yolov8_augmented_v1n/weights/best.pt source=\"../test4.mp4\"\n",
    "!yolo task=detect mode=predict model=./runs/detect/unified_yolov8_augmented_v1n/weights/best.pt source=\"../test.mp4\"\n"
   ]
  },
  {
   "cell_type": "code",
   "execution_count": null,
   "id": "8a8d90c0-3d48-4043-9f81-219e85d5cd91",
   "metadata": {},
   "outputs": [],
   "source": []
  }
 ],
 "metadata": {
  "kernelspec": {
   "display_name": "Python 3 (ipykernel)",
   "language": "python",
   "name": "python3"
  },
  "language_info": {
   "codemirror_mode": {
    "name": "ipython",
    "version": 3
   },
   "file_extension": ".py",
   "mimetype": "text/x-python",
   "name": "python",
   "nbconvert_exporter": "python",
   "pygments_lexer": "ipython3",
   "version": "3.12.2"
  }
 },
 "nbformat": 4,
 "nbformat_minor": 5
}
